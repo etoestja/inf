{
 "cells": [
  {
   "cell_type": "markdown",
   "metadata": {},
   "source": [
    "# DL in NLP\n",
    "\n",
    "## Task 2: Classifying TED talks\n",
    "\n",
    "Sergei Volodin, senior undergraduate student at MIPT"
   ]
  },
  {
   "cell_type": "code",
   "execution_count": 1,
   "metadata": {
    "collapsed": true
   },
   "outputs": [],
   "source": [
    "%matplotlib inline\n",
    "import tensorflow as tf\n",
    "import json\n",
    "import numpy as np\n",
    "import pandas as pd\n",
    "import collections\n",
    "from __future__ import print_function\n",
    "import re\n",
    "import random\n",
    "import math\n",
    "from sklearn.manifold import TSNE\n",
    "from matplotlib import pylab\n",
    "from transliterate import translit\n",
    "from six.moves import range\n",
    "import sklearn.metrics\n",
    "import matplotlib.pyplot as plt\n",
    "from six.moves import cPickle as pickle\n",
    "from tqdm import tqdm"
   ]
  },
  {
   "cell_type": "code",
   "execution_count": 2,
   "metadata": {
    "collapsed": true
   },
   "outputs": [],
   "source": [
    "def print_unicode(ent):\n",
    "    print(repr(ent).decode(\"unicode-escape\"))"
   ]
  },
  {
   "cell_type": "code",
   "execution_count": 3,
   "metadata": {
    "collapsed": true
   },
   "outputs": [],
   "source": [
    "filename = 'ted_ru-20160408.json'\n",
    "data_test = json.loads(open(filename + '.test', 'r').read(), 'unicode-escape')\n",
    "data_train = json.loads(open(filename + '.train', 'r').read(), 'unicode-escape')"
   ]
  },
  {
   "cell_type": "markdown",
   "metadata": {},
   "source": [
    "Plan:\n",
    "\n",
    "1. Removing non-letters\n",
    "2. Obtaining words, training word2vec CBOW model\n",
    "3. Running RNN on document\n",
    "4. Classifying based on final output"
   ]
  },
  {
   "cell_type": "markdown",
   "metadata": {},
   "source": [
    "# Building dictionary"
   ]
  },
  {
   "cell_type": "code",
   "execution_count": 4,
   "metadata": {},
   "outputs": [],
   "source": [
    "vocabulary_size = 100000\n",
    "embedding_size = 256\n",
    "context_size = 4\n",
    "words_regex = re.compile(ur'[^а-яА-ЯёЁa-zA-Z]')\n",
    "\n",
    "def str_to_words(s):\n",
    "    return(words_regex.sub(' ', s).lower().split())\n",
    "\n",
    "def data_to_str(data):\n",
    "    return(' '.join(map(lambda x : x['content'], data_train)))\n",
    "\n",
    "def build_dataset(words, vocabulary_size):\n",
    "    count = [['UNK', -1]]\n",
    "    count.extend(collections.Counter(words).most_common(vocabulary_size - 1))\n",
    "    dictionary = dict()\n",
    "    for word, _ in count:\n",
    "        dictionary[word] = len(dictionary)\n",
    "    data = list()\n",
    "    unk_count = 0\n",
    "    for word in words:\n",
    "        if word in dictionary:\n",
    "            index = dictionary[word]\n",
    "        else:\n",
    "            index = 0\n",
    "            unk_count = unk_count + 1\n",
    "        data.append(index)\n",
    "    count[0][1] = unk_count\n",
    "    return data, count, dictionary"
   ]
  },
  {
   "cell_type": "code",
   "execution_count": 5,
   "metadata": {
    "collapsed": true
   },
   "outputs": [],
   "source": [
    "all_text = data_to_str(data_train)# + data_to_str(data_test)\n",
    "words = str_to_words(all_text)\n",
    "data, count, dictionary = build_dataset(words, vocabulary_size)"
   ]
  },
  {
   "cell_type": "code",
   "execution_count": 6,
   "metadata": {},
   "outputs": [
    {
     "name": "stdout",
     "output_type": "stream",
     "text": [
      "[['UNK', 50679], (u'и', 92090), (u'в', 83510), (u'что', 57304), (u'я', 47139)]\n",
      "[4, 49, 42333, 12866, 7686, 21, 4461, 740, 105, 31181]\n"
     ]
    }
   ],
   "source": [
    "print_unicode(count[:5])\n",
    "print_unicode(data[:10])"
   ]
  },
  {
   "cell_type": "markdown",
   "metadata": {},
   "source": [
    "# Pretraining CBOW word2vec embeddings"
   ]
  },
  {
   "cell_type": "code",
   "execution_count": 7,
   "metadata": {
    "collapsed": true
   },
   "outputs": [],
   "source": [
    "data_index = 0\n",
    "\n",
    "def to_range(n):\n",
    "    return(n % len(data))\n",
    "\n",
    "# CBOW model\n",
    "def generate_batch(batch_size, context_size):\n",
    "    global data_index\n",
    "  \n",
    "    data_index = to_range(data_index)\n",
    "    \n",
    "    batch = np.ndarray(shape=(batch_size, context_size * 2), dtype=np.int32)\n",
    "    labels = np.ndarray(shape=(batch_size, 1), dtype=np.int32)\n",
    "    \n",
    "    for i in range(batch_size):\n",
    "        labels[i] = data[data_index]\n",
    "        for j in range(0, context_size):\n",
    "            batch[i][2 * j] = data[to_range(data_index - (j + 1))]\n",
    "            batch[i][2 * j + 1] = data[to_range(data_index + (j + 1))]\n",
    "        data_index = to_range(data_index + 1)\n",
    "        \n",
    "    return batch, labels"
   ]
  },
  {
   "cell_type": "code",
   "execution_count": 30,
   "metadata": {
    "collapsed": true
   },
   "outputs": [],
   "source": [
    "batch_size = 128\n",
    "num_sampled = 256\n",
    "graph = tf.Graph()\n",
    "\n",
    "with graph.as_default(), tf.device('/cpu:0'):\n",
    "    train_dataset = tf.placeholder(tf.int32, shape=[batch_size, context_size * 2], name = \"train_dataset\")\n",
    "    train_labels = tf.placeholder(tf.int32, shape=[batch_size, 1], name = \"train_labels\")\n",
    "  \n",
    "    # Variables.\n",
    "    embeddings = tf.Variable(tf.random_uniform([vocabulary_size, embedding_size], -1.0, 1.0), name = \"embeddings\")\n",
    "    softmax_weights = tf.Variable(tf.truncated_normal([vocabulary_size, embedding_size],\n",
    "                         stddev=1.0 / math.sqrt(embedding_size)), name = \"SM_weights\")\n",
    "    softmax_biases = tf.Variable(tf.zeros([vocabulary_size]), name = \"SM_biases\")\n",
    "    \n",
    "    embed = tf.reduce_mean(tf.nn.embedding_lookup(embeddings, train_dataset), [1], name = \"emb_result\")\n",
    "    loss = tf.reduce_mean(\n",
    "      tf.nn.sampled_softmax_loss(weights=softmax_weights, biases=softmax_biases, inputs=embed,\n",
    "                               labels=train_labels, num_sampled=num_sampled, num_classes=vocabulary_size), name = \"loss\")\n",
    "\n",
    "  \n",
    "    optimizer = tf.train.AdagradOptimizer(1.0).minimize(loss)\n",
    "    \n",
    "    norm = tf.sqrt(tf.reduce_sum(tf.square(embeddings), 1, keep_dims=True))\n",
    "    normalized_embeddings = embeddings / norm\n",
    "    \n",
    "    tf.summary.scalar(\"Embedding_loss\", loss)\n",
    "    summary_emb = tf.summary.merge_all()"
   ]
  },
  {
   "cell_type": "code",
   "execution_count": 77,
   "metadata": {
    "collapsed": true
   },
   "outputs": [],
   "source": [
    "logs_path = '~/tensorboard/05'"
   ]
  },
  {
   "cell_type": "code",
   "execution_count": 33,
   "metadata": {},
   "outputs": [
    {
     "name": "stderr",
     "output_type": "stream",
     "text": [
      "100%|██████████| 30000/30000 [10:40<00:00, 46.87it/s]\n"
     ]
    }
   ],
   "source": [
    "writer = tf.summary.FileWriter(logs_path, graph=graph)\n",
    "epochs = 30000\n",
    "with tf.Session(graph=graph) as session:\n",
    "    tf.global_variables_initializer().run()\n",
    "    for epoch in tqdm(range(epochs)):\n",
    "        batch_data, batch_labels = generate_batch(batch_size, context_size)\n",
    "        feed_dict = {train_dataset : batch_data, train_labels : batch_labels}\n",
    "        _, l, summary = session.run([optimizer, loss, summary_emb], feed_dict = feed_dict)\n",
    "        writer.add_summary(summary, epoch)\n",
    "    final_embeddings = normalized_embeddings.eval()"
   ]
  },
  {
   "cell_type": "code",
   "execution_count": 7,
   "metadata": {
    "collapsed": true
   },
   "outputs": [],
   "source": [
    "emb_fn = \"emb.pkl\"\n",
    "#pickle.dump(final_embeddings, open(emb_fn, 'w'))\n",
    "final_embeddings = pickle.load(open(emb_fn, 'r'))"
   ]
  },
  {
   "cell_type": "markdown",
   "metadata": {},
   "source": [
    "# Preparing dataset"
   ]
  },
  {
   "cell_type": "code",
   "execution_count": 8,
   "metadata": {
    "collapsed": true
   },
   "outputs": [],
   "source": [
    "pad_word = vocabulary_size\n",
    "max_words = 5600\n",
    "num_classes = 8\n",
    "num_steps = 30"
   ]
  },
  {
   "cell_type": "code",
   "execution_count": 9,
   "metadata": {
    "collapsed": true
   },
   "outputs": [],
   "source": [
    "def str_to_idx(s):\n",
    "    words = str_to_words(s)\n",
    "    res = []\n",
    "    for word in words:\n",
    "        if word in dictionary:\n",
    "            index = dictionary[word]\n",
    "        else:\n",
    "            index = 0\n",
    "        res.append(index)\n",
    "    return(res)\n",
    "def get_Y(data):\n",
    "    classes = map(lambda x: x['class'] - 1, data_train)\n",
    "    return(np.array(classes))\n",
    "def get_X(data):\n",
    "    X = map(lambda x : str_to_idx(x['content']), data)\n",
    "    L = map(len, X)\n",
    "    return np.array(X), np.array(L)"
   ]
  },
  {
   "cell_type": "code",
   "execution_count": 10,
   "metadata": {},
   "outputs": [],
   "source": [
    "X, L = get_X(data_train)"
   ]
  },
  {
   "cell_type": "code",
   "execution_count": 11,
   "metadata": {
    "collapsed": true
   },
   "outputs": [],
   "source": [
    "Y = get_Y(data_train)"
   ]
  },
  {
   "cell_type": "code",
   "execution_count": 12,
   "metadata": {
    "collapsed": true
   },
   "outputs": [],
   "source": [
    "Xtest, Ltest = get_X(data_test)"
   ]
  },
  {
   "cell_type": "code",
   "execution_count": 15,
   "metadata": {
    "collapsed": true
   },
   "outputs": [],
   "source": [
    "del dictionary, data, count, all_text, words"
   ]
  },
  {
   "cell_type": "markdown",
   "metadata": {},
   "source": [
    "# Word length distributions"
   ]
  },
  {
   "cell_type": "code",
   "execution_count": 69,
   "metadata": {},
   "outputs": [
    {
     "data": {
      "text/plain": [
       "array([[<matplotlib.axes._subplots.AxesSubplot object at 0x7fa4abfbbfd0>]], dtype=object)"
      ]
     },
     "execution_count": 69,
     "metadata": {},
     "output_type": "execute_result"
    },
    {
     "data": {
      "image/png": "[encoded data removed]",
      "text/plain": [
       "<matplotlib.figure.Figure at 0x7fa479ebf1d0>"
      ]
     },
     "metadata": {},
     "output_type": "display_data"
    }
   ],
   "source": [
    "pd.DataFrame(L).hist()\n",
    "plt.title('Train set length')"
   ]
  },
  {
   "cell_type": "code",
   "execution_count": 75,
   "metadata": {
    "scrolled": true
   },
   "outputs": [
    {
     "data": {
      "text/plain": [
       "<matplotlib.text.Text at 0x7fa4c37e3bd0>"
      ]
     },
     "execution_count": 75,
     "metadata": {},
     "output_type": "execute_result"
    },
    {
     "data": {
      "image/png": "[encoded data removed]",
      "text/plain": [
       "<matplotlib.figure.Figure at 0x7fa479515750>"
      ]
     },
     "metadata": {},
     "output_type": "display_data"
    }
   ],
   "source": [
    "pd.DataFrame(Ltest).hist()\n",
    "plt.title('Test set length')"
   ]
  },
  {
   "cell_type": "markdown",
   "metadata": {},
   "source": [
    "# RNN classifier"
   ]
  },
  {
   "cell_type": "code",
   "execution_count": 25,
   "metadata": {
    "collapsed": true
   },
   "outputs": [],
   "source": [
    "#c_sess.close()"
   ]
  },
  {
   "cell_type": "code",
   "execution_count": 13,
   "metadata": {
    "collapsed": true
   },
   "outputs": [],
   "source": [
    "logs_path = '~/tensorboard/cl/12'"
   ]
  },
  {
   "cell_type": "code",
   "execution_count": 18,
   "metadata": {},
   "outputs": [],
   "source": [
    "batch_size = 128\n",
    "lstm_size = 128\n",
    "c_graph = tf.Graph()\n",
    "with c_graph.as_default():\n",
    "    text_input = tf.placeholder(tf.int32, shape=[None, None])\n",
    "    text_length = tf.placeholder(tf.float32, shape=[None])\n",
    "    ans_input = tf.placeholder(tf.int32, shape=[None])\n",
    "    do_update = tf.placeholder(tf.float32, shape=[None])\n",
    "    keep_prob = tf.placeholder(tf.float32)\n",
    "    cell_state = tf.placeholder(tf.float32, [batch_size, lstm_size])\n",
    "    hidden_state = tf.placeholder(tf.float32, [batch_size, lstm_size])\n",
    "    initial_state = tf.contrib.rnn.LSTMStateTuple(cell_state, hidden_state)\n",
    "    \n",
    "    labels = tf.one_hot(ans_input, num_classes)\n",
    "    \n",
    "    emb_words   = tf.Variable(final_embeddings, name = \"embeddings\", trainable = True, dtype = tf.float32)\n",
    "    emb_padding = tf.Variable(1. * np.zeros((1, embedding_size)), trainable = False, dtype = tf.float32)\n",
    "    embeddings = tf.concat([emb_words, emb_padding], 0)\n",
    "    \n",
    "    word_vectors = tf.reshape(tf.nn.embedding_lookup(embeddings, text_input), [-1, num_steps, embedding_size])\n",
    "    word_list = tf.unstack(tf.nn.dropout(word_vectors, keep_prob), axis = 1)\n",
    "    \n",
    "    # LSTM\n",
    "    cell = tf.contrib.rnn.LSTMCell(num_units = lstm_size)\n",
    "    _, current_state = tf.contrib.rnn.static_rnn(cell, word_list, initial_state = initial_state,\n",
    "                                               sequence_length = text_length)\n",
    "    out = current_state[1]\n",
    "    # /LSTM\n",
    "    \n",
    "    num_updates = tf.reduce_sum(do_update)\n",
    "    \n",
    "    dense = tf.nn.dropout(tf.layers.dense(inputs = out, units=64, activation=tf.nn.relu), keep_prob)\n",
    "    logits = tf.contrib.layers.fully_connected(dense, num_classes, activation_fn = None)\n",
    "    \n",
    "    sm_loss = tf.nn.softmax_cross_entropy_with_logits(labels = labels, logits = logits)\n",
    "    loss = tf.reduce_mean(tf.transpose((tf.transpose(sm_loss) * do_update))) / (num_updates + 0.001) * batch_size\n",
    "    \n",
    "    optimizer = tf.train.RMSPropOptimizer(0.01).minimize(loss)\n",
    "    \n",
    "    tf.summary.scalar(\"Classification_loss\", loss)\n",
    "    summary = tf.summary.merge_all()\n",
    "    v_summary = tf.summary.scalar(\"valid_loss\", loss)\n",
    "    \n",
    "    answer = tf.argmax(logits, 1)\n",
    "    probability = tf.nn.softmax(logits)\n",
    "    \n",
    "    initializer = tf.global_variables_initializer()\n",
    "    writer = tf.summary.FileWriter(logs_path, c_graph)"
   ]
  },
  {
   "cell_type": "code",
   "execution_count": 19,
   "metadata": {},
   "outputs": [],
   "source": [
    "def get_minibatch(X, Y, L, size = batch_size):\n",
    "    N = len(X)\n",
    "    start_idx = 0\n",
    "    while start_idx < N:\n",
    "        do_clear_state = 1\n",
    "        idx = range(start_idx, start_idx + size)\n",
    "        if np.max(idx) >= N:\n",
    "            break\n",
    "        max_len = np.max(L[idx])\n",
    "        start_pos = 0\n",
    "        while start_pos < max_len:\n",
    "            X_ = []\n",
    "            L_ = []\n",
    "            Last = []\n",
    "            for i in idx:\n",
    "                v = X[i][start_pos : min(start_pos + num_steps, L[i])]\n",
    "                if start_pos + num_steps >= L[i] and start_pos < L[i]:\n",
    "                    Last.append(1)\n",
    "                else:\n",
    "                    Last.append(0)\n",
    "                L_.append(len(v))\n",
    "                v += [pad_word] * (num_steps - len(v))\n",
    "                X_.append(v)\n",
    "            yield np.array(X_), Y[idx], np.array(L_), do_clear_state, np.array(Last)\n",
    "            do_clear_state = 0\n",
    "            start_pos += num_steps\n",
    "        start_idx += size"
   ]
  },
  {
   "cell_type": "code",
   "execution_count": null,
   "metadata": {},
   "outputs": [],
   "source": [
    "c_sess = tf.Session(graph=c_graph)\n",
    "c_sess.run(initializer)\n",
    "rolling_epoch = 0\n",
    "_current_cell_state = np.zeros((batch_size, lstm_size))\n",
    "_current_hidden_state = np.zeros((batch_size, lstm_size))"
   ]
  },
  {
   "cell_type": "code",
   "execution_count": null,
   "metadata": {},
   "outputs": [
    {
     "name": "stdout",
     "output_type": "stream",
     "text": [
      "0.0 1 0.0 1\n",
      "0.0 2 0.0 0\n",
      "0.0 3 0.0 0\n",
      "1.0 4 2.08592 0\n",
      "0.0 5 0.0 0\n",
      "0.0 6 0.0 0\n",
      "1.0 7 2.07634 0\n",
      "1.0 8 2.05902 0\n",
      "1.0 9 2.0452 0\n",
      "1.0 10 2.12533 0\n",
      "2.0 11 2.04053 0\n",
      "0.0 12 0.0 0\n",
      "0.0 13 0.0 0\n",
      "0.0 14 0.0 0\n",
      "3.0 15 2.06762 0\n",
      "1.0 16 2.04921 0\n",
      "3.0 17 2.05207 0\n",
      "1.0 18 1.99307 0\n",
      "3.0 19 2.04567 0\n",
      "3.0 20 2.01968 0\n",
      "1.0 21 1.86182 0\n",
      "3.0 22 2.08992 0\n",
      "1.0 23 2.09329 0\n",
      "1.0 24 2.16966 0\n",
      "1.0 25 1.95685 0\n",
      "2.0 26 1.70712 0\n",
      "2.0 27 1.61739 0\n",
      "1.0 28 1.75379 0\n",
      "2.0 29 1.83467 0\n",
      "2.0 30 2.29189 0\n",
      "2.0 31 1.67673 0\n",
      "1.0 32 1.71337 0\n",
      "0.0 33 0.0 0\n",
      "1.0 34 2.34361 0\n",
      "1.0 35 1.44821 0\n",
      "0.0 36 0.0 0\n",
      "0.0 37 0.0 0\n",
      "0.0 38 0.0 0\n",
      "0.0 39 0.0 0\n",
      "2.0 40 1.70888 0\n",
      "1.0 41 2.57004 0\n",
      "0.0 42 0.0 0\n",
      "1.0 43 1.91807 0\n",
      "0.0 44 0.0 0\n",
      "0.0 45 0.0 0\n",
      "1.0 46 1.52675 0\n",
      "2.0 47 1.3873 0\n",
      "0.0 48 0.0 0\n",
      "3.0 49 2.0818 0\n",
      "3.0 50 1.39987 0\n",
      "1.0 51 1.45636 0\n",
      "1.0 52 1.042 0\n",
      "2.0 53 3.28305 0\n",
      "1.0 54 1.09535 0\n",
      "1.0 55 0.995346 0\n",
      "2.0 56 0.853368 0\n",
      "3.0 57 1.48504 0\n",
      "1.0 58 0.829235 0\n",
      "1.0 59 3.52561 0\n",
      "2.0 60 0.681071 0\n",
      "3.0 61 0.696298 0\n",
      "4.0 62 0.221939 0\n",
      "0.0 63 0.0 0\n",
      "0.0 64 0.0 0\n",
      "3.0 65 0.147942 0\n",
      "1.0 66 3.08722 0\n",
      "2.0 67 1.62137 0\n",
      "3.0 68 2.46301 0\n",
      "1.0 69 1.70162 0\n",
      "2.0 70 1.40502 0\n",
      "0.0 71 0.0 0\n",
      "0.0 72 0.0 0\n",
      "0.0 73 0.0 0\n",
      "4.0 74 1.52501 0\n",
      "3.0 75 1.02365 0\n",
      "1.0 76 2.32709 0\n",
      "0.0 77 0.0 0\n",
      "3.0 78 1.23608 0\n",
      "2.0 79 1.03081 0\n",
      "2.0 80 1.2882 0\n",
      "2.0 81 3.52534 0\n",
      "2.0 82 1.42361 0\n",
      "0.0 83 0.0 0\n",
      "1.0 84 2.85644 0\n",
      "1.0 85 1.34238 0\n",
      "1.0 86 1.31317 0\n"
     ]
    }
   ],
   "source": [
    "valid_idx = random.sample(range(len(X)), 100)\n",
    "train_idx = np.setdiff1d(np.arange(X.shape[0]), valid_idx)\n",
    "\n",
    "while True:\n",
    "    for X_, Y_, L_, do_clear_state, Last in get_minibatch(X[train_idx], Y[train_idx], L[train_idx], batch_size):\n",
    "        feed_dict = {text_input: X_, ans_input: Y_, text_length: L_,\n",
    "                     cell_state: _current_cell_state, hidden_state: _current_hidden_state, keep_prob: 0.5,\n",
    "                    #do_update: 1. * (L_ > 0)}\n",
    "                     do_update: Last}\n",
    "        \n",
    "        n, _, l, s, c_state = c_sess.run([num_updates, optimizer, loss, summary, current_state], feed_dict = feed_dict)\n",
    "        _current_cell_state, _current_hidden_state = c_state\n",
    "        if n > 0:\n",
    "            writer.add_summary(s, rolling_epoch)\n",
    "        \n",
    "        rolling_epoch += 1\n",
    "        print(n, rolling_epoch, l, do_clear_state)"
   ]
  },
  {
   "cell_type": "markdown",
   "metadata": {},
   "source": [
    "# Classifying test data"
   ]
  },
  {
   "cell_type": "code",
   "execution_count": 125,
   "metadata": {},
   "outputs": [],
   "source": [
    "def classify_idx(X, L, idx):\n",
    "    start_pos = 0\n",
    "    max_len = min(np.max(L[idx]), 100)\n",
    "    _current_cell_state = np.zeros((batch_size, lstm_size))\n",
    "    _current_hidden_state = np.zeros((batch_size, lstm_size))\n",
    "    res = np.zeros((batch_size, num_classes))\n",
    "    while start_pos < max_len:\n",
    "        #print(start_pos)\n",
    "        X_ = []\n",
    "        L_ = []\n",
    "        \n",
    "        for i in idx:\n",
    "            v = X[i][start_pos : min(start_pos + num_steps, L[i])]\n",
    "            L_.append(len(v))\n",
    "            v += [pad_word] * (num_steps - len(v))\n",
    "            X_.append(v)\n",
    "    \n",
    "        feed_dict = {text_input: X_, text_length: L_, cell_state: _current_cell_state,\n",
    "                     hidden_state: _current_hidden_state, keep_prob: 1}\n",
    "        \n",
    "        ll, c_state = c_sess.run([probability, current_state], feed_dict = feed_dict)\n",
    "        _current_cell_state, _current_hidden_state = c_state\n",
    "        \n",
    "        print(ll)\n",
    "        \n",
    "        res += ll\n",
    "        \n",
    "        start_pos += num_steps\n",
    "    #print(ll)\n",
    "    answers = np.argmax(ll, axis = 1)\n",
    "    return(answers)"
   ]
  },
  {
   "cell_type": "code",
   "execution_count": null,
   "metadata": {
    "collapsed": true
   },
   "outputs": [],
   "source": [
    "classify_idx(X, L, range(1000,1000+64))"
   ]
  },
  {
   "cell_type": "code",
   "execution_count": 131,
   "metadata": {},
   "outputs": [
    {
     "data": {
      "text/plain": [
       "<tensorflow.python.client.session.InteractiveSession at 0x7f6027ea8f10>"
      ]
     },
     "execution_count": 131,
     "metadata": {},
     "output_type": "execute_result"
    }
   ],
   "source": [
    "tf.InteractiveSession()"
   ]
  },
  {
   "cell_type": "code",
   "execution_count": 152,
   "metadata": {},
   "outputs": [],
   "source": [
    "X = tf.Variable(np.array([[1.,2,3],[4,5,6],[9, 8, 7]]))"
   ]
  },
  {
   "cell_type": "code",
   "execution_count": 156,
   "metadata": {
    "collapsed": true
   },
   "outputs": [],
   "source": [
    "y = tf.Variable(np.array([0.,1, 2]))"
   ]
  },
  {
   "cell_type": "code",
   "execution_count": 157,
   "metadata": {},
   "outputs": [],
   "source": [
    "X.initializer.run()\n",
    "y.initializer.run()"
   ]
  },
  {
   "cell_type": "code",
   "execution_count": 158,
   "metadata": {},
   "outputs": [
    {
     "data": {
      "text/plain": [
       "array([[  0.,   0.,   0.],\n",
       "       [  4.,   5.,   6.],\n",
       "       [ 18.,  16.,  14.]])"
      ]
     },
     "execution_count": 158,
     "metadata": {},
     "output_type": "execute_result"
    }
   ],
   "source": [
    "tf.transpose((tf.transpose(X) * y)).eval()"
   ]
  },
  {
   "cell_type": "code",
   "execution_count": 34,
   "metadata": {},
   "outputs": [],
   "source": [
    "c_sess.close()"
   ]
  },
  {
   "cell_type": "code",
   "execution_count": null,
   "metadata": {
    "collapsed": true
   },
   "outputs": [],
   "source": []
  }
 ],
 "metadata": {
  "kernelspec": {
   "display_name": "Python 2",
   "language": "python",
   "name": "python2"
  },
  "language_info": {
   "codemirror_mode": {
    "name": "ipython",
    "version": 2
   },
   "file_extension": ".py",
   "mimetype": "text/x-python",
   "name": "python",
   "nbconvert_exporter": "python",
   "pygments_lexer": "ipython2",
   "version": "2.7.9"
  }
 },
 "nbformat": 4,
 "nbformat_minor": 2
}
