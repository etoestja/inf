{
 "cells": [
  {
   "cell_type": "code",
   "execution_count": 33,
   "metadata": {
    "collapsed": true
   },
   "outputs": [],
   "source": [
    "%matplotlib inline\n",
    "import numpy as np\n",
    "import matplotlib.pyplot as plt"
   ]
  },
  {
   "cell_type": "code",
   "execution_count": 5,
   "metadata": {
    "collapsed": true
   },
   "outputs": [],
   "source": [
    "data=[\n",
    "[1, 2.120893, 2.129631, 2.126684, 2.115505, 2.132711, ],\n",
    "[2, 1.071789, 1.067239, 1.046283, 1.063812, 1.050358, ],\n",
    "[3, 0.719074, 0.724684, 0.702712, 0.838645, 0.714662, ],\n",
    "[4, 0.601402, 0.553203, 0.542811, 0.555018, 0.542089, ],\n",
    "[5, 0.435809, 0.465519, 0.512825, 0.513486, 0.504818, ],\n",
    "[6, 0.389829, 0.371148, 0.388257, 0.384092, 0.401457, ],\n",
    "[7, 0.363790, 0.326592, 0.381491, 0.321516, 0.352094, ],\n",
    "[8, 0.342073, 0.362029, 0.324263, 0.292103, 0.284381, ],\n",
    "[9, 0.295872, 0.295457, 0.295331, 0.287869, 0.270861, ],\n",
    "[10, 0.261619, 0.269654, 0.271341, 0.273793, 0.272567, ],\n",
    "[11, 0.252140, 0.262154, 0.254286, 0.242262, 0.260699, ],\n",
    "[12, 0.235868, 0.228151, 0.240414, 0.226856, 0.224957, ],\n",
    "[13, 0.216988, 0.236138, 0.240095, 0.234479, 0.205663, ],\n",
    "[14, 0.196892, 0.244166, 0.206302, 0.210164, 0.204275, ],\n",
    "[15, 0.191932, 0.185127, 0.177549, 0.205571, 0.184400, ],\n",
    "]\n",
    "data=np.array(data)"
   ]
  },
  {
   "cell_type": "code",
   "execution_count": 20,
   "metadata": {
    "collapsed": false
   },
   "outputs": [],
   "source": [
    "T1 = np.mean(data[0,1:])\n",
    "data1 = T1 / data"
   ]
  },
  {
   "cell_type": "code",
   "execution_count": 24,
   "metadata": {
    "collapsed": false
   },
   "outputs": [],
   "source": [
    "x=data[:,0]\n",
    "y=np.mean(data1[:,1:],axis=1)\n",
    "err=np.std(data1[:,1:],axis=1)"
   ]
  },
  {
   "cell_type": "code",
   "execution_count": 26,
   "metadata": {
    "collapsed": false
   },
   "outputs": [
    {
     "data": {
      "text/plain": [
       "array([  1.,   2.,   3.,   4.,   5.,   6.,   7.,   8.,   9.,  10.,  11.,\n",
       "        12.,  13.,  14.,  15.])"
      ]
     },
     "execution_count": 26,
     "metadata": {},
     "output_type": "execute_result"
    }
   ],
   "source": [
    "x"
   ]
  },
  {
   "cell_type": "code",
   "execution_count": 23,
   "metadata": {
    "collapsed": false
   },
   "outputs": [
    {
     "data": {
      "text/plain": [
       "array([ 0.00290934,  0.01871688,  0.17754877,  0.14205525,  0.29095822,\n",
       "        0.13975312,  0.39388918,  0.61209629,  0.25414796,  0.12825718,\n",
       "        0.2375289 ,  0.231621  ,  0.56573151,  0.7149937 ,  0.54873888])"
      ]
     },
     "execution_count": 23,
     "metadata": {},
     "output_type": "execute_result"
    }
   ],
   "source": [
    "Std"
   ]
  },
  {
   "cell_type": "code",
   "execution_count": 67,
   "metadata": {
    "collapsed": false
   },
   "outputs": [
    {
     "data": {
      "image/png": "[encoded data removed]",
      "text/plain": [
       "<matplotlib.figure.Figure at 0x7f01e6cf3ed0>"
      ]
     },
     "metadata": {},
     "output_type": "display_data"
    }
   ],
   "source": [
    "plt.plot(x, x, 'g-', label=r\"$S_{max}$\")\n",
    "plt.errorbar(x, y, fmt='or-', label=r\"$S_{real}$\",\n",
    "             xerr=0, yerr=err, ecolor='black')\n",
    "plt.xlabel('$p$', fontsize=25)\n",
    "plt.ylabel(r'$S_p=\\frac{T_1}{T_p}$', fontsize=18)\n",
    "plt.legend(loc='upper left', fontsize=18)\n",
    "plt.savefig(\"chart.png\")\n",
    "\n",
    "# display plot on screen\n",
    "plt.show()"
   ]
  },
  {
   "cell_type": "code",
   "execution_count": null,
   "metadata": {
    "collapsed": true
   },
   "outputs": [],
   "source": []
  }
 ],
 "metadata": {
  "kernelspec": {
   "display_name": "Python 2",
   "language": "python",
   "name": "python2"
  },
  "language_info": {
   "codemirror_mode": {
    "name": "ipython",
    "version": 2
   },
   "file_extension": ".py",
   "mimetype": "text/x-python",
   "name": "python",
   "nbconvert_exporter": "python",
   "pygments_lexer": "ipython2",
   "version": "2.7.9"
  }
 },
 "nbformat": 4,
 "nbformat_minor": 0
}
