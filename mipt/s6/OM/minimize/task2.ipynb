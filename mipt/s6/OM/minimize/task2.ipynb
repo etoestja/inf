{
 "cells": [
  {
   "cell_type": "markdown",
   "metadata": {},
   "source": [
    "# Задача\n",
    "\n",
    "Найти минимум функции на множестве: $$\\min\\limits_{x\\in X}f(x)$$\n",
    "\n",
    "## Множество\n",
    "\n",
    "$X\\in\\mathbb{R}^n$, $n\\in\\{100, 200, 500, 1000\\}$\n",
    "\n",
    "1. $X$ симплекс\n",
    "2. $X$ сфера\n",
    "\n",
    "## Функция\n",
    "\n",
    "$$f(x) = x^TAx - b^Tx$$\n",
    "\n",
    "$А$ — \n",
    "* случайная [0,L] матрица\n",
    "* элементы равномерно распределены\n",
    "* регуляризованная как \n",
    "$A - \\lambda_{\\min}(A)I$, где $I$ — единичная матрица\n",
    "\n",
    "## Методы\n",
    "1. Градиентный спуск (Правило Армихо, критерий остановки)\n",
    "2. Субградиенты (постоянный шаг, Шаг по Поляку)\n",
    "3. Зеркальный спуск с Энтропийным сетапом \n",
    "4. Быстрые градиенты Нестерова\n",
    "5. Градиентный спуск в 1 норме (если дойдем)\n",
    "\n",
    "## Графики\n",
    "\n",
    "1. Производительность\n",
    "2. Убывание функционала либо невязки"
   ]
  },
  {
   "cell_type": "code",
   "execution_count": null,
   "metadata": {
    "collapsed": true
   },
   "outputs": [],
   "source": []
  },
  {
   "cell_type": "code",
   "execution_count": 1,
   "metadata": {
    "collapsed": false
   },
   "outputs": [],
   "source": [
    "import numpy as np\n",
    "from numpy import linalg\n",
    "%matplotlib inline\n",
    "import matplotlib.pyplot as plt"
   ]
  },
  {
   "cell_type": "code",
   "execution_count": 52,
   "metadata": {
    "collapsed": false
   },
   "outputs": [],
   "source": [
    "n = 5\n",
    "L = 1.\n",
    "A = np.random.rand(n, n) * L\n",
    "A = (A + A.T) / 2\n",
    "A = A - 1.1 * np.eye(n) * np.min(linalg.eig(A)[0])"
   ]
  },
  {
   "cell_type": "code",
   "execution_count": 3,
   "metadata": {
    "collapsed": false
   },
   "outputs": [
    {
     "name": "stdout",
     "output_type": "stream",
     "text": [
      "0.0682224308082\n",
      "[ 3.4667978   1.31382264  0.05349168  0.70802417  0.39548279]\n"
     ]
    }
   ],
   "source": [
    "print linalg.det(A)\n",
    "print linalg.eig(A)[0]"
   ]
  },
  {
   "cell_type": "code",
   "execution_count": 4,
   "metadata": {
    "collapsed": false
   },
   "outputs": [],
   "source": [
    "# Вектор b\n",
    "b=np.random.rand(n)"
   ]
  },
  {
   "cell_type": "code",
   "execution_count": 5,
   "metadata": {
    "collapsed": true
   },
   "outputs": [],
   "source": [
    "# Градиент функции\n",
    "def grad(x):\n",
    "    return(np.dot(A, x) - b)"
   ]
  },
  {
   "cell_type": "code",
   "execution_count": 6,
   "metadata": {
    "collapsed": true
   },
   "outputs": [],
   "source": [
    "# Функция\n",
    "def func(x):\n",
    "    return(0.5 * np.dot(x.T, np.dot(A, x))-np.dot(b, x))"
   ]
  },
  {
   "cell_type": "code",
   "execution_count": null,
   "metadata": {
    "collapsed": true
   },
   "outputs": [],
   "source": [
    "def p(x):\n",
    "    norm = linalg.norm(x)\n",
    "    if norm <= 1:\n",
    "        return(x)\n",
    "    else:\n",
    "        return(x / norm)\n",
    "def dist(x):\n",
    "    return(linalg.norm(x - p(x)))"
   ]
  },
  {
   "cell_type": "code",
   "execution_count": 49,
   "metadata": {
    "collapsed": false
   },
   "outputs": [],
   "source": [
    "def method_info(x):\n",
    "    y = np.zeros((len(x)))\n",
    "    x_dist = np.zeros((len(x)))\n",
    "    step = np.zeros((len(x)))\n",
    "\n",
    "    for i in range(len(x)):\n",
    "        y[i] = func(x[i])\n",
    "        x_dist[i] = linalg.norm(x[i]-p(x[i]))\n",
    "        \n",
    "        if i >= 1:\n",
    "            step[i] = linalg.norm(x[i] - x[i - 1])\n",
    "        \n",
    "    imin = np.argmin(y)\n",
    "    y -= func(x[imin])\n",
    "    \n",
    "    x_diff_norm = linalg.norm(x[:]-x[imin], axis=1)\n",
    "\n",
    "    ms = 3\n",
    "    \n",
    "    print \"Best: \" + str(imin) + \" f = \" + str(func(x[imin]))\n",
    "    print \"Last: \" + str(len(x))\n",
    "    \n",
    "    plt.figure(figsize=(10,10))\n",
    "    plt.subplot(3, 1, 1)\n",
    "    plt.plot(x_diff_norm, 'g.', label=r\"$||x_i-x_{best}||$\", ms=ms)\n",
    "    plt.legend(loc='upper right', fontsize=18)\n",
    "    #plt.xlabel('$i$', fontsize=25)\n",
    "    \n",
    "    plt.subplot(3, 1, 2)\n",
    "    plt.plot(step, 'b.', label=r\"$||x_i-x_{i-1}||$\", ms=ms)\n",
    "    plt.legend(loc='upper right', fontsize=18)\n",
    "    #plt.xlabel('$i$', fontsize=25)\n",
    "    \n",
    "    plt.subplot(3, 1, 3)\n",
    "    plt.plot(y, 'r.', label=r\"$f(x_i)-f(x_{best})$\", ms=ms)\n",
    "    plt.legend(loc='upper right', fontsize=18)\n",
    "    plt.xlabel('$i$', fontsize=25)\n",
    "    \n",
    "    #plt.savefig(\"chart.png\")\n",
    "\n",
    "    # display plot on screen\n",
    "    plt.show()"
   ]
  },
  {
   "cell_type": "code",
   "execution_count": 8,
   "metadata": {
    "collapsed": false
   },
   "outputs": [],
   "source": [
    "def armiho(x, a0, theta, eps):\n",
    "    # Выбор шага по Армихо\n",
    "    a = a0\n",
    "    grad_norm_2 = np.linalg.norm(grad(x)) ** 2\n",
    "    while True:\n",
    "        x_new = x - a * grad(x)\n",
    "        if func(x_new) - func(x) + eps * a * grad_norm_2 < 0:\n",
    "            break\n",
    "        a *= theta\n",
    "    return a"
   ]
  },
  {
   "cell_type": "code",
   "execution_count": 43,
   "metadata": {
    "collapsed": false
   },
   "outputs": [],
   "source": [
    "# Массив с точками\n",
    "x = list()\n",
    "x.append(np.zeros(n))\n",
    "i = 1\n",
    "\n",
    "# Выбор шага по Армихо, параметры\n",
    "a0 = 1\n",
    "theta = 0.8\n",
    "eps = 0.1\n",
    "\n",
    "# Условия остановки\n",
    "grad_norm=1e-5\n",
    "maxiter=10000\n",
    "x_norm=1e-5\n",
    "\n",
    "while True:\n",
    "    x.append(0)\n",
    "    \n",
    "    a = armiho(x[i - 1], a0, theta, eps)\n",
    "    # Градиентный шаг\n",
    "    x[i] = x[i - 1] - a * grad(x[i - 1])\n",
    "    #x[i] = p(x[i])\n",
    "    \n",
    "    norm_new = np.linalg.norm(grad(x[i]))\n",
    "    #print a, x[i], func(x[i]), norm_new, dist(x[i])\n",
    "    \n",
    "    # Условия останова\n",
    "    if norm_new < grad_norm:\n",
    "        break\n",
    "    \n",
    "    if np.linalg.norm(x[i] - x[i - 1]) < x_norm:\n",
    "        break\n",
    "    \n",
    "    if i >= maxiter:\n",
    "        break\n",
    "        \n",
    "    i += 1"
   ]
  },
  {
   "cell_type": "code",
   "execution_count": 50,
   "metadata": {
    "collapsed": false
   },
   "outputs": [
    {
     "name": "stdout",
     "output_type": "stream",
     "text": [
      "Best: 348 f = -1.71901551841\n",
      "Last: 350\n"
     ]
    },
    {
     "data": {
      "image/png": "[encoded data removed]",
      "text/plain": [
       "<matplotlib.figure.Figure at 0x7f5e8ceb6110>"
      ]
     },
     "metadata": {},
     "output_type": "display_data"
    }
   ],
   "source": [
    "method_info(x)"
   ]
  },
  {
   "cell_type": "code",
   "execution_count": 11,
   "metadata": {
    "collapsed": true
   },
   "outputs": [],
   "source": [
    "def newl(l):\n",
    "    return((1 + np.sqrt(1 + 4 * l ** 2)) / 2)\n",
    "def gamma(l, s):\n",
    "    return((1-l[s])/l[s+1])"
   ]
  },
  {
   "cell_type": "code",
   "execution_count": 48,
   "metadata": {
    "collapsed": false
   },
   "outputs": [],
   "source": [
    "# Массив с точками\n",
    "l = list()\n",
    "x = list()\n",
    "y = list()\n",
    "x.append(np.zeros(n))\n",
    "y.append(x[0])\n",
    "y.append(x[0])\n",
    "x.append(x[0])\n",
    "l.append(0)\n",
    "l.append(newl(0))\n",
    "s = 1\n",
    "\n",
    "# Условия остановки\n",
    "#grad_norm=1e-5\n",
    "#maxiter=10000\n",
    "#x_norm=1e-5\n",
    "\n",
    "while True:\n",
    "    x.append(0)\n",
    "    y.append(0)\n",
    "    l.append(0)\n",
    "    \n",
    "    a = armiho(x[s], 1, 0.8, 0.3)\n",
    "    \n",
    "    l[s + 1] = newl(l[s])\n",
    "    g = (1 - l[s]) / l[s + 1]\n",
    "    \n",
    "    y[s + 1] = x[s] - a * grad(x[s])\n",
    "    x[s + 1] = (1 - g) * y[s + 1] + g * y[s]\n",
    "    \n",
    "    norm_new = np.linalg.norm(grad(x[s + 1]))\n",
    "    #print a, g, l[s + 1], func(x[s + 1]), norm_new\n",
    "    \n",
    "    # Условия останова\n",
    "    if norm_new < grad_norm:\n",
    "        break\n",
    "    \n",
    "    if np.linalg.norm(x[s + 1] - x[s]) < x_norm:\n",
    "        break\n",
    "    \n",
    "    if s >= maxiter:\n",
    "        break\n",
    "        \n",
    "    s += 1"
   ]
  },
  {
   "cell_type": "code",
   "execution_count": 51,
   "metadata": {
    "collapsed": false
   },
   "outputs": [
    {
     "name": "stdout",
     "output_type": "stream",
     "text": [
      "Best: 348 f = -1.71901551841\n",
      "Last: 350\n"
     ]
    },
    {
     "data": {
      "image/png": "[encoded data removed]",
      "text/plain": [
       "<matplotlib.figure.Figure at 0x7f5e8d629690>"
      ]
     },
     "metadata": {},
     "output_type": "display_data"
    }
   ],
   "source": [
    "method_info(x)"
   ]
  },
  {
   "cell_type": "code",
   "execution_count": null,
   "metadata": {
    "collapsed": true
   },
   "outputs": [],
   "source": []
  }
 ],
 "metadata": {
  "kernelspec": {
   "display_name": "Python 2",
   "language": "python",
   "name": "python2"
  },
  "language_info": {
   "codemirror_mode": {
    "name": "ipython",
    "version": 2
   },
   "file_extension": ".py",
   "mimetype": "text/x-python",
   "name": "python",
   "nbconvert_exporter": "python",
   "pygments_lexer": "ipython2",
   "version": "2.7.9"
  }
 },
 "nbformat": 4,
 "nbformat_minor": 0
}
