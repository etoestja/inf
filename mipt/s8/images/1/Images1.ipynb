{
 "cells": [
  {
   "cell_type": "code",
   "execution_count": null,
   "metadata": {
    "collapsed": true
   },
   "outputs": [],
   "source": [
    "%matplotlib inline\n",
    "import numpy as np\n",
    "import matplotlib.pyplot as plt\n",
    "import skimage\n",
    "from skimage import filters, io, transform, exposure, morphology, segmentation\n",
    "from pandas import DataFrame as df\n",
    "from skimage.feature import canny\n",
    "from scipy import ndimage as ndi\n",
    "from skimage.filters import sobel\n",
    "from skimage.transform import (hough_line, hough_line_peaks, probabilistic_hough_line)"
   ]
  },
  {
   "cell_type": "markdown",
   "metadata": {},
   "source": [
    "# Loading image"
   ]
  },
  {
   "cell_type": "code",
   "execution_count": null,
   "metadata": {
    "collapsed": true
   },
   "outputs": [],
   "source": [
    "def get_image(pattern, n):\n",
    "    ''' Reads image from disk '''\n",
    "    imc = skimage.io.imread_collection(pattern)\n",
    "    im = imc[1]\n",
    "    return(im)"
   ]
  },
  {
   "cell_type": "code",
   "execution_count": null,
   "metadata": {
    "collapsed": false
   },
   "outputs": [],
   "source": [
    "im = get_image(\"Pict_1*\", 0)\n",
    "plt.imshow(im)"
   ]
  },
  {
   "cell_type": "markdown",
   "metadata": {},
   "source": [
    "# Detect triangles\n",
    "Pipeline:\n",
    "\n",
    "* To grayscale\n",
    "* Canny edge detection\n",
    "* Filling holes using ```ndi.binary_fill_holes```\n",
    "* Labeling using ```ndi.label```\n",
    "* Leave only big objects"
   ]
  },
  {
   "cell_type": "code",
   "execution_count": null,
   "metadata": {
    "collapsed": false
   },
   "outputs": [],
   "source": [
    "def get_im_gray(im):\n",
    "    return(np.mean(im, axis = 2))\n",
    "\n",
    "def get_edges(im_gray):\n",
    "    ''' get edges using canny '''\n",
    "    im_edges = canny(im_gray / 255.)\n",
    "    return(im_edges)\n",
    "\n",
    "def get_filled(im_edges):\n",
    "    ''' fill holes '''\n",
    "    im_filled = ndi.binary_fill_holes(im_edges)\n",
    "    return(im_filled)\n",
    "\n",
    "def get_labels(inp, mask_update):\n",
    "    ''' Obtain labels using ndi.label '''\n",
    "    labels, _ = ndi.label(inp)\n",
    "    sizes = np.bincount(labels.ravel())\n",
    "    mask_sizes = mask_update(sizes)\n",
    "    mask_sizes[0] = 0\n",
    "    cleaned = mask_sizes[labels]\n",
    "    labels, idx = ndi.label(cleaned)\n",
    "    return(labels, idx)\n",
    "\n",
    "def get_range(labels, label):\n",
    "    ''' Obtain x-y range for specific label'''\n",
    "    v = np.where(labels == label)\n",
    "    return(np.min(v[0]), np.max(v[0]), np.min(v[1]), np.max(v[1]))\n",
    "\n",
    "def get_length(r):\n",
    "    return(np.linalg.norm([r[0] - r[1], r[2]- r[3]]))\n",
    "\n",
    "def get_center(r):\n",
    "    ''' Get center position of label '''\n",
    "    return(np.mean([r[0], r[1]]), np.mean([r[2], r[3]]))\n",
    "\n",
    "def get_triangles(labels, idx, plot):\n",
    "    ''' Find triangles on the image '''\n",
    "    triangles = []\n",
    "    ranges = []\n",
    "    for label in range(1, idx + 1):\n",
    "        r = get_range(labels, label)\n",
    "        ranges.append(r)\n",
    "        tr = im[r[0]:r[1], r[2]:r[3]]\n",
    "        triangles.append(tr)\n",
    "    return triangles, ranges\n",
    "\n",
    "def segment_triangles(im, plot = False):\n",
    "    ''' Segment triangles from image '''\n",
    "    im_gray = get_im_gray(im)\n",
    "    im_edges = get_edges(im_gray)\n",
    "    im_filled = get_filled(im_edges)\n",
    "    labels, idx = get_labels(im_filled, lambda x : x > 3000)\n",
    "    \n",
    "    if plot:\n",
    "        plt.figure(0)\n",
    "        plt.imshow(im_gray, cmap = 'gray')\n",
    "        plt.figure(1)\n",
    "        plt.imshow(im_edges, cmap = 'gray')\n",
    "        plt.figure(2)\n",
    "        plt.imshow(im_filled, cmap = 'gray')\n",
    "        plt.figure(3)\n",
    "        plt.imshow(labels)\n",
    "        \n",
    "    return(get_triangles(labels, idx, plot))"
   ]
  },
  {
   "cell_type": "code",
   "execution_count": null,
   "metadata": {
    "collapsed": false
   },
   "outputs": [],
   "source": [
    "# Detecting triangles\n",
    "triangles, ranges = segment_triangles(im, True)"
   ]
  },
  {
   "cell_type": "code",
   "execution_count": null,
   "metadata": {
    "collapsed": false
   },
   "outputs": [],
   "source": [
    "# Showing triangles and their ranges\n",
    "i = 0\n",
    "for t, r in zip(triangles, ranges):\n",
    "    print(r)\n",
    "    plt.figure(i)\n",
    "    plt.imshow(t)\n",
    "    i += 1"
   ]
  },
  {
   "cell_type": "markdown",
   "metadata": {},
   "source": [
    "# Processing single triangles\n",
    " \n",
    " * Applying ```sobel```\n",
    " * Binarizing\n",
    " * Looking for short and small points\n",
    " * Looking for long lines (edges of triangle)\n",
    " * Applying ```Hough``` line detection for edges\n",
    " * Intersectig edges => corners\n",
    " * Looking for nearest corner for each small point"
   ]
  },
  {
   "cell_type": "code",
   "execution_count": null,
   "metadata": {
    "collapsed": false
   },
   "outputs": [],
   "source": [
    "def get_triangle_map(triangle):\n",
    "    ''' Apply sobel to triangle '''\n",
    "    triangle = np.mean(triangle, axis = 2)\n",
    "    tr_map = sobel(triangle) > 7\n",
    "    #plt.imshow(tr_map, cmap = 'gray')\n",
    "    return(tr_map)\n",
    "\n",
    "def get_points(tr_points, max_length):\n",
    "    ''' Obtain points from triangle '''\n",
    "    points = []\n",
    "    for i in range(1, np.max(tr_points) + 1):\n",
    "        length = get_length(get_range(tr_points, i))\n",
    "        #print(\"Length %d %f\" % (i, length))\n",
    "        if length <= max_length:\n",
    "            c = get_center(get_range(tr_points, i))\n",
    "            c = [c[1], c[0]]\n",
    "            points.append(c)\n",
    "        else:\n",
    "            tr_points[tr_points == i] = 0\n",
    "    return(np.array(points))\n",
    "\n",
    "def get_corners(tr_frame, plot = False):\n",
    "    ''' Obtain corners from tr_frame using hough transform '''\n",
    "    h, theta, d = hough_line(tr_frame)\n",
    "    peaks = hough_line_peaks(h, theta, d)\n",
    "\n",
    "    i = 0\n",
    "    arr = zip(*peaks)\n",
    "    \n",
    "    if len(arr) > 3:\n",
    "        arr = arr[:3]\n",
    "    \n",
    "    corners = []\n",
    "    for i in range(len(arr)):\n",
    "        for j in range(i + 1, len(arr)):\n",
    "            _, angle1, dist1 = arr[i]\n",
    "            _, angle2, dist2 = arr[j]\n",
    "            a1 = -1. / np.tan(angle1)\n",
    "            a2 = -1. / np.tan(angle2)\n",
    "            b1 = dist1 / np.sin(angle1)\n",
    "            b2 = dist2 / np.sin(angle2)\n",
    "\n",
    "            x = (b2 - b1) / (a1 - a2)\n",
    "            y = (a1 * b2 - b1 * a2) / (a1 - a2)\n",
    "\n",
    "            corners.append([x, y])\n",
    "\n",
    "            j += 1\n",
    "        i += 1\n",
    "        \n",
    "    corners = np.array(corners)\n",
    "        \n",
    "    if plot:\n",
    "        fig = plt.figure()\n",
    "        ax = fig.add_subplot(111)\n",
    "        ax.imshow(tr_frame, cmap='gray')\n",
    "\n",
    "        for _, angle, dist in zip(*peaks):\n",
    "            y0 = (dist - 0 * np.cos(angle)) / np.sin(angle)\n",
    "            y1 = (dist - tr_frame.shape[1] * np.cos(angle)) / np.sin(angle)\n",
    "            ax.plot((0, tr_frame.shape[1]), (y0, y1), '-r')\n",
    "        d = 30\n",
    "        ax.set_xlim((-d, tr_frame.shape[1] + d))\n",
    "        ax.set_ylim((d + tr_frame.shape[0], -d))\n",
    "        ax.scatter(corners[:, 0], corners[:, 1])\n",
    "        \n",
    "    return(corners)\n",
    "\n",
    "def get_nearest_corner(corners, pt):\n",
    "    ''' Nearest corner for point '''\n",
    "    return(np.argmin(np.linalg.norm(corners - np.array(pt), axis=1)))\n",
    "\n",
    "def get_corners_count(corners, points):\n",
    "    num_corners = len(corners)\n",
    "    corners_count = np.zeros(num_corners)\n",
    "    for p in points:\n",
    "        cr = get_nearest_corner(corners, p)\n",
    "        corners_count[cr] += 1\n",
    "    return(corners_count)\n",
    "\n",
    "def get_triangle_output(triangle, r, plot = False):\n",
    "    ''' Process single triangle '''\n",
    "    if plot:\n",
    "        plt.figure(0)\n",
    "        plt.imshow(triangle, cmap='gray')\n",
    "    # center of triangle\n",
    "    c = get_center(r)\n",
    "\n",
    "    # map for triangle\n",
    "    tr_map = get_triangle_map(triangle)\n",
    "    \n",
    "    # small points on triangle\n",
    "    tr_points = get_labels(tr_map, lambda x : (x > 30) & (x < 150))[0]\n",
    "    points = get_points(tr_points, 19)\n",
    "    if plot:\n",
    "        plt.figure(1)\n",
    "        plt.imshow(tr_points)\n",
    "    \n",
    "    # frame of the triangle\n",
    "    tr_frame = get_labels(tr_map, lambda x : (x > 150))[0] > 0\n",
    "    corners = get_corners(tr_frame, plot)\n",
    "    \n",
    "    corners_count = get_corners_count(corners, points)\n",
    "    \n",
    "    if plot:\n",
    "        plt.imshow(triangle)\n",
    "        plt.scatter(corners[:, 0], corners[:, 1], c = 'green')\n",
    "        plt.scatter(points[:, 0], points[:, 1])\n",
    "    \n",
    "    return(c, corners, points, corners_count)"
   ]
  },
  {
   "cell_type": "markdown",
   "metadata": {},
   "source": [
    "# Getting output"
   ]
  },
  {
   "cell_type": "code",
   "execution_count": null,
   "metadata": {
    "collapsed": false
   },
   "outputs": [],
   "source": [
    "for triangle, r in zip(triangles, ranges):\n",
    "    center, corners, points, corners_count = get_triangle_output(triangle, r)\n",
    "    print(\"%d %d %d %d %d\" % (center[0], center[1], corners_count[0], corners_count[1], corners_count[2]))"
   ]
  },
  {
   "cell_type": "markdown",
   "metadata": {},
   "source": [
    "# Debug setup for single triangle"
   ]
  },
  {
   "cell_type": "code",
   "execution_count": null,
   "metadata": {
    "collapsed": false
   },
   "outputs": [],
   "source": [
    "idx = 5\n",
    "_ = get_triangle_output(triangles[idx], ranges[idx], 1)"
   ]
  },
  {
   "cell_type": "code",
   "execution_count": null,
   "metadata": {
    "collapsed": true
   },
   "outputs": [],
   "source": []
  }
 ],
 "metadata": {
  "kernelspec": {
   "display_name": "Python 2",
   "language": "python",
   "name": "python2"
  },
  "language_info": {
   "codemirror_mode": {
    "name": "ipython",
    "version": 2
   },
   "file_extension": ".py",
   "mimetype": "text/x-python",
   "name": "python",
   "nbconvert_exporter": "python",
   "pygments_lexer": "ipython2",
   "version": "2.7.9"
  }
 },
 "nbformat": 4,
 "nbformat_minor": 2
}
