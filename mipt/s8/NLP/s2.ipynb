{
 "cells": [
  {
   "cell_type": "code",
   "execution_count": 182,
   "metadata": {
    "collapsed": true
   },
   "outputs": [],
   "source": [
    "%matplotlib inline\n",
    "import matplotlib.pyplot as plt\n",
    "import numpy as np\n",
    "from sklearn.feature_extraction.text import CountVectorizer"
   ]
  },
  {
   "cell_type": "code",
   "execution_count": 76,
   "metadata": {
    "collapsed": true
   },
   "outputs": [],
   "source": [
    "#docs = map(lambda x:x.lower(), ['Sky is blue', 'She has five apples', 'MIPT is the best'])\n",
    "docs = ['Sky is blue', 'She has five apples', 'MIPT is the best']\n",
    "count_model = CountVectorizer(ngram_range=(1,1)) # default unigram model"
   ]
  },
  {
   "cell_type": "code",
   "execution_count": 109,
   "metadata": {
    "collapsed": false
   },
   "outputs": [
    {
     "name": "stdout",
     "output_type": "stream",
     "text": [
      "[[0 0 0 1 1 0 0 1 0 0]\n",
      " [0 0 0 0 0 1 1 0 0 1]\n",
      " [0 0 0 0 0 1 0 0 1 0]\n",
      " [1 0 0 0 1 0 0 1 0 0]\n",
      " [1 0 0 1 0 0 0 1 0 0]\n",
      " [0 1 1 0 0 0 1 0 1 1]\n",
      " [0 1 0 0 0 1 0 0 0 1]\n",
      " [1 0 0 1 1 0 0 0 0 0]\n",
      " [0 0 1 0 0 1 0 0 0 0]\n",
      " [0 1 0 0 0 1 1 0 0 0]]\n"
     ]
    }
   ],
   "source": [
    "X = count_model.fit_transform(docs)\n",
    "Xc = (X.T * X) # this is co-occurrence matrix in sparse csr format\n",
    "Xc.setdiag(0) # sometimes you want to fill same word cooccurence to 0\n",
    "D = Xc.todense() # print out matrix in dense format\n",
    "print(D)"
   ]
  },
  {
   "cell_type": "code",
   "execution_count": null,
   "metadata": {
    "collapsed": true
   },
   "outputs": [],
   "source": [
    "print(count_model.vocabulary_)\n",
    "dct = count_model.vocabulary_\n",
    "labels = {v: k for k, v in dct.iteritems()}"
   ]
  },
  {
   "cell_type": "code",
   "execution_count": 211,
   "metadata": {
    "collapsed": false
   },
   "outputs": [
    {
     "data": {
      "text/plain": [
       "{u'apples': 0,\n",
       " u'best': 1,\n",
       " u'blue': 2,\n",
       " u'five': 3,\n",
       " u'has': 4,\n",
       " u'is': 5,\n",
       " u'mipt': 6,\n",
       " u'she': 7,\n",
       " u'sky': 8,\n",
       " u'the': 9}"
      ]
     },
     "execution_count": 211,
     "metadata": {},
     "output_type": "execute_result"
    }
   ],
   "source": [
    "dct"
   ]
  },
  {
   "cell_type": "code",
   "execution_count": 210,
   "metadata": {
    "collapsed": false
   },
   "outputs": [
    {
     "data": {
      "text/plain": [
       "{0: u'apples',\n",
       " 1: u'best',\n",
       " 2: u'blue',\n",
       " 3: u'five',\n",
       " 4: u'has',\n",
       " 5: u'is',\n",
       " 6: u'mipt',\n",
       " 7: u'she',\n",
       " 8: u'sky',\n",
       " 9: u'the'}"
      ]
     },
     "execution_count": 210,
     "metadata": {},
     "output_type": "execute_result"
    }
   ],
   "source": [
    "labels"
   ]
  },
  {
   "cell_type": "code",
   "execution_count": 128,
   "metadata": {
    "collapsed": true
   },
   "outputs": [],
   "source": [
    "U, s, V = np.linalg.svd(D, full_matrices=True)"
   ]
  },
  {
   "cell_type": "code",
   "execution_count": 129,
   "metadata": {
    "collapsed": false
   },
   "outputs": [
    {
     "data": {
      "text/plain": [
       "array([ 3.26180225,  3.        ,  1.60167913,  1.33987689,  1.        ,\n",
       "        1.        ,  1.        ,  1.        ,  1.        ,  1.        ])"
      ]
     },
     "execution_count": 129,
     "metadata": {},
     "output_type": "execute_result"
    }
   ],
   "source": [
    "s"
   ]
  },
  {
   "cell_type": "code",
   "execution_count": 177,
   "metadata": {
    "collapsed": true
   },
   "outputs": [],
   "source": [
    "r = 2"
   ]
  },
  {
   "cell_type": "code",
   "execution_count": 178,
   "metadata": {
    "collapsed": false
   },
   "outputs": [
    {
     "data": {
      "text/plain": [
       "0.99590928122244138"
      ]
     },
     "execution_count": 178,
     "metadata": {},
     "output_type": "execute_result"
    }
   ],
   "source": [
    "np.max(np.abs(D - (U[:,0:r] * np.diag(s[0:r]) * V[0:r,:])))"
   ]
  },
  {
   "cell_type": "code",
   "execution_count": 179,
   "metadata": {
    "collapsed": false
   },
   "outputs": [
    {
     "data": {
      "text/plain": [
       "array([ 3.26180225,  3.        ,  1.60167913,  1.33987689,  1.        ,\n",
       "        1.        ,  1.        ,  1.        ,  1.        ,  1.        ])"
      ]
     },
     "execution_count": 179,
     "metadata": {},
     "output_type": "execute_result"
    }
   ],
   "source": [
    "s"
   ]
  },
  {
   "cell_type": "code",
   "execution_count": 183,
   "metadata": {
    "collapsed": false
   },
   "outputs": [],
   "source": [
    "Z = np.diag(s[0:r]) * V[0:r,:]"
   ]
  },
  {
   "cell_type": "code",
   "execution_count": 249,
   "metadata": {
    "collapsed": true
   },
   "outputs": [],
   "source": [
    "# Z[0,:],Z[1,:]\n",
    "x = Z[0, :].T\n",
    "y = Z[1, :].T\n",
    "#x = U[:, 0]\n",
    "#y = U[:, 1]"
   ]
  },
  {
   "cell_type": "code",
   "execution_count": 250,
   "metadata": {
    "collapsed": false
   },
   "outputs": [
    {
     "data": {
      "image/png": "[encoded data removed]",
      "text/plain": [
       "<matplotlib.figure.Figure at 0x7f0fd8f0e650>"
      ]
     },
     "metadata": {},
     "output_type": "display_data"
    }
   ],
   "source": [
    "plt.scatter(x, y)\n",
    "for i in range(n):\n",
    "    plt.annotate(labels[i], xy = (x[i], y[i]), xytext = (0, (i - n / 2.) * 5), textcoords = 'offset points')"
   ]
  },
  {
   "cell_type": "code",
   "execution_count": 248,
   "metadata": {
    "collapsed": false
   },
   "outputs": [
    {
     "data": {
      "text/plain": [
       "matrix([[  0.00000000e+00,   1.42839200e+00,   7.96863753e-01,\n",
       "           0.00000000e+00,  -1.81066398e-16,   1.80234823e+00,\n",
       "           1.42839200e+00,  -1.81066398e-16,   7.96863753e-01,\n",
       "           1.42839200e+00]])"
      ]
     },
     "execution_count": 248,
     "metadata": {},
     "output_type": "execute_result"
    }
   ],
   "source": [
    "x"
   ]
  },
  {
   "cell_type": "code",
   "execution_count": null,
   "metadata": {
    "collapsed": true
   },
   "outputs": [],
   "source": []
  }
 ],
 "metadata": {
  "kernelspec": {
   "display_name": "Python 2",
   "language": "python",
   "name": "python2"
  },
  "language_info": {
   "codemirror_mode": {
    "name": "ipython",
    "version": 2
   },
   "file_extension": ".py",
   "mimetype": "text/x-python",
   "name": "python",
   "nbconvert_exporter": "python",
   "pygments_lexer": "ipython2",
   "version": "2.7.9"
  }
 },
 "nbformat": 4,
 "nbformat_minor": 2
}
