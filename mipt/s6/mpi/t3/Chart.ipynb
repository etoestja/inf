{
 "cells": [
  {
   "cell_type": "code",
   "execution_count": 1,
   "metadata": {
    "collapsed": true
   },
   "outputs": [],
   "source": [
    "%matplotlib inline\n",
    "import numpy as np\n",
    "import matplotlib.pyplot as plt"
   ]
  },
  {
   "cell_type": "code",
   "execution_count": 2,
   "metadata": {
    "collapsed": true
   },
   "outputs": [],
   "source": [
    "data=[\n",
    "[1, 107.900292, 104.303804, 111.512006, 105.119889, 103.258528, ],\n",
    "[2, 52.768410, 52.991580, 59.060254, 55.564355, 56.710099, ],\n",
    "[3, 39.772124, 38.238584, 36.951294, 37.566647, 36.821415, ],\n",
    "[4, 29.436122, 28.857520, 28.598993, 28.512999, 29.236331, ],\n",
    "[5, 23.886364, 23.508285, 23.291129, 23.348777, 24.994548, ],\n",
    "[6, 21.161852, 19.671421, 19.561260, 21.351180, 20.869526, ],\n",
    "[7, 18.319971, 17.353058, 16.826077, 16.654330, 16.634976, ],\n",
    "[8, 14.594191, 15.291387, 14.767366, 15.892487, 14.603530, ],\n",
    "[9, 13.243076, 13.604347, 13.737536, 15.097327, 13.146600, ],\n",
    "[10, 12.892144, 13.727098, 11.787571, 12.850714, 16.338361, ],\n",
    "[11, 11.234526, 11.277884, 11.410955, 11.063776, 11.128834, ],\n",
    "[12, 10.403145, 10.650152, 10.904164, 10.835170, 10.257147, ],\n",
    "[13, 9.583059, 9.454150, 10.251783, 9.773093, 10.055407, ],\n",
    "[14, 9.018604, 9.128110, 9.499394, 9.222678, 8.975445, ],\n",
    "[15, 9.660184, 8.468375, 8.715420, 8.612831, 8.773095, ],\n",
    "]\n",
    "\n",
    "data=np.array(data)"
   ]
  },
  {
   "cell_type": "code",
   "execution_count": 3,
   "metadata": {
    "collapsed": false
   },
   "outputs": [],
   "source": [
    "T1 = np.mean(data[0,1:])\n",
    "data1 = T1 / data"
   ]
  },
  {
   "cell_type": "code",
   "execution_count": 4,
   "metadata": {
    "collapsed": false
   },
   "outputs": [],
   "source": [
    "x=data[:,0]\n",
    "y=np.mean(data1[:,1:],axis=1)\n",
    "err=np.std(data1[:,1:],axis=1)"
   ]
  },
  {
   "cell_type": "code",
   "execution_count": 8,
   "metadata": {
    "collapsed": false
   },
   "outputs": [
    {
     "data": {
      "text/plain": [
       "(array([  1.,   2.,   3.,   4.,   5.,   6.,   7.,   8.,   9.,  10.,  11.,\n",
       "         12.,  13.,  14.,  15.]),\n",
       " array([  1.00076796,   1.92371768,   2.81233136,   3.6792609 ,\n",
       "          4.47332728,   5.19247711,   6.21065572,   7.08820128,\n",
       "          7.749691  ,   7.96593776,   9.4831428 ,  10.03558524,\n",
       "         10.84279248,  11.61130162,  12.05585648]))"
      ]
     },
     "execution_count": 8,
     "metadata": {},
     "output_type": "execute_result"
    }
   ],
   "source": [
    "x,y"
   ]
  },
  {
   "cell_type": "code",
   "execution_count": 7,
   "metadata": {
    "collapsed": false
   },
   "outputs": [
    {
     "data": {
      "text/plain": [
       "array([ 0.02746724,  0.08115925,  0.07819387,  0.04533229,  0.1148899 ,\n",
       "        0.19364979,  0.22246224,  0.23035412,  0.37347656,  0.83259803,\n",
       "        0.10165951,  0.23527309,  0.32338384,  0.23246805,  0.54057299])"
      ]
     },
     "execution_count": 7,
     "metadata": {},
     "output_type": "execute_result"
    }
   ],
   "source": [
    "err"
   ]
  },
  {
   "cell_type": "code",
   "execution_count": 9,
   "metadata": {
    "collapsed": false
   },
   "outputs": [
    {
     "data": {
      "image/png": "[encoded data removed]",
      "text/plain": [
       "<matplotlib.figure.Figure at 0x7fb73c908610>"
      ]
     },
     "metadata": {},
     "output_type": "display_data"
    }
   ],
   "source": [
    "plt.plot(x, x, 'g-', label=r\"$S_{max}$\")\n",
    "plt.errorbar(x, y, fmt='or-', label=r\"$S_{real}$\",\n",
    "             xerr=0, yerr=err, ecolor='black')\n",
    "plt.xlabel('$p$', fontsize=25)\n",
    "plt.ylabel(r'$S_p=\\frac{T_1}{T_p}$', fontsize=18)\n",
    "plt.legend(loc='upper left', fontsize=18)\n",
    "plt.savefig(\"chart.png\")\n",
    "\n",
    "# display plot on screen\n",
    "plt.show()"
   ]
  },
  {
   "cell_type": "code",
   "execution_count": null,
   "metadata": {
    "collapsed": true
   },
   "outputs": [],
   "source": []
  }
 ],
 "metadata": {
  "kernelspec": {
   "display_name": "Python 2",
   "language": "python",
   "name": "python2"
  },
  "language_info": {
   "codemirror_mode": {
    "name": "ipython",
    "version": 2
   },
   "file_extension": ".py",
   "mimetype": "text/x-python",
   "name": "python",
   "nbconvert_exporter": "python",
   "pygments_lexer": "ipython2",
   "version": "2.7.9"
  }
 },
 "nbformat": 4,
 "nbformat_minor": 0
}
