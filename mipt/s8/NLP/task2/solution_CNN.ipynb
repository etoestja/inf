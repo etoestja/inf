{
 "cells": [
  {
   "cell_type": "markdown",
   "metadata": {},
   "source": [
    "# DL in NLP\n",
    "\n",
    "## Task 2: Classifying TED talks\n",
    "\n",
    "Sergei Volodin, senior undergraduate student at MIPT"
   ]
  },
  {
   "cell_type": "code",
   "execution_count": 1,
   "metadata": {},
   "outputs": [],
   "source": [
    "%matplotlib inline\n",
    "import tensorflow as tf\n",
    "import json\n",
    "import numpy as np\n",
    "import pandas as pd\n",
    "import collections\n",
    "from __future__ import print_function\n",
    "import re\n",
    "import random\n",
    "import math\n",
    "from sklearn.manifold import TSNE\n",
    "from matplotlib import pylab\n",
    "from transliterate import translit\n",
    "from six.moves import range\n",
    "import sklearn.metrics\n",
    "import matplotlib.pyplot as plt\n",
    "from six.moves import cPickle as pickle\n",
    "from tqdm import tqdm"
   ]
  },
  {
   "cell_type": "code",
   "execution_count": 2,
   "metadata": {
    "collapsed": true
   },
   "outputs": [],
   "source": [
    "def print_unicode(ent):\n",
    "    print(repr(ent).decode(\"unicode-escape\"))"
   ]
  },
  {
   "cell_type": "code",
   "execution_count": 3,
   "metadata": {
    "collapsed": true
   },
   "outputs": [],
   "source": [
    "filename = 'ted_ru-20160408.json'\n",
    "data_test = json.loads(open(filename + '.test', 'r').read(), 'unicode-escape')\n",
    "data_train = json.loads(open(filename + '.train', 'r').read(), 'unicode-escape')"
   ]
  },
  {
   "cell_type": "code",
   "execution_count": 4,
   "metadata": {
    "collapsed": true
   },
   "outputs": [],
   "source": [
    "class_to_vector = {\n",
    "    1: [1,0,0,0,0,0,0,0],\n",
    "    2: [0,1,0,0,0,0,0,0],\n",
    "    3: [0,0,1,0,0,0,0,0],\n",
    "    4: [0,0,0,1,0,0,0,0],\n",
    "    5: [0,0,0,0,1,0,0,0],\n",
    "    6: [0,0,0,0,0,1,0,0],\n",
    "    7: [0,0,0,0,0,0,1,0],\n",
    "    8: [0,0,0,0,0,0,0,1]\n",
    "}"
   ]
  },
  {
   "cell_type": "markdown",
   "metadata": {},
   "source": [
    "Plan:\n",
    "\n",
    "1. Removing non-letters\n",
    "2. Obtaining words, training word2vec CBOW model\n",
    "3. Running RNN on document\n",
    "4. Classifying based on final hidden state"
   ]
  },
  {
   "cell_type": "code",
   "execution_count": 18,
   "metadata": {
    "collapsed": true
   },
   "outputs": [],
   "source": [
    "all_train_text = ' '.join(map(lambda x : x['content'], data_train))"
   ]
  },
  {
   "cell_type": "code",
   "execution_count": 19,
   "metadata": {
    "collapsed": true
   },
   "outputs": [],
   "source": [
    "words_regex = re.compile(ur'[^а-яА-ЯёЁa-zA-Z]')\n",
    "def str_to_words(s):\n",
    "    return(words_regex.sub(' ', s).lower().split())"
   ]
  },
  {
   "cell_type": "code",
   "execution_count": 20,
   "metadata": {},
   "outputs": [],
   "source": [
    "train_words = str_to_words(all_train_text)"
   ]
  },
  {
   "cell_type": "code",
   "execution_count": 21,
   "metadata": {
    "collapsed": true
   },
   "outputs": [],
   "source": [
    "vocabulary_size = 50000"
   ]
  },
  {
   "cell_type": "code",
   "execution_count": 22,
   "metadata": {},
   "outputs": [
    {
     "name": "stdout",
     "output_type": "stream",
     "text": [
      "[['UNK', 139493], (u'и', 92090), (u'в', 83510), (u'что', 57304), (u'я', 47139)]\n",
      "[4, 49, 42333, 12866, 7686, 21, 4461, 740, 105, 31181]\n"
     ]
    }
   ],
   "source": [
    "def build_dataset(words, vocabulary_size):\n",
    "    count = [['UNK', -1]]\n",
    "    count.extend(collections.Counter(words).most_common(vocabulary_size - 1))\n",
    "    dictionary = dict()\n",
    "    for word, _ in count:\n",
    "        dictionary[word] = len(dictionary)\n",
    "    data = list()\n",
    "    unk_count = 0\n",
    "    for word in words:\n",
    "        if word in dictionary:\n",
    "            index = dictionary[word]\n",
    "        else:\n",
    "            index = 0  # dictionary['UNK']\n",
    "            unk_count = unk_count + 1\n",
    "        data.append(index)\n",
    "    count[0][1] = unk_count\n",
    "    reverse_dictionary = dict(zip(dictionary.values(), dictionary.keys())) \n",
    "    return data, count, dictionary, reverse_dictionary\n",
    "\n",
    "data, count, dictionary, reverse_dictionary = build_dataset(train_words, vocabulary_size)\n",
    "print_unicode(count[:5])\n",
    "print_unicode(data[:10])"
   ]
  },
  {
   "cell_type": "code",
   "execution_count": 23,
   "metadata": {
    "collapsed": true
   },
   "outputs": [],
   "source": [
    "data_index = 0\n",
    "\n",
    "def to_range(n):\n",
    "    return(n % len(data))\n",
    "\n",
    "# CBOW model\n",
    "def generate_batch(batch_size, context_size):\n",
    "    global data_index\n",
    "  \n",
    "    data_index = to_range(data_index)\n",
    "    \n",
    "    batch = np.ndarray(shape=(batch_size, context_size * 2), dtype=np.int32)\n",
    "    labels = np.ndarray(shape=(batch_size, 1), dtype=np.int32)\n",
    "    \n",
    "    for i in range(batch_size):\n",
    "        labels[i] = data[data_index]\n",
    "        for j in range(0, context_size):\n",
    "            batch[i][2 * j] = data[to_range(data_index - (j + 1))]\n",
    "            batch[i][2 * j + 1] = data[to_range(data_index + (j + 1))]\n",
    "        data_index = to_range(data_index + 1)\n",
    "        \n",
    "    return batch, labels"
   ]
  },
  {
   "cell_type": "code",
   "execution_count": 6,
   "metadata": {},
   "outputs": [],
   "source": [
    "batch_size = 128\n",
    "embedding_size = 256\n",
    "context_size = 4\n",
    "num_sampled = 64\n",
    "graph = tf.Graph()\n",
    "\n",
    "with graph.as_default(), tf.device('/cpu:0'):\n",
    "    train_dataset = tf.placeholder(tf.int32, shape=[batch_size, context_size * 2], name = \"train_dataset\")\n",
    "    train_labels = tf.placeholder(tf.int32, shape=[batch_size, 1], name = \"train_labels\")\n",
    "  \n",
    "    # Variables.\n",
    "    embeddings = tf.Variable(tf.random_uniform([vocabulary_size, embedding_size], -1.0, 1.0), name = \"embeddings\")\n",
    "    softmax_weights = tf.Variable(tf.truncated_normal([vocabulary_size, embedding_size],\n",
    "                         stddev=1.0 / math.sqrt(embedding_size)), name = \"SM_weights\")\n",
    "    softmax_biases = tf.Variable(tf.zeros([vocabulary_size]), name = \"SM_biases\")\n",
    "    \n",
    "    embed = tf.reduce_mean(tf.nn.embedding_lookup(embeddings, train_dataset), [1], name = \"emb_result\")\n",
    "    loss = tf.reduce_mean(\n",
    "      tf.nn.sampled_softmax_loss(weights=softmax_weights, biases=softmax_biases, inputs=embed,\n",
    "                               labels=train_labels, num_sampled=num_sampled, num_classes=vocabulary_size), name = \"loss\")\n",
    "\n",
    "  \n",
    "    optimizer = tf.train.AdagradOptimizer(1.0).minimize(loss)\n",
    "    \n",
    "    norm = tf.sqrt(tf.reduce_sum(tf.square(embeddings), 1, keep_dims=True))\n",
    "    normalized_embeddings = embeddings / norm\n",
    "    \n",
    "    tf.summary.scalar(\"Embedding_loss\", loss)\n",
    "    summary_emb = tf.summary.merge_all()"
   ]
  },
  {
   "cell_type": "code",
   "execution_count": 7,
   "metadata": {},
   "outputs": [],
   "source": [
    "logs_path = '/home/etoestja/tensorboard/05'\n",
    "writer = tf.summary.FileWriter(logs_path, graph=graph)"
   ]
  },
  {
   "cell_type": "code",
   "execution_count": 14,
   "metadata": {},
   "outputs": [
    {
     "name": "stderr",
     "output_type": "stream",
     "text": [
      "100%|██████████| 30000/30000 [08:41<00:00, 57.48it/s]\n"
     ]
    }
   ],
   "source": [
    "epochs = 30000\n",
    "with tf.Session(graph=graph) as session:\n",
    "    tf.global_variables_initializer().run()\n",
    "    for epoch in tqdm(range(epochs)):\n",
    "        batch_data, batch_labels = generate_batch(batch_size, context_size)\n",
    "        feed_dict = {train_dataset : batch_data, train_labels : batch_labels}\n",
    "        _, l, summary = session.run([optimizer, loss, summary_emb], feed_dict = feed_dict)\n",
    "        writer.add_summary(summary, epoch)\n",
    "    final_embeddings = normalized_embeddings.eval()"
   ]
  },
  {
   "cell_type": "code",
   "execution_count": 8,
   "metadata": {
    "collapsed": true
   },
   "outputs": [],
   "source": [
    "emb_fn = \"emb1.pkl\"\n",
    "#pickle.dump(final_embeddings, open(emb_fn, 'w'))\n",
    "final_embeddings = pickle.load(open(emb_fn, 'r'))"
   ]
  },
  {
   "cell_type": "code",
   "execution_count": 9,
   "metadata": {
    "collapsed": true
   },
   "outputs": [],
   "source": [
    "pad_word = vocabulary_size\n",
    "max_words = 5600"
   ]
  },
  {
   "cell_type": "code",
   "execution_count": 14,
   "metadata": {
    "collapsed": true
   },
   "outputs": [],
   "source": [
    "def str_to_idx(s):\n",
    "    words = str_to_words(s)\n",
    "    res = []\n",
    "    for word in words:\n",
    "        if word in dictionary:\n",
    "            index = dictionary[word]\n",
    "        else:\n",
    "            index = 0\n",
    "        res.append(index)\n",
    "    return(res)\n",
    "def get_Y(data):\n",
    "    classes = map(lambda x: x['class'], data_train)\n",
    "    res = map(lambda x: class_to_vector[x], classes)\n",
    "    res = np.array(res)#.reshape(-1, 3, 1)\n",
    "    return(res)\n",
    "def get_X(data):\n",
    "    X = map(lambda x : str_to_idx(x['content']), data)\n",
    "    L = map(lambda x : len(x), X)\n",
    "    X = map(lambda x : x + [pad_word] * (max_words - len(x)), X)\n",
    "    return np.array(X), np.array(L)"
   ]
  },
  {
   "cell_type": "code",
   "execution_count": 24,
   "metadata": {},
   "outputs": [],
   "source": [
    "X, L = get_X(data_train)"
   ]
  },
  {
   "cell_type": "code",
   "execution_count": 25,
   "metadata": {
    "collapsed": true
   },
   "outputs": [],
   "source": [
    "Y = get_Y(data_train)"
   ]
  },
  {
   "cell_type": "code",
   "execution_count": 26,
   "metadata": {},
   "outputs": [],
   "source": [
    "c_graph = tf.Graph()\n",
    "with c_graph.as_default(), tf.device('/cpu:0'):\n",
    "    text_input = tf.placeholder(tf.int32, shape=[None, None])\n",
    "    text_length = tf.placeholder(tf.float32, shape=[None])\n",
    "    ans_input = tf.placeholder(tf.float32, shape=[None, 8])\n",
    "    \n",
    "    changeable_embeddings = tf.Variable(final_embeddings, name = \"embeddings\", trainable = False, dtype = tf.float32)\n",
    "    non_changeable_embeddings = tf.Variable(1. * np.zeros((1, embedding_size)), trainable = False, dtype = tf.float32)\n",
    "    embeddings = tf.concat([changeable_embeddings, non_changeable_embeddings], 0)\n",
    "    \n",
    "    text_embeddings = tf.reshape(tf.nn.embedding_lookup(embeddings, text_input), [-1, max_words, embedding_size, 1])\n",
    "    \n",
    "    #text_mean = tf.reduce_sum(text_embeddings, [1]) / tf.reshape(text_length, [-1, 1])\n",
    "    \n",
    "    num_filters = 64\n",
    "    pooled_outputs = []\n",
    "    filter_sizes = [2, 3, 5]\n",
    "    for filter_size in filter_sizes:\n",
    "        with tf.name_scope(\"conv-maxpool-%s\" % filter_size):\n",
    "            # Convolution Layer\n",
    "            filter_shape = [filter_size, embedding_size, 1, num_filters]\n",
    "            W = tf.Variable(tf.truncated_normal(filter_shape, stddev=0.1), name=\"W\")\n",
    "            #b = tf.Variable(tf.constant(0.1, shape=[num_filters]), name=\"b\")\n",
    "            conv = tf.nn.conv2d(\n",
    "                text_embeddings,\n",
    "                W,\n",
    "                strides=[1, 1, 1, 1],\n",
    "                padding=\"VALID\",\n",
    "                name=\"conv\")\n",
    "            # Apply nonlinearity\n",
    "            #h = tf.nn.relu(tf.nn.bias_add(conv, b), name=\"relu\")\n",
    "            h = tf.nn.relu(conv, name=\"relu\")\n",
    "            # Max-pooling over the outputs\n",
    "            pooled = tf.nn.max_pool(\n",
    "                h,\n",
    "                ksize=[1, max_words - filter_size + 1, 1, 1],\n",
    "                strides=[1, 1, 1, 1],\n",
    "                padding='VALID',\n",
    "                name=\"pool\")\n",
    "            pooled_outputs.append(pooled)\n",
    " \n",
    "    # Combine all the pooled features\n",
    "    num_filters_total = num_filters * len(filter_sizes)\n",
    "    h_pool = tf.concat(pooled_outputs, 3)\n",
    "    h_pool_flat = tf.reshape(h_pool, [-1, num_filters_total])\n",
    "    \n",
    "    #h_drop = tf.nn.dropout(h_pool_flat, 0.5)\n",
    "    \n",
    "    #dense1 = tf.layers.dense(inputs = h_drop, units = 20, activation=tf.nn.relu)\n",
    "    \n",
    "    #dense1d = tf.nn.dropout(h_drop, 0.9)\n",
    "    \n",
    "    #dense1 = tf.layers.dense(inputs = h_drop, units = 10, activation=tf.nn.relu)\n",
    "    \n",
    "    dense = tf.layers.dense(inputs = h_pool_flat, units = 8, activation=tf.nn.relu)\n",
    "   \n",
    "    # hinge loss\n",
    "    #c_loss = tf.reduce_mean(tf.square(1 - tf.multiply(ans_input, dense)))\n",
    "    \n",
    "    # square loss\n",
    "    #c_loss =  tf.reduce_mean(tf.squared_difference(ans_input, dense))\n",
    "    c_loss = tf.reduce_mean(tf.nn.softmax_cross_entropy_with_logits(labels = ans_input, logits = dense))\n",
    "    \n",
    "    accuracy = tf.reduce_mean(tf.contrib.metrics.accuracy(tf.to_int32(ans_input), tf.to_int32(tf.sign(dense))))\n",
    "    \n",
    "    c_optimizer = tf.train.AdagradOptimizer(0.05).minimize(c_loss)\n",
    "    \n",
    "    tf.summary.scalar(\"Classification_loss\", c_loss)\n",
    "    tf.summary.scalar(\"Classification_accuracy\", accuracy)\n",
    "    c_summary = tf.summary.merge_all()\n",
    "    \n",
    "    c_initializer = tf.global_variables_initializer()\n",
    "    c_writer = tf.summary.FileWriter(logs_path, graph)"
   ]
  },
  {
   "cell_type": "code",
   "execution_count": 27,
   "metadata": {
    "collapsed": true
   },
   "outputs": [],
   "source": [
    "c_sess = tf.Session(graph=c_graph)\n",
    "c_sess.run(c_initializer)\n",
    "rolling_epoch = 0"
   ]
  },
  {
   "cell_type": "code",
   "execution_count": 66,
   "metadata": {
    "scrolled": true
   },
   "outputs": [
    {
     "name": "stdout",
     "output_type": "stream",
     "text": [
      "0 0.563634 0.777344\n",
      "1 0.628097 0.789062\n",
      "2 0.232908 0.84375\n",
      "3 0.439468 0.8125\n",
      "4 0.0881139 0.875\n",
      "5 0.471738 0.816406\n",
      "6 0.368548 0.84375\n",
      "7 0.31883 0.851562\n",
      "8 0.422453 0.839844\n",
      "9 0.269832 0.839844\n",
      "10 0.423325 0.8125\n",
      "11 0.299608 0.8125\n",
      "12 0.358718 0.828125\n",
      "13 0.288745 0.824219\n",
      "14 0.708879 0.785156\n",
      "15 0.380335 0.816406\n",
      "16 0.484235 0.828125\n",
      "17 0.233443 0.835938\n",
      "18 0.207622 0.886719\n",
      "19 0.445012 0.808594\n",
      "20 0.302534 0.84375\n",
      "21 0.30127 0.835938\n",
      "22 0.292309 0.820312\n",
      "23 0.514201 0.761719\n",
      "24 0.238146 0.835938\n",
      "25 0.457 0.78125\n",
      "26 0.302762 0.8125\n",
      "27 0.157815 0.832031\n",
      "28 0.360418 0.796875\n",
      "29 0.167405 0.828125\n",
      "30 0.348414 0.824219\n",
      "31 0.16942 0.832031\n",
      "32 0.496686 0.808594\n",
      "33 0.353101 0.828125\n",
      "34 0.224341 0.839844\n",
      "35 0.364228 0.785156\n",
      "36 0.454011 0.761719\n",
      "37 0.150661 0.847656\n",
      "38 0.307751 0.804688\n",
      "39 0.301465 0.832031\n",
      "40 0.211212 0.824219\n",
      "41 0.212786 0.832031\n",
      "42 0.351624 0.835938\n",
      "43 0.289842 0.828125\n",
      "44 0.280416 0.839844\n",
      "45 0.0865833 0.839844\n",
      "46 0.28643 0.792969\n",
      "47 0.212156 0.863281\n",
      "48 0.34791 0.824219\n",
      "49 0.296761 0.796875\n",
      "50 0.502768 0.769531\n",
      "51 0.428809 0.773438\n",
      "52 0.504333 0.78125\n",
      "53 0.344521 0.835938\n",
      "54 0.289748 0.835938\n",
      "55 0.426274 0.828125\n",
      "56 0.565286 0.792969\n",
      "57 0.562054 0.824219\n",
      "58 0.163345 0.863281\n",
      "59 0.416063 0.832031\n",
      "60 0.363648 0.847656\n",
      "61 0.217399 0.882812\n",
      "62 0.693276 0.769531\n",
      "63 0.508268 0.777344\n",
      "64 0.340181 0.84375\n",
      "65 0.171356 0.855469\n",
      "66 0.498448 0.820312\n",
      "67 0.511884 0.792969\n",
      "68 0.296034 0.84375\n",
      "69 0.473914 0.824219\n",
      "70 0.334261 0.863281\n",
      "71 0.300578 0.828125\n",
      "72 0.379162 0.824219\n",
      "73 0.339777 0.847656\n",
      "74 0.343014 0.828125\n",
      "75 0.349163 0.835938\n",
      "76 0.229614 0.875\n",
      "77 0.410812 0.8125\n",
      "78 0.417903 0.839844\n",
      "79 0.334114 0.855469\n",
      "80 0.208425 0.875\n",
      "81 0.213008 0.859375\n",
      "82 0.271747 0.824219\n",
      "83 0.117132 0.855469\n",
      "84 0.419063 0.808594\n",
      "85 0.162287 0.828125\n",
      "86 0.284911 0.84375\n",
      "87 0.332723 0.828125\n",
      "88 0.439282 0.792969\n",
      "89 0.089893 0.859375\n",
      "90 0.352149 0.808594\n",
      "91 0.411909 0.800781\n",
      "92 0.353901 0.832031\n",
      "93 0.283085 0.828125\n",
      "94 0.412195 0.824219\n",
      "95 0.499833 0.785156\n",
      "96 0.160785 0.832031\n",
      "97 0.239294 0.839844\n",
      "98 0.276569 0.828125\n",
      "99 0.294812 0.800781\n",
      "100 0.505135 0.800781\n",
      "101 0.288976 0.8125\n",
      "102 0.290543 0.828125\n",
      "103 0.212202 0.84375\n",
      "104 0.140718 0.851562\n",
      "105 0.287145 0.804688\n",
      "106 0.565785 0.777344\n",
      "107 0.416717 0.820312\n",
      "108 0.292036 0.820312\n",
      "109 0.226461 0.851562\n",
      "110 0.480489 0.820312\n",
      "111 0.375669 0.78125\n",
      "112 0.435287 0.773438\n",
      "113 0.231722 0.867188\n",
      "114 0.297245 0.832031\n",
      "115 0.357625 0.824219\n",
      "116 0.277006 0.839844\n",
      "117 0.27982 0.839844\n",
      "118 0.215423 0.828125\n",
      "119 0.298229 0.8125\n",
      "120 0.145487 0.835938\n",
      "121 0.333447 0.816406\n",
      "122 0.235623 0.824219\n",
      "123 0.481484 0.773438\n",
      "124 0.355381 0.816406\n",
      "125 0.0705544 0.867188\n",
      "126 0.286803 0.8125\n",
      "127 0.269939 0.835938\n",
      "128 0.21368 0.828125\n",
      "129 0.489441 0.777344\n",
      "130 0.219234 0.839844\n",
      "131 0.350382 0.832031\n",
      "132 0.501574 0.78125\n",
      "133 0.288768 0.804688\n",
      "134 0.275987 0.824219\n",
      "135 0.206071 0.839844\n",
      "136 0.279074 0.832031\n",
      "137 0.439511 0.796875\n",
      "138 0.273185 0.835938\n",
      "139 0.288181 0.824219\n",
      "140 0.202282 0.859375\n",
      "141 0.284115 0.835938\n",
      "142 0.474882 0.804688\n",
      "143 0.147874 0.859375\n",
      "144 0.431417 0.8125\n",
      "145 0.350264 0.828125\n",
      "146 0.220652 0.855469\n",
      "147 0.424861 0.796875\n",
      "148 0.412124 0.796875\n",
      "149 0.418697 0.816406\n",
      "150 0.430139 0.8125\n",
      "151 0.364058 0.804688\n",
      "152 0.281517 0.859375\n",
      "153 0.294897 0.839844\n",
      "154 0.424572 0.8125\n",
      "155 0.424203 0.796875\n",
      "156 0.557884 0.789062\n",
      "157 0.210836 0.859375\n",
      "158 0.236544 0.839844\n",
      "159 0.139329 0.867188\n",
      "160 0.407273 0.847656\n",
      "161 0.363432 0.820312\n",
      "162 0.419894 0.820312\n",
      "163 0.230592 0.847656\n",
      "164 0.217134 0.839844\n",
      "165 0.403714 0.84375\n",
      "166 0.349802 0.828125\n",
      "167 0.287275 0.828125\n",
      "168 0.41891 0.800781\n",
      "169 0.28468 0.851562\n",
      "170 0.419558 0.832031\n",
      "171 0.303141 0.824219\n",
      "172 0.213351 0.832031\n",
      "173 0.138937 0.851562\n",
      "174 0.343562 0.8125\n",
      "175 0.290372 0.828125\n",
      "176 0.372266 0.816406\n",
      "177 0.217633 0.839844\n",
      "178 0.355594 0.816406\n",
      "179 0.287088 0.8125\n",
      "180 0.234853 0.828125\n",
      "181 0.295223 0.828125\n",
      "182 0.494484 0.769531\n",
      "183 0.28109 0.835938\n",
      "184 0.430331 0.800781\n",
      "185 0.280629 0.828125\n",
      "186 0.413276 0.824219\n",
      "187 0.362467 0.832031\n",
      "188 0.431448 0.789062\n",
      "189 0.359264 0.828125\n",
      "190 0.460662 0.832031\n",
      "191 0.290167 0.820312\n",
      "192 0.219376 0.835938\n",
      "193 0.295118 0.824219\n",
      "194 0.360279 0.820312\n",
      "195 0.136528 0.84375\n",
      "196 0.261327 0.839844\n",
      "197 0.14589 0.875\n",
      "198 0.40893 0.800781\n",
      "199 0.283462 0.835938\n",
      "200 0.220893 0.847656\n",
      "201 0.260412 0.859375\n",
      "202 0.421142 0.789062\n",
      "203 0.173023 0.824219\n",
      "204 0.281918 0.828125\n",
      "205 0.36765 0.808594\n",
      "206 0.292006 0.84375\n",
      "207 0.141947 0.835938\n",
      "208 0.365416 0.808594\n",
      "209 0.215905 0.804688\n",
      "210 0.433337 0.785156\n",
      "211 0.560296 0.765625\n",
      "212 0.163187 0.847656\n",
      "213 0.270306 0.820312\n",
      "214 0.335319 0.804688\n",
      "215 0.137601 0.871094\n",
      "216 0.41869 0.832031\n",
      "217 0.286454 0.828125\n",
      "218 0.287059 0.832031\n",
      "219 0.2811 0.832031\n",
      "220 0.550733 0.816406\n",
      "221 0.0735269 0.855469\n",
      "222 0.291241 0.804688\n",
      "223 0.354908 0.828125\n",
      "224 0.283793 0.8125\n",
      "225 0.408518 0.816406\n",
      "226 0.498293 0.777344\n",
      "227 0.495199 0.804688\n",
      "228 0.281153 0.839844\n",
      "229 0.0904114 0.878906\n",
      "230 0.348603 0.828125\n",
      "231 0.414103 0.839844\n",
      "232 0.289626 0.84375\n",
      "233 0.372648 0.808594\n",
      "234 0.3586 0.816406\n",
      "235 0.416668 0.789062\n",
      "236 0.344155 0.839844\n",
      "237 0.297612 0.847656\n",
      "238 0.675346 0.785156\n",
      "239 0.219399 0.890625\n",
      "240 0.273556 0.859375\n",
      "241 0.332196 0.886719\n",
      "242 0.276109 0.859375\n",
      "243 0.130193 0.894531\n",
      "244 0.295945 0.828125\n",
      "245 0.362936 0.824219\n",
      "246 0.150171 0.855469\n",
      "247 0.173314 0.851562\n",
      "248 0.222745 0.835938\n",
      "249 0.221024 0.859375\n",
      "250 0.239951 0.800781\n",
      "251 0.50196 0.785156\n",
      "252 0.265537 0.855469\n",
      "253 0.26946 0.832031\n",
      "254 0.424353 0.832031\n",
      "255 0.288181 0.828125\n",
      "256 0.557624 0.777344\n",
      "257 0.358066 0.820312\n",
      "258 0.481439 0.816406\n",
      "259 0.47847 0.824219\n",
      "260 0.350716 0.855469\n",
      "261 0.281617 0.851562\n",
      "262 0.363408 0.855469\n",
      "263 0.208804 0.875\n",
      "264 0.27909 0.84375\n",
      "265 0.159256 0.859375\n",
      "266 0.27692 0.820312\n",
      "267 0.326159 0.832031\n",
      "268 0.42364 0.777344\n",
      "269 0.367856 0.84375\n",
      "270 0.209426 0.847656\n",
      "271 0.3994 0.839844\n",
      "272 0.198413 0.824219\n",
      "273 0.21929 0.835938\n",
      "274 0.281473 0.824219\n",
      "275 0.416225 0.820312\n",
      "276 0.423717 0.796875\n",
      "277 0.276976 0.835938\n",
      "278 0.558914 0.792969\n",
      "279 0.428142 0.832031\n",
      "280 0.568379 0.792969\n",
      "281 0.423156 0.832031\n",
      "282 0.157701 0.875\n",
      "283 0.15399 0.851562\n",
      "284 0.406292 0.839844\n",
      "285 0.286339 0.859375\n",
      "286 0.270804 0.84375\n",
      "287 0.409346 0.820312\n",
      "288 0.472125 0.816406\n",
      "289 0.418561 0.828125\n",
      "290 0.281019 0.875\n",
      "291 0.27085 0.867188\n",
      "292 0.349795 0.808594\n",
      "293 0.204523 0.859375\n",
      "294 0.2311 0.839844\n",
      "295 0.573192 0.78125\n",
      "296 0.342594 0.871094\n",
      "297 0.292393 0.859375\n",
      "298 0.467105 0.828125\n",
      "299 0.209779 0.851562\n",
      "300 0.40581 0.832031\n",
      "301 0.27632 0.84375\n",
      "302 0.490432 0.820312\n",
      "303 0.279157 0.855469\n",
      "304 0.273564 0.859375\n",
      "305 0.282329 0.867188\n",
      "306 0.284189 0.835938\n",
      "307 0.602164 0.800781\n",
      "308 0.279978 0.84375\n",
      "309 0.370097 0.832031\n",
      "310 0.273901 0.878906\n",
      "311 0.558582 0.792969\n",
      "312 0.286905 0.839844\n",
      "313 0.553075 0.804688\n",
      "314 0.209944 0.828125\n",
      "315 0.20851 0.84375\n",
      "316 0.288276 0.84375\n",
      "317 0.302 0.835938\n",
      "318 0.208868 0.855469\n",
      "319 0.343946 0.832031\n",
      "320 0.33683 0.835938\n",
      "321 0.467763 0.816406\n",
      "322 0.347934 0.824219\n",
      "323 0.411038 0.851562\n",
      "324 0.211187 0.835938\n",
      "325 0.427949 0.78125\n",
      "326 0.215868 0.828125\n",
      "327 0.151724 0.835938\n",
      "328 0.204578 0.835938\n",
      "329 0.215885 0.820312\n",
      "330 0.365899 0.824219\n",
      "331 0.142428 0.847656\n",
      "332 0.282448 0.824219\n",
      "333 0.483982 0.789062\n",
      "334 0.198214 0.859375\n",
      "335 0.345125 0.84375\n",
      "336 0.497531 0.789062\n",
      "337 0.484592 0.804688\n",
      "338 0.611299 0.773438\n",
      "339 0.556293 0.800781\n",
      "340 0.277777 0.851562\n",
      "341 0.468886 0.855469\n",
      "342 0.400719 0.847656\n",
      "343 0.41138 0.832031\n",
      "344 0.206744 0.878906\n",
      "345 0.277211 0.828125\n",
      "346 0.336068 0.835938\n",
      "347 0.263088 0.878906\n",
      "348 0.261332 0.867188\n",
      "349 0.286137 0.847656\n",
      "350 0.0879987 0.863281\n",
      "351 0.149548 0.851562\n",
      "352 0.275861 0.871094\n",
      "353 0.48103 0.8125\n",
      "354 0.39954 0.820312\n",
      "355 0.324589 0.828125\n",
      "356 0.28092 0.832031\n",
      "357 0.409197 0.816406\n",
      "358 0.409913 0.863281\n",
      "359 0.345218 0.824219\n",
      "360 0.207764 0.859375\n",
      "361 0.280895 0.824219\n",
      "362 0.478281 0.800781\n",
      "363 0.343279 0.839844\n",
      "364 0.136384 0.871094\n",
      "365 0.330074 0.832031\n",
      "366 0.273071 0.867188\n",
      "367 0.138996 0.871094\n",
      "368 0.434716 0.796875\n",
      "369 0.28158 0.816406\n",
      "370 0.404203 0.796875\n",
      "371 0.33715 0.832031\n",
      "372 0.260373 0.820312\n",
      "373 0.272112 0.835938\n",
      "374 0.360651 0.792969\n",
      "375 0.134224 0.835938\n",
      "376 0.551934 0.792969\n",
      "377 0.344067 0.824219\n",
      "378 0.354872 0.832031\n",
      "379 0.207965 0.894531\n",
      "380 0.472611 0.8125\n",
      "381 0.411985 0.824219\n",
      "382 0.539181 0.828125\n"
     ]
    },
    {
     "name": "stdout",
     "output_type": "stream",
     "text": [
      "383 0.297745 0.871094\n",
      "384 0.405979 0.832031\n",
      "385 0.0737784 0.90625\n",
      "386 0.348148 0.839844\n",
      "387 0.412304 0.816406\n",
      "388 0.461705 0.824219\n",
      "389 0.211838 0.859375\n",
      "390 0.342364 0.835938\n",
      "391 0.326682 0.847656\n",
      "392 0.349079 0.835938\n",
      "393 0.340089 0.839844\n",
      "394 0.553319 0.796875\n",
      "395 0.157939 0.882812\n",
      "396 0.284654 0.832031\n",
      "397 0.138264 0.867188\n",
      "398 0.212964 0.871094\n",
      "399 0.0773067 0.878906\n",
      "400 0.2013 0.816406\n",
      "401 0.326212 0.824219\n",
      "402 0.344634 0.820312\n",
      "403 0.291773 0.808594\n",
      "404 0.133777 0.851562\n",
      "405 0.431263 0.785156\n",
      "406 0.271472 0.839844\n",
      "407 0.335749 0.816406\n",
      "408 0.270543 0.835938\n",
      "409 0.272035 0.84375\n",
      "410 0.266453 0.84375\n",
      "411 0.271927 0.839844\n",
      "412 0.20359 0.855469\n",
      "413 0.20556 0.851562\n",
      "414 0.409228 0.789062\n",
      "415 0.235429 0.835938\n",
      "416 0.128093 0.875\n",
      "417 0.402041 0.804688\n",
      "418 0.333893 0.824219\n",
      "419 0.346096 0.824219\n",
      "420 0.413944 0.820312\n",
      "421 0.201239 0.859375\n",
      "422 0.256159 0.84375\n",
      "423 0.288735 0.839844\n",
      "424 0.455503 0.839844\n",
      "425 0.264085 0.867188\n",
      "426 0.26944 0.863281\n",
      "427 0.221598 0.855469\n",
      "428 0.201695 0.859375\n",
      "429 0.27236 0.851562\n",
      "430 0.261409 0.863281\n",
      "431 0.275975 0.835938\n",
      "432 0.264341 0.863281\n",
      "433 0.15983 0.867188\n",
      "434 0.412719 0.824219\n",
      "435 0.409984 0.835938\n",
      "436 0.203732 0.859375\n",
      "437 0.541551 0.800781\n",
      "438 0.214736 0.828125\n",
      "439 0.538859 0.835938\n",
      "440 0.0850564 0.867188\n",
      "441 0.337136 0.835938\n",
      "442 0.212384 0.835938\n",
      "443 0.423709 0.789062\n",
      "444 0.474829 0.769531\n",
      "445 0.474333 0.78125\n",
      "446 0.366264 0.816406\n",
      "447 0.322301 0.847656\n",
      "448 0.401582 0.832031\n",
      "449 0.204456 0.847656\n",
      "450 0.294578 0.804688\n",
      "451 0.271863 0.847656\n",
      "452 0.470571 0.785156\n",
      "453 0.146785 0.851562\n",
      "454 0.332909 0.835938\n",
      "455 0.207883 0.828125\n",
      "456 0.54803 0.792969\n",
      "457 0.140724 0.871094\n",
      "458 0.274007 0.847656\n",
      "459 0.201201 0.851562\n",
      "460 0.480518 0.792969\n",
      "461 0.556706 0.792969\n",
      "462 0.269368 0.871094\n",
      "463 0.333577 0.835938\n",
      "464 0.408102 0.832031\n",
      "465 0.271006 0.8125\n",
      "466 0.270466 0.863281\n",
      "467 0.27043 0.847656\n",
      "468 0.327763 0.847656\n",
      "469 0.135375 0.855469\n",
      "470 0.361005 0.820312\n",
      "471 0.340275 0.828125\n",
      "472 0.401332 0.839844\n",
      "473 0.140065 0.859375\n",
      "474 0.131003 0.878906\n",
      "475 0.259265 0.835938\n",
      "476 0.605937 0.804688\n",
      "477 0.346674 0.835938\n",
      "478 0.206491 0.839844\n",
      "479 0.134678 0.847656\n",
      "480 0.342284 0.8125\n",
      "481 0.222877 0.820312\n",
      "482 0.35653 0.796875\n",
      "483 0.203088 0.835938\n",
      "484 0.132395 0.855469\n",
      "485 0.207704 0.820312\n",
      "486 0.283904 0.828125\n",
      "487 0.0529341 0.875\n",
      "488 0.427568 0.792969\n",
      "489 0.319017 0.824219\n",
      "490 0.196826 0.867188\n",
      "491 0.404563 0.804688\n",
      "492 0.140057 0.839844\n",
      "493 0.356332 0.820312\n",
      "494 0.197641 0.835938\n",
      "495 0.324228 0.820312\n",
      "496 0.409159 0.804688\n",
      "497 0.330592 0.839844\n",
      "498 0.0736085 0.894531\n",
      "499 0.201566 0.851562\n"
     ]
    }
   ],
   "source": [
    "epochs = 500\n",
    "c_batch_size = 32\n",
    "for epoch in range(epochs):\n",
    "    idx = random.sample(range(len(X)), c_batch_size)\n",
    "    feed_dict = {text_input: X[idx], ans_input: Y[idx], text_length: L[idx]}\n",
    "    _, l, summary, a = c_sess.run([c_optimizer, c_loss, c_summary, accuracy], feed_dict = feed_dict)\n",
    "    c_writer.add_summary(summary, rolling_epoch)\n",
    "    rolling_epoch += 1\n",
    "    print(epoch, l, a)"
   ]
  },
  {
   "cell_type": "code",
   "execution_count": 74,
   "metadata": {},
   "outputs": [],
   "source": [
    "#c_sess.close()"
   ]
  },
  {
   "cell_type": "code",
   "execution_count": 29,
   "metadata": {},
   "outputs": [
    {
     "data": {
      "text/plain": [
       "array([[-0.01385682, -0.01554438, -0.03142336, ...,  0.06008703,\n",
       "         0.09011126,  0.11042666],\n",
       "       [ 0.01877063, -0.01414546,  0.01937573, ..., -0.00056613,\n",
       "         0.01501634,  0.11077736],\n",
       "       [ 0.02270121,  0.04274043, -0.10701362, ..., -0.0600381 ,\n",
       "        -0.0524005 , -0.07970373],\n",
       "       ..., \n",
       "       [ 0.09654613, -0.08093843,  0.01539285, ...,  0.09275189,\n",
       "        -0.08887106, -0.10402228],\n",
       "       [-0.05485174,  0.0105952 , -0.08756531, ...,  0.04529791,\n",
       "        -0.03413794,  0.05771342],\n",
       "       [ 0.        ,  0.        ,  0.        , ...,  0.        ,\n",
       "         0.        ,  0.        ]], dtype=float32)"
      ]
     },
     "execution_count": 29,
     "metadata": {},
     "output_type": "execute_result"
    }
   ],
   "source": [
    "c_sess.run(embeddings, feed_dict = {text_input: X[1:10], ans_input: Y[1:10], text_length: L[1:10]})"
   ]
  },
  {
   "cell_type": "code",
   "execution_count": 43,
   "metadata": {},
   "outputs": [
    {
     "data": {
      "text/plain": [
       "0.0"
      ]
     },
     "execution_count": 43,
     "metadata": {},
     "output_type": "execute_result"
    }
   ],
   "source": [
    "np.linalg.norm(c_sess.run(embeddings)[:vocabulary_size]-final_embeddings)"
   ]
  },
  {
   "cell_type": "code",
   "execution_count": 21,
   "metadata": {
    "collapsed": true
   },
   "outputs": [],
   "source": [
    "test_idx = random.sample(range(len(X)), 200)"
   ]
  },
  {
   "cell_type": "code",
   "execution_count": 25,
   "metadata": {},
   "outputs": [],
   "source": [
    "Yp = predict_proba(X, L, test_idx)\n",
    "def plot_roc(Yt, Yp):\n",
    "    fpr, tpr, thresholds = sklearn.metrics.roc_curve(Yt, Yp)\n",
    "    plt.plot(fpr, tpr, color='darkorange')\n",
    "    plt.plot([0, 1], [0, 1], color='navy', linestyle='--')\n",
    "    plt.xlim([0.0, 1.0])\n",
    "    plt.ylim([0.0, 1.05])\n",
    "    plt.xlabel('False Positive Rate')\n",
    "    plt.ylabel('True Positive Rate')\n",
    "    plt.title('Receiver operating characteristic example')\n",
    "    plt.legend(loc=\"lower right\")\n",
    "    plt.show()"
   ]
  },
  {
   "cell_type": "code",
   "execution_count": 26,
   "metadata": {},
   "outputs": [
    {
     "name": "stderr",
     "output_type": "stream",
     "text": [
      "/home/etoestja/venv/local/lib/python2.7/site-packages/matplotlib/axes/_axes.py:545: UserWarning: No labelled objects found. Use label='...' kwarg on individual plots.\n",
      "  warnings.warn(\"No labelled objects found. \"\n"
     ]
    },
    {
     "data": {
      "image/png": "[encoded data removed]",
      "text/plain": [
       "<matplotlib.figure.Figure at 0x7f68e4963ad0>"
      ]
     },
     "metadata": {},
     "output_type": "display_data"
    },
    {
     "data": {
      "image/png": "[encoded data removed]",
      "text/plain": [
       "<matplotlib.figure.Figure at 0x7f6880def690>"
      ]
     },
     "metadata": {},
     "output_type": "display_data"
    },
    {
     "data": {
      "image/png": "[encoded data removed]",
      "text/plain": [
       "<matplotlib.figure.Figure at 0x7f68749c0250>"
      ]
     },
     "metadata": {},
     "output_type": "display_data"
    }
   ],
   "source": [
    "for i in range(Yp.shape[1]):\n",
    "    plot_roc(Y[test_idx, i], Yp[:, i])"
   ]
  },
  {
   "cell_type": "markdown",
   "metadata": {},
   "source": [
    "# Test"
   ]
  },
  {
   "cell_type": "code",
   "execution_count": 32,
   "metadata": {
    "collapsed": true
   },
   "outputs": [],
   "source": [
    "X_test, L_test = get_X(data_test)"
   ]
  },
  {
   "cell_type": "code",
   "execution_count": 33,
   "metadata": {
    "collapsed": true
   },
   "outputs": [],
   "source": [
    "def predict_proba_small(X, L, idx):\n",
    "    r = c_sess.run(dense, feed_dict = {text_input: X[idx], text_length: L[idx]})\n",
    "    return(r)\n",
    "def predict_proba(X, L, idx):\n",
    "    s = 0\n",
    "    batch_sz = 10\n",
    "    idx = list(idx)\n",
    "    res = predict_proba_small(X, L, idx[s:s+batch_sz])\n",
    "    s += batch_sz\n",
    "    while s < len(idx):\n",
    "        res = np.vstack((res, predict_proba_small(X, L, idx[s:s+batch_sz])))\n",
    "        s += batch_sz\n",
    "    return(res)\n",
    "def cut(val, a = 0):\n",
    "    return np.argmax(val + a, axis = 1)#round(val + a)#np.sign(val + a)"
   ]
  },
  {
   "cell_type": "code",
   "execution_count": 34,
   "metadata": {
    "collapsed": true
   },
   "outputs": [],
   "source": [
    "def get_accuracy(X, Y, idx, a = 0):\n",
    "    return np.mean(cut(predict_proba(X, L, idx), a) == Y[idx])\n",
    "def get_classes(Y):\n",
    "    res = []\n",
    "    for i in range(Y.shape[0]):\n",
    "        for it in class_to_vector.items():\n",
    "            if list(np.array(Y[i], dtype = np.int)) == it[1]:\n",
    "                res.append(it[0])\n",
    "                break\n",
    "    return(np.array(res))"
   ]
  },
  {
   "cell_type": "code",
   "execution_count": 30,
   "metadata": {},
   "outputs": [
    {
     "data": {
      "text/plain": [
       "-0.64000000000000001"
      ]
     },
     "execution_count": 30,
     "metadata": {},
     "output_type": "execute_result"
    }
   ],
   "source": [
    "np.mean(Y[500:1000])"
   ]
  },
  {
   "cell_type": "code",
   "execution_count": 80,
   "metadata": {},
   "outputs": [
    {
     "data": {
      "text/plain": [
       "0.5"
      ]
     },
     "execution_count": 80,
     "metadata": {},
     "output_type": "execute_result"
    }
   ],
   "source": [
    "get_accuracy(X, Y, range(500,600), 0)"
   ]
  },
  {
   "cell_type": "code",
   "execution_count": 67,
   "metadata": {},
   "outputs": [],
   "source": [
    "Yp_proba = predict_proba(X_test, L_test, range(len(X_test)))"
   ]
  },
  {
   "cell_type": "code",
   "execution_count": 68,
   "metadata": {
    "collapsed": true
   },
   "outputs": [],
   "source": [
    "Yp_test = cut(Yp_proba, 0)"
   ]
  },
  {
   "cell_type": "code",
   "execution_count": 69,
   "metadata": {
    "collapsed": true
   },
   "outputs": [],
   "source": [
    "Y_cl = Yp_test.reshape(-1)#get_classes(Yp_test)"
   ]
  },
  {
   "cell_type": "code",
   "execution_count": 70,
   "metadata": {},
   "outputs": [
    {
     "data": {
      "text/plain": [
       "54"
      ]
     },
     "execution_count": 70,
     "metadata": {},
     "output_type": "execute_result"
    }
   ],
   "source": [
    "np.sum(Y_cl != 0)"
   ]
  },
  {
   "cell_type": "code",
   "execution_count": 71,
   "metadata": {
    "collapsed": true
   },
   "outputs": [],
   "source": [
    "f = open('output.csv', 'w')\n",
    "f.write(\"id,class\\n\")\n",
    "for i in range(len(Y_cl)):\n",
    "    f.write(\"{},{}\\n\".format(data_test[i]['@id'], int(Y_cl[i])))\n",
    "f.close()"
   ]
  },
  {
   "cell_type": "code",
   "execution_count": null,
   "metadata": {
    "collapsed": true
   },
   "outputs": [],
   "source": []
  }
 ],
 "metadata": {
  "kernelspec": {
   "display_name": "Python 2",
   "language": "python",
   "name": "python2"
  },
  "language_info": {
   "codemirror_mode": {
    "name": "ipython",
    "version": 2
   },
   "file_extension": ".py",
   "mimetype": "text/x-python",
   "name": "python",
   "nbconvert_exporter": "python",
   "pygments_lexer": "ipython2",
   "version": "2.7.9"
  }
 },
 "nbformat": 4,
 "nbformat_minor": 2
}
