{
 "cells": [
  {
   "cell_type": "code",
   "execution_count": 1,
   "metadata": {
    "collapsed": true
   },
   "outputs": [],
   "source": [
    "%matplotlib inline\n",
    "import numpy as np\n",
    "import matplotlib.pyplot as plt"
   ]
  },
  {
   "cell_type": "code",
   "execution_count": 2,
   "metadata": {
    "collapsed": true
   },
   "outputs": [],
   "source": [
    "data=[\n",
    "[1, 15.164291, 15.098832, 14.797602, 15.123931, 14.762086, ],\n",
    "[2, 7.419614, 7.289283, 7.240416, 7.322662, 7.290408, ],\n",
    "[3, 4.947129, 4.946909, 5.038528, 5.026118, 5.116462, ],\n",
    "[4, 3.802285, 3.851701, 3.806305, 3.834560, 3.853817, ],\n",
    "[5, 3.100289, 3.115123, 3.128594, 3.090009, 3.074650, ],\n",
    "[6, 2.578264, 2.575266, 2.608232, 2.611574, 2.685929, ],\n",
    "[7, 2.242867, 2.332418, 2.287900, 2.226444, 2.263548, ],\n",
    "[8, 2.088270, 2.041662, 2.016038, 1.967189, 1.962804, ],\n",
    "[9, 1.803832, 1.851778, 1.819733, 1.865595, 1.777259, ],\n",
    "[10, 1.684343, 1.641957, 1.708323, 1.694740, 1.657592, ],\n",
    "[11, 1.546664, 1.484363, 1.522833, 1.552392, 1.576819, ],\n",
    "[12, 1.425690, 1.430213, 1.421683, 1.447293, 1.445968, ],\n",
    "[13, 1.323340, 1.335366, 1.341024, 1.338110, 1.327911, ],\n",
    "[14, 1.286498, 1.213044, 1.314838, 1.349212, 1.352626, ],\n",
    "[15, 1.166498, 1.176747, 1.190942, 1.144211, 1.205296, ],\n",
    "]\n",
    "\n",
    "data=np.array(data)"
   ]
  },
  {
   "cell_type": "code",
   "execution_count": 3,
   "metadata": {
    "collapsed": false
   },
   "outputs": [],
   "source": [
    "T1 = np.mean(data[0,1:])\n",
    "data1 = T1 / data"
   ]
  },
  {
   "cell_type": "code",
   "execution_count": 4,
   "metadata": {
    "collapsed": false
   },
   "outputs": [],
   "source": [
    "x=data[:,0]\n",
    "y=np.mean(data1[:,1:],axis=1)\n",
    "err=np.std(data1[:,1:],axis=1)"
   ]
  },
  {
   "cell_type": "code",
   "execution_count": 5,
   "metadata": {
    "collapsed": false
   },
   "outputs": [
    {
     "data": {
      "text/plain": [
       "(array([  1.,   2.,   3.,   4.,   5.,   6.,   7.,   8.,   9.,  10.,  11.,\n",
       "         12.,  13.,  14.,  15.]),\n",
       " array([  1.00013334,   2.0499676 ,   2.98936413,   3.91406782,\n",
       "          4.83275032,   5.74029166,   6.60313952,   7.44220998,\n",
       "          8.22200016,   8.93799202,   9.75887137,  10.45215155,\n",
       "         11.24382833,  11.51992092,  12.74207029]))"
      ]
     },
     "execution_count": 5,
     "metadata": {},
     "output_type": "execute_result"
    }
   ],
   "source": [
    "x,y"
   ]
  },
  {
   "cell_type": "code",
   "execution_count": 6,
   "metadata": {
    "collapsed": false
   },
   "outputs": [
    {
     "data": {
      "text/plain": [
       "array([ 0.01157308,  0.0166216 ,  0.03774794,  0.02235813,  0.02934646,\n",
       "        0.08642267,  0.10706822,  0.17282306,  0.14436371,  0.12997911,\n",
       "        0.20066315,  0.07665406,  0.05542187,  0.46740143,  0.22703217])"
      ]
     },
     "execution_count": 6,
     "metadata": {},
     "output_type": "execute_result"
    }
   ],
   "source": [
    "err"
   ]
  },
  {
   "cell_type": "code",
   "execution_count": 7,
   "metadata": {
    "collapsed": false
   },
   "outputs": [
    {
     "data": {
      "image/png": "[encoded data removed]",
      "text/plain": [
       "<matplotlib.figure.Figure at 0x7fdeb1985b50>"
      ]
     },
     "metadata": {},
     "output_type": "display_data"
    }
   ],
   "source": [
    "plt.plot(x, x, 'g-', label=r\"$S_{max}$\")\n",
    "plt.errorbar(x, y, fmt='or-', label=r\"$S_{real}$\",\n",
    "             xerr=0, yerr=err, ecolor='black')\n",
    "plt.xlabel('$p$', fontsize=25)\n",
    "plt.ylabel(r'$S_p=\\frac{T_1}{T_p}$', fontsize=18)\n",
    "plt.legend(loc='upper left', fontsize=18)\n",
    "plt.savefig(\"chart.png\")\n",
    "\n",
    "# display plot on screen\n",
    "plt.show()"
   ]
  },
  {
   "cell_type": "code",
   "execution_count": null,
   "metadata": {
    "collapsed": true
   },
   "outputs": [],
   "source": []
  }
 ],
 "metadata": {
  "kernelspec": {
   "display_name": "Python 2",
   "language": "python",
   "name": "python2"
  },
  "language_info": {
   "codemirror_mode": {
    "name": "ipython",
    "version": 2
   },
   "file_extension": ".py",
   "mimetype": "text/x-python",
   "name": "python",
   "nbconvert_exporter": "python",
   "pygments_lexer": "ipython2",
   "version": "2.7.9"
  }
 },
 "nbformat": 4,
 "nbformat_minor": 0
}
