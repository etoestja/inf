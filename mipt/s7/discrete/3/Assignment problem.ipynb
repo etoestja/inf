{
 "cells": [
  {
   "cell_type": "markdown",
   "metadata": {},
   "source": [
    "# Задача о назначениях"
   ]
  },
  {
   "cell_type": "markdown",
   "metadata": {},
   "source": [
    "Постановка:\n",
    "\n",
    "$\\begin{cases}\n",
    "\\sum\\limits_{ij}c_{ij}x_{ij}\\to\\min\\\\\n",
    "\\sum\\limits_i x_{ij}=1\\\\\n",
    "\\sum\\limits_j x_{ij}=1\\\\\n",
    "x_{ij}\\in\\{0,1\\}\n",
    "\\end{cases}$\n",
    "\n",
    "$x_{ij}$ &mdash; берет ли $i$-й работник $j$-ю работу. $c_{ij}$&mdash; стоимость выполнения $j$-й работы $i$-м работником"
   ]
  },
  {
   "cell_type": "code",
   "execution_count": 5,
   "metadata": {
    "collapsed": true
   },
   "outputs": [],
   "source": [
    "from pyomo.environ import *\n",
    "import pyomo.opt as opt\n",
    "\n",
    "model = AbstractModel()\n",
    "\n",
    "# Nodes in the network\n",
    "model.N = Set()\n",
    "# Network arcs\n",
    "model.A = Set(within=model.N*model.N)\n",
    "\n",
    "# Source node\n",
    "model.s = Param(within=model.N)\n",
    "# Sink node\n",
    "model.t = Param(within=model.N)\n",
    "# Flow capacity limits\n",
    "model.c = Param(model.A)\n",
    "\n",
    "# The flow over each arc\n",
    "model.f = Var(model.A, within=NonNegativeReals)\n",
    "\n",
    "# Maximize the flow into the sink nodes\n",
    "def total_rule(model):\n",
    "    return sum(model.f[i,j] for (i, j) in model.A if j == value(model.t))\n",
    "model.total = Objective(rule=total_rule, sense=maximize)\n",
    "\n",
    "# Enforce an upper limit on the flow across each arc\n",
    "def limit_rule(model, i, j):\n",
    "    return model.f[i,j] <= model.c[i, j]\n",
    "model.limit = Constraint(model.A, rule=limit_rule)\n",
    "\n",
    "# Enforce flow through each node\n",
    "def flow_rule(model, k):\n",
    "    if k == value(model.s) or k == value(model.t):\n",
    "        return Constraint.Skip\n",
    "    inFlow  = sum(model.f[i,j] for (i,j) in model.A if j == k)\n",
    "    outFlow = sum(model.f[i,j] for (i,j) in model.A if i == k)\n",
    "    return inFlow == outFlow\n",
    "model.flow = Constraint(model.N, rule=flow_rule)\n"
   ]
  },
  {
   "cell_type": "code",
   "execution_count": 7,
   "metadata": {
    "collapsed": false
   },
   "outputs": [
    {
     "ename": "AttributeError",
     "evalue": "'module' object has no attribute 'solve'",
     "output_type": "error",
     "traceback": [
      "\u001b[0;31m---------------------------------------------------------------------------\u001b[0m",
      "\u001b[0;31mAttributeError\u001b[0m                            Traceback (most recent call last)",
      "\u001b[0;32m<ipython-input-7-e87d582a60b1>\u001b[0m in \u001b[0;36m<module>\u001b[0;34m()\u001b[0m\n\u001b[0;32m----> 1\u001b[0;31m \u001b[0mresults\u001b[0m \u001b[0;34m=\u001b[0m \u001b[0mopt\u001b[0m\u001b[0;34m.\u001b[0m\u001b[0msolve\u001b[0m\u001b[0;34m(\u001b[0m\u001b[0minstance\u001b[0m\u001b[0;34m)\u001b[0m \u001b[0;31m# Solving a model instance\u001b[0m\u001b[0;34m\u001b[0m\u001b[0m\n\u001b[0m\u001b[1;32m      2\u001b[0m \u001b[0minstance\u001b[0m\u001b[0;34m.\u001b[0m\u001b[0mload\u001b[0m\u001b[0;34m(\u001b[0m\u001b[0mresults\u001b[0m\u001b[0;34m)\u001b[0m \u001b[0;31m# Loading solution into results object\u001b[0m\u001b[0;34m\u001b[0m\u001b[0m\n",
      "\u001b[0;31mAttributeError\u001b[0m: 'module' object has no attribute 'solve'"
     ]
    }
   ],
   "source": [
    "results = opt.solve(instance) # Solving a model instance  \n",
    "instance.load(results) # Loading solution into results object"
   ]
  },
  {
   "cell_type": "code",
   "execution_count": 12,
   "metadata": {
    "collapsed": false
   },
   "outputs": [
    {
     "ename": "ImportError",
     "evalue": "No module named coopr.pyomo",
     "output_type": "error",
     "traceback": [
      "\u001b[0;31m---------------------------------------------------------------------------\u001b[0m",
      "\u001b[0;31mImportError\u001b[0m                               Traceback (most recent call last)",
      "\u001b[0;32m<ipython-input-12-468271156e71>\u001b[0m in \u001b[0;36m<module>\u001b[0;34m()\u001b[0m\n\u001b[1;32m     12\u001b[0m \u001b[0;31m# version 3.10.2\u001b[0m\u001b[0;34m\u001b[0m\u001b[0;34m\u001b[0m\u001b[0m\n\u001b[1;32m     13\u001b[0m \u001b[0;34m\u001b[0m\u001b[0m\n\u001b[0;32m---> 14\u001b[0;31m \u001b[0;32mfrom\u001b[0m \u001b[0mcoopr\u001b[0m\u001b[0;34m.\u001b[0m\u001b[0mpyomo\u001b[0m \u001b[0;32mimport\u001b[0m \u001b[0;34m*\u001b[0m\u001b[0;34m\u001b[0m\u001b[0m\n\u001b[0m\u001b[1;32m     15\u001b[0m \u001b[0;32mfrom\u001b[0m \u001b[0mcoopr\u001b[0m\u001b[0;34m.\u001b[0m\u001b[0mopt\u001b[0m \u001b[0;32mimport\u001b[0m \u001b[0mSolverFactory\u001b[0m\u001b[0;34m\u001b[0m\u001b[0m\n\u001b[1;32m     16\u001b[0m \u001b[0;34m\u001b[0m\u001b[0m\n",
      "\u001b[0;31mImportError\u001b[0m: No module named coopr.pyomo"
     ]
    }
   ],
   "source": [
    "# Translated to Pyomo from AMPL model source at:\n",
    "#   https://projects.coin-or.org/Ipopt/wiki/IpoptAddFeatures\n",
    "#\n",
    "# This Pyomo example is formulated as a python script.\n",
    "# To run this script execute the following command:\n",
    "#\n",
    "# $ coopr_python ipopt_example.py\n",
    "#\n",
    "# Execution of this script requires that the ipopt\n",
    "# solver is in the current search path for executables\n",
    "# on this system. This example was tested using Ipopt\n",
    "# version 3.10.2\n",
    "\n",
    "from coopr.pyomo import *\n",
    "from coopr.opt import SolverFactory\n",
    "\n",
    "### Create the ipopt solver plugin using the ASL interface\n",
    "solver = 'ipopt'\n",
    "solver_io = 'nl'\n",
    "stream_solver = False    # True prints solver output to screen\n",
    "keepfiles =     False    # True prints intermediate file names (.nl,.sol,...)\n",
    "opt = SolverFactory(solver,solver_io=solver_io)\n",
    "###\n",
    "\n",
    "### Create the example model\n",
    "model = ConcreteModel()\n",
    "model.x1 = Var(bounds=(1,5),initialize=1.0)\n",
    "model.x2 = Var(bounds=(1,5),initialize=5.0)\n",
    "model.x3 = Var(bounds=(1,5),initialize=5.0)\n",
    "model.x4 = Var(bounds=(1,5),initialize=1.0)\n",
    "model.obj = Objective(expr=model.x1*model.x4*(model.x1+model.x2+model.x3) + model.x3)\n",
    "model.inequality = Constraint(expr=model.x1*model.x2*model.x3*model.x4 >= 25.0)\n",
    "model.equality = Constraint(expr=model.x1**2 + model.x2**2 + model.x3**2 + model.x4**2 == 40.0)\n",
    "###\n",
    "\n",
    "### Declare all suffixes\n",
    "# Incoming Ipopt bound multipliers (obtained from solution)\n",
    "model.ipopt_zL_out = Suffix(direction=Suffix.OUT)\n",
    "model.ipopt_zU_out = Suffix(direction=Suffix.OUT)\n",
    "# Outgoing Ipopt bound multipliers (sent to solver)\n",
    "model.ipopt_zL_in = Suffix(direction=Suffix.IN)\n",
    "model.ipopt_zU_in = Suffix(direction=Suffix.IN)\n",
    "###\n",
    "\n",
    "### Generate the constraint expression trees if necessary\n",
    "if solver_io != 'nl':\n",
    "    # only required when not using the ASL interface\n",
    "    model.preprocess()\n",
    "###\n",
    "\n",
    "### Send the model to ipopt and collect the solution\n",
    "print \n",
    "print \"INITIAL SOLVE\"\n",
    "results = opt.solve(model,keepFiles=keepfiles,tee=stream_solver)\n",
    "# load the results (including any values for previously declared\n",
    "# OUT / INOUT Suffix components)\n",
    "model.load(results)\n",
    "###\n",
    "\n",
    "### Print Solution\n",
    "print \"   %7s %12s %12s\" % (\"Value\",\"ipopt_zL_out\",\"ipopt_zU_out\")\n",
    "for v in [model.x1,model.x2,model.x3,model.x4]:\n",
    "    print \"%s %7g %12g %12g\"%( v,\n",
    "                               value(v),\n",
    "                               model.ipopt_zL_out.getValue(v),\n",
    "                               model.ipopt_zU_out.getValue(v) )\n",
    "###\n",
    "\n",
    "\n",
    "### Set Ipopt options for warm-start\n",
    "# The current values on the ipopt_zU_out and\n",
    "# ipopt_zL_out suffixes will be used as initial\n",
    "# conditions for the bound multipliers to solve\n",
    "# the new problem\n",
    "for var in [model.x1,model.x2,model.x3,model.x4]:\n",
    "    model.ipopt_zL_in.setValue(var,model.ipopt_zL_out.getValue(var))\n",
    "    model.ipopt_zU_in.setValue(var,model.ipopt_zU_out.getValue(var))\n",
    "opt.options['warm_start_init_point'] = 'yes'\n",
    "opt.options['warm_start_bound_push'] = 1e-6\n",
    "opt.options['warm_start_mult_bound_push'] = 1e-6\n",
    "opt.options['mu_init'] = 1e-6\n",
    "###\n",
    "\n",
    "### Send the model to ipopt and collect the solution\n",
    "print \n",
    "print \"WARM-STARTED SOLVE\"\n",
    "results = opt.solve(model,keepFiles=keepfiles,tee=stream_solver)\n",
    "# load the results (including any values for previously declared\n",
    "# OUT / INOUT Suffix components)\n",
    "model.load(results)\n",
    "###\n",
    "\n",
    "### Print Solution\n",
    "print \"   %7s %12s %12s\" % (\"Value\",\"ipopt_zL_out\",\"ipopt_zU_out\")\n",
    "for v in [model.x1,model.x2,model.x3,model.x4]:\n",
    "    print \"%s %7g %12g %12g\"%( v,\n",
    "                               value(v),\n",
    "                               model.ipopt_zL_out.getValue(v),\n",
    "                               model.ipopt_zU_out.getValue(v) )\n",
    "###\n"
   ]
  },
  {
   "cell_type": "code",
   "execution_count": null,
   "metadata": {
    "collapsed": true
   },
   "outputs": [],
   "source": []
  }
 ],
 "metadata": {
  "kernelspec": {
   "display_name": "Python 2",
   "language": "python",
   "name": "python2"
  },
  "language_info": {
   "codemirror_mode": {
    "name": "ipython",
    "version": 2
   },
   "file_extension": ".py",
   "mimetype": "text/x-python",
   "name": "python",
   "nbconvert_exporter": "python",
   "pygments_lexer": "ipython2",
   "version": "2.7.9"
  }
 },
 "nbformat": 4,
 "nbformat_minor": 0
}
