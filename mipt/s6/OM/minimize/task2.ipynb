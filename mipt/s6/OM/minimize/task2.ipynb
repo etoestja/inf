{
 "cells": [
  {
   "cell_type": "markdown",
   "metadata": {},
   "source": [
    "# Задача\n",
    "\n",
    "Найти минимум функции на множестве: $$\\min\\limits_{x\\in X}f(x)$$\n",
    "\n",
    "## Множество\n",
    "\n",
    "$X\\in\\mathbb{R}^n$, $n\\in\\{100, 200, 500, 1000\\}$\n",
    "\n",
    "1. $X$ симплекс\n",
    "2. $X$ сфера\n",
    "\n",
    "## Функция\n",
    "\n",
    "$$f(x) = x^TAx - b^Tx$$\n",
    "\n",
    "$А$ — \n",
    "* случайная [0,L] матрица\n",
    "* элементы равномерно распределены\n",
    "* регуляризованная как \n",
    "$A - \\lambda_{\\min}(A)I$, где $I$ — единичная матрица\n",
    "\n",
    "Я взял другой, т.к. этот не гарантирует симметричность, а также получается неконтролируемый разброс собственных чисел\n",
    "\n",
    "## Методы\n",
    "1. Градиентный спуск (Правило Армихо, критерий остановки) +\n",
    "2. Субградиенты (постоянный шаг, Шаг по Поляку) (???)\n",
    "3. Зеркальный спуск с Энтропийным сетапом  +\n",
    "4. Быстрые градиенты Нестерова+\n",
    "5. Градиентный спуск в 1 норме (если дойдем) (???)\n",
    "\n",
    "## Графики\n",
    "\n",
    "1. Производительность (???)\n",
    "2. Убывание функционала либо невязки +"
   ]
  },
  {
   "cell_type": "markdown",
   "metadata": {},
   "source": [
    "## Библиотеки"
   ]
  },
  {
   "cell_type": "code",
   "execution_count": 4,
   "metadata": {
    "collapsed": false
   },
   "outputs": [],
   "source": [
    "import numpy as np\n",
    "from numpy import linalg\n",
    "%matplotlib inline\n",
    "import matplotlib.pyplot as plt"
   ]
  },
  {
   "cell_type": "markdown",
   "metadata": {},
   "source": [
    "$$A=S^TDS$$\n",
    "S получается ортогонализацией Грамма-Шмидта из случайной матрицы, D задается явно ниже"
   ]
  },
  {
   "cell_type": "code",
   "execution_count": 70,
   "metadata": {
    "collapsed": false
   },
   "outputs": [
    {
     "data": {
      "text/plain": [
       "True"
      ]
     },
     "execution_count": 70,
     "metadata": {},
     "output_type": "execute_result"
    }
   ],
   "source": [
    "# Размерность пространства\n",
    "n=500\n",
    "# Случайная матрица\n",
    "S0=np.random.randn(n,n)\n",
    "\n",
    "# Ортогонализация Грамма-Шмидта\n",
    "S=np.copy(S0)\n",
    "for i in range(n):\n",
    "    S[i] = np.copy(S0[i])\n",
    "    for j in range(i):\n",
    "        S[i] -= S[j] * np.dot(S[i], S[j]) / np.dot(S[j], S[j])\n",
    "    S[i] /= np.sqrt(np.dot(S[i], S[i]))\n",
    "\n",
    "# Проверяем ортогональность\n",
    "np.allclose(np.dot(S.T,S), np.eye(n))"
   ]
  },
  {
   "cell_type": "code",
   "execution_count": 51,
   "metadata": {
    "collapsed": true
   },
   "outputs": [],
   "source": [
    "# Собственные числа матрицы A\n",
    "D=np.diag(np.array(range(n)) + 1)\n",
    "A=np.dot(S.T, np.dot(D, S))\n",
    "# Вектор b\n",
    "b=np.random.rand(n)"
   ]
  },
  {
   "cell_type": "markdown",
   "metadata": {
    "collapsed": false
   },
   "source": [
    "## Функция\n",
    "$$f(x)=\\frac{1}{2}x^TAx-b^Tx$$"
   ]
  },
  {
   "cell_type": "code",
   "execution_count": 52,
   "metadata": {
    "collapsed": true
   },
   "outputs": [],
   "source": [
    "# Градиент функции\n",
    "def grad(x):\n",
    "    return(np.dot(A, x) - b)"
   ]
  },
  {
   "cell_type": "code",
   "execution_count": 53,
   "metadata": {
    "collapsed": true
   },
   "outputs": [],
   "source": [
    "# Функция\n",
    "def func(x):\n",
    "    return(0.5 * np.dot(x.T, np.dot(A, x))-np.dot(b, x))"
   ]
  },
  {
   "cell_type": "markdown",
   "metadata": {
    "collapsed": true
   },
   "source": [
    "## Проекция на S\n",
    "$$S=B^{||\\cdot||_2}_1(0)$$"
   ]
  },
  {
   "cell_type": "code",
   "execution_count": 54,
   "metadata": {
    "collapsed": true
   },
   "outputs": [],
   "source": [
    "def p(x):\n",
    "    norm = linalg.norm(x)\n",
    "    if norm <= 1:\n",
    "        return(x)\n",
    "    else:\n",
    "        return(x / norm)\n",
    "def dist(x):\n",
    "    return(linalg.norm(x - p(x)))"
   ]
  },
  {
   "cell_type": "markdown",
   "metadata": {},
   "source": [
    "## Графики по последовательности $\\{x_k\\}$"
   ]
  },
  {
   "cell_type": "code",
   "execution_count": 55,
   "metadata": {
    "collapsed": false
   },
   "outputs": [],
   "source": [
    "def method_info(x):\n",
    "    y = np.zeros((len(x)))\n",
    "    x_dist = np.zeros((len(x)))\n",
    "    step = np.zeros((len(x)))\n",
    "\n",
    "    for i in range(len(x)):\n",
    "        y[i] = func(x[i])\n",
    "        x_dist[i] = linalg.norm(x[i]-p(x[i]))\n",
    "        \n",
    "        if i >= 1:\n",
    "            step[i] = linalg.norm(x[i] - x[i - 1])\n",
    "        \n",
    "    imin = np.argmin(y)\n",
    "    y -= func(x[imin])\n",
    "    \n",
    "    x_diff_norm = linalg.norm(x[:]-x[imin], axis=1)\n",
    "\n",
    "    ms = 3\n",
    "    \n",
    "    print \"Best: \" + str(imin) + \" f = \" + str(func(x[imin]))\n",
    "    print \"Last: \" + str(len(x))\n",
    "    \n",
    "    plt.figure(figsize=(10,10))\n",
    "    plt.subplot(3, 1, 1)\n",
    "    plt.plot(x_diff_norm, 'g.', label=r\"$||x_i-x_{best}||$\", ms=ms)\n",
    "    plt.legend(loc='upper right', fontsize=18)\n",
    "    #plt.xlabel('$i$', fontsize=25)\n",
    "    \n",
    "    plt.subplot(3, 1, 2)\n",
    "    plt.plot(step, 'b.', label=r\"$||x_i-x_{i-1}||$\", ms=ms)\n",
    "    plt.legend(loc='upper right', fontsize=18)\n",
    "    #plt.xlabel('$i$', fontsize=25)\n",
    "    \n",
    "    plt.subplot(3, 1, 3)\n",
    "    plt.plot(y, 'r.', label=r\"$f(x_i)-f(x_{best})$\", ms=ms)\n",
    "    plt.legend(loc='upper right', fontsize=18)\n",
    "    plt.xlabel('$i$', fontsize=25)\n",
    "    \n",
    "    #plt.savefig(\"chart.png\")\n",
    "\n",
    "    # display plot on screen\n",
    "    plt.show()"
   ]
  },
  {
   "cell_type": "markdown",
   "metadata": {},
   "source": [
    "## Армихо\n",
    "Поиск шага по x, $\\alpha_0$, $\\theta$, $\\varepsilon$"
   ]
  },
  {
   "cell_type": "code",
   "execution_count": 56,
   "metadata": {
    "collapsed": false
   },
   "outputs": [],
   "source": [
    "def armiho(x, a0, theta, eps):\n",
    "    # Выбор шага по Армихо\n",
    "    a = a0\n",
    "    grad_norm_2 = np.linalg.norm(grad(x)) ** 2\n",
    "    while True:\n",
    "        x_new = x - a * grad(x)\n",
    "        if func(x_new) - func(x) + eps * a * grad_norm_2 < 0:\n",
    "            break\n",
    "        a *= theta\n",
    "    return a"
   ]
  },
  {
   "cell_type": "markdown",
   "metadata": {},
   "source": [
    "## Метод проекции градиента\n",
    "$$x_{k+1}=\\pi_{X}(x_k-\\alpha_k\\nabla f(x_k))$$\n",
    "Выбор $\\alpha_k$ по Армихо"
   ]
  },
  {
   "cell_type": "code",
   "execution_count": 57,
   "metadata": {
    "collapsed": false
   },
   "outputs": [],
   "source": [
    "# Массив с точками\n",
    "x = list()\n",
    "x.append(np.zeros(n))\n",
    "i = 1\n",
    "\n",
    "# Выбор шага по Армихо, параметры\n",
    "a0 = 1\n",
    "theta = 0.8\n",
    "eps = 0.1\n",
    "\n",
    "# Условия остановки\n",
    "grad_norm=1e-4\n",
    "maxiter=10000\n",
    "x_norm=1e-4\n",
    "\n",
    "while True:\n",
    "    x.append(0)\n",
    "    \n",
    "    a = armiho(x[i - 1], a0, theta, eps)\n",
    "    # Градиентный шаг\n",
    "    x[i] = x[i - 1] - a * grad(x[i - 1])\n",
    "    x[i] = p(x[i])\n",
    "    \n",
    "    norm_new = np.linalg.norm(grad(x[i]))\n",
    "    #print a, x[i], func(x[i]), norm_new, dist(x[i])\n",
    "    \n",
    "    # Условия останова\n",
    "    if norm_new < grad_norm:\n",
    "        break\n",
    "    \n",
    "    if np.linalg.norm(x[i] - x[i - 1]) < x_norm:\n",
    "        break\n",
    "    \n",
    "    if i >= maxiter:\n",
    "        break\n",
    "        \n",
    "    i += 1"
   ]
  },
  {
   "cell_type": "code",
   "execution_count": 58,
   "metadata": {
    "collapsed": false
   },
   "outputs": [
    {
     "name": "stdout",
     "output_type": "stream",
     "text": [
      "Best: 732 f = -0.887348549495\n",
      "Last: 733\n"
     ]
    },
    {
     "data": {
      "image/png": "[encoded data removed]",
      "text/plain": [
       "<matplotlib.figure.Figure at 0x7f5bbe8044d0>"
      ]
     },
     "metadata": {},
     "output_type": "display_data"
    }
   ],
   "source": [
    "method_info(x)"
   ]
  },
  {
   "cell_type": "markdown",
   "metadata": {},
   "source": [
    "## Быстрые градиенты Нестерова\n",
    "Последовательность $\\{\\lambda_k\\}_{k=0}^\\infty$: $\\lambda_0=0$,\n",
    "$$\\lambda_{k+1}=\\frac{1+\\sqrt{1+4\\lambda_{k}^2}}{2}$$\n",
    "\n",
    "Последовательность $\\{\\gamma_s\\}$:\n",
    "$$\\gamma_s=\\frac{1-\\lambda_s}{\\lambda_{s+1}}$$\n",
    "\n",
    "### Шаг:\n",
    "\n",
    "0. $x_1=y_1$ --- начальная точка\n",
    "1. $y_{s+1}=x_s-\\frac{1}{\\beta}\\nabla f(x_s)$\n",
    "2. $x_{s+1}=(1-\\gamma_s)y_{s+1}+\\gamma_sy_s$\n",
    "\n",
    "$\\beta$ --- из требования: $f$ --- $\\beta$-гладкая.\n",
    "\n",
    "По аналогии (шаг в направлении градиента) величина $1/\\beta$ тут считается по Армихо"
   ]
  },
  {
   "cell_type": "code",
   "execution_count": 59,
   "metadata": {
    "collapsed": true
   },
   "outputs": [],
   "source": [
    "def newl(l):\n",
    "    return((1 + np.sqrt(1 + 4 * l ** 2)) / 2)\n",
    "def gamma(l, s):\n",
    "    return((1-l[s])/l[s+1])"
   ]
  },
  {
   "cell_type": "code",
   "execution_count": 60,
   "metadata": {
    "collapsed": false
   },
   "outputs": [],
   "source": [
    "# Массив с точками\n",
    "l = list()\n",
    "x = list()\n",
    "y = list()\n",
    "x.append(np.zeros(n))\n",
    "y.append(x[0])\n",
    "y.append(x[0])\n",
    "x.append(x[0])\n",
    "l.append(0)\n",
    "l.append(newl(0))\n",
    "s = 1\n",
    "\n",
    "# Условия остановки\n",
    "#grad_norm=1e-5\n",
    "#maxiter=10000\n",
    "#x_norm=1e-5\n",
    "\n",
    "while True:\n",
    "    x.append(0)\n",
    "    y.append(0)\n",
    "    l.append(0)\n",
    "    \n",
    "    a = armiho(x[s], 1, 0.8, 0.3)\n",
    "    \n",
    "    l[s + 1] = newl(l[s])\n",
    "    g = (1 - l[s]) / l[s + 1]\n",
    "    \n",
    "    y[s + 1] = x[s] - a * grad(x[s])\n",
    "    x[s + 1] = (1 - g) * y[s + 1] + g * y[s]\n",
    "    \n",
    "    norm_new = np.linalg.norm(grad(x[s + 1]))\n",
    "    #print a, g, l[s + 1], func(x[s + 1]), norm_new\n",
    "    \n",
    "    # Условия останова\n",
    "    if norm_new < grad_norm:\n",
    "        break\n",
    "    \n",
    "    if np.linalg.norm(x[s + 1] - x[s]) < x_norm:\n",
    "        break\n",
    "    \n",
    "    if s >= maxiter:\n",
    "        break\n",
    "        \n",
    "    s += 1"
   ]
  },
  {
   "cell_type": "code",
   "execution_count": 61,
   "metadata": {
    "collapsed": false
   },
   "outputs": [
    {
     "name": "stdout",
     "output_type": "stream",
     "text": [
      "Best: 259 f = -0.887424514012\n",
      "Last: 281\n"
     ]
    },
    {
     "data": {
      "image/png": "[encoded data removed]",
      "text/plain": [
       "<matplotlib.figure.Figure at 0x7f5bbe7ef6d0>"
      ]
     },
     "metadata": {},
     "output_type": "display_data"
    }
   ],
   "source": [
    "method_info(x)"
   ]
  },
  {
   "cell_type": "markdown",
   "metadata": {
    "collapsed": true
   },
   "source": [
    "## Mirror Descent\n",
    "\n",
    "$$X = \\{x\\in\\mathbb{R}^n_+\\big| ||x||_1\\equiv\\sum\\limits_{i=1}^nx_i\\leqslant1\\}$$\n",
    "$$\\varPhi(x)=\\sum\\limits_{i=1}^nx_i\\ln x_i$$\n",
    "\n",
    "Найдем $\\frac{\\partial \\varPhi(\\vec{x})}{\\partial x_i}=\\ln x_i + 1$, откуда\n",
    "$$\\nabla \\varPhi(x)=||(1+\\ln x_1)\\,...\\,(1+\\ln x_n)||^T$$\n",
    "\n",
    "$\\varPhi^*(p)=\\sup\\limits_{x\\in\\mathbb{R}^n_+}(p^Tx-\\varPhi(x))$. Продифференцируем, получим $p=\\nabla\\varPhi(x)$, откуда $x_i=e^{p_i-1}$. Подставим $x_i$, получим $\\varPhi^*(p)=\\sum\\limits_{i=1}^n e^{p_i-1}$\n",
    "\n",
    "Найдем $\\frac{\\partial \\varPhi^*(p)}{\\partial p_i}=e^{p_i-1}$, откуда\n",
    "$$\\nabla\\varPhi^*(p)=||e^{p_1-1}\\,...\\,e^{p_n-1}||^T$$\n",
    "\n",
    "Проверим, что $\\nabla\\varPhi^*(p)=(\\nabla\\varPhi(x))^{-1}$:\n",
    "$$\\nabla\\varPhi^*(\\nabla\\varPhi(x))=\\nabla\\varPhi^*(||(1+\\ln x_1)\\,...\\,(1+\\ln x_n)||^T)=\\vec{x}\\,\\blacksquare$$\n",
    "\n",
    "Найдем $D_\\varPhi(x,y)=\\varPhi(x)-\\varPhi(y)-(\\nabla\\varPhi(y),x-y)=\\sum\\limits_{i=1}^nx_i\\ln x_i - y_i\\ln y_i + (y_i - x_i)(1 + \\ln y_i)=\\sum\\limits_{i=1}^n(y_i-x_i+x_i\\ln\\frac{x_i}{y_i})$\n",
    "\n",
    "Пусть $y\\in\\mathbb{R}^n_+$. Тогда\n",
    "$$\\arg\\min_{x\\in X}D_\\varPhi(x,y)=\\frac{y}{||y||_1}$$"
   ]
  },
  {
   "cell_type": "markdown",
   "metadata": {},
   "source": [
    "Алгоритм:\n",
    "1. $y_k\\to \\nabla\\varPhi(y_k)$\n",
    "2. $\\nabla\\varPhi(x_{k+1})=\\nabla\\varPhi(y_k)-\\gamma_k\\nabla f(y_k)$\n",
    "3. $x_{k+1}=\\nabla\\varPhi^*\\left(\\nabla\\varPhi(x_{k+1})\\right)$\n",
    "4. $$y_{k+1}=\\begin{cases}\n",
    "\\frac{x_{k+1}}{||x_{k+1}||}, & ||x_{k+1}|| > 1\\\\\n",
    "x_{k+1}, & ||x_{k+1}||\\leqslant 1\n",
    "\\end{cases}$$"
   ]
  },
  {
   "cell_type": "code",
   "execution_count": 30,
   "metadata": {
    "collapsed": true
   },
   "outputs": [],
   "source": [
    "def nabla_phi(x):\n",
    "    return(1 + np.log(x))\n",
    "def nabla_phi_star(y):\n",
    "    return(np.exp(y - 1))\n",
    "def l1_norm_plus(x):\n",
    "    return(np.sum(x))"
   ]
  },
  {
   "cell_type": "code",
   "execution_count": 67,
   "metadata": {
    "collapsed": false
   },
   "outputs": [],
   "source": [
    "y = list()\n",
    "y.append(np.ones(n) / n)\n",
    "\n",
    "maxiter = 1000\n",
    "x_norm = 1e-5\n",
    "\n",
    "gamma = 0.5\n",
    "\n",
    "k = 0\n",
    "while True:\n",
    "    y.append(0)\n",
    "    \n",
    "    y_im = nabla_phi(y[k])\n",
    "    x_im = y_im - gamma * grad(y[k])\n",
    "    x_inv = nabla_phi_star(x_im)\n",
    "    \n",
    "    norm = l1_norm_plus(x_inv)\n",
    "        \n",
    "    if norm >= 1:\n",
    "        x_inv /= norm\n",
    "    \n",
    "    y[k + 1] = x_inv\n",
    "        \n",
    "    #print k, n\n",
    "    \n",
    "    if linalg.norm(y[k + 1] - y[k]) <= x_norm:\n",
    "        break\n",
    "    \n",
    "    if k >= maxiter:\n",
    "        break\n",
    "        \n",
    "    k += 1"
   ]
  },
  {
   "cell_type": "code",
   "execution_count": 68,
   "metadata": {
    "collapsed": false
   },
   "outputs": [
    {
     "name": "stdout",
     "output_type": "stream",
     "text": [
      "Best: 124 f = -0.457349568339\n",
      "Last: 125\n"
     ]
    },
    {
     "data": {
      "image/png": "[encoded data removed]",
      "text/plain": [
       "<matplotlib.figure.Figure at 0x7f5bbe278690>"
      ]
     },
     "metadata": {},
     "output_type": "display_data"
    }
   ],
   "source": [
    "method_info(y)"
   ]
  },
  {
   "cell_type": "code",
   "execution_count": null,
   "metadata": {
    "collapsed": true
   },
   "outputs": [],
   "source": []
  }
 ],
 "metadata": {
  "kernelspec": {
   "display_name": "Python 2",
   "language": "python",
   "name": "python2"
  },
  "language_info": {
   "codemirror_mode": {
    "name": "ipython",
    "version": 2
   },
   "file_extension": ".py",
   "mimetype": "text/x-python",
   "name": "python",
   "nbconvert_exporter": "python",
   "pygments_lexer": "ipython2",
   "version": "2.7.9"
  }
 },
 "nbformat": 4,
 "nbformat_minor": 0
}
