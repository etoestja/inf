{
 "cells": [
  {
   "cell_type": "code",
   "execution_count": 1,
   "metadata": {
    "collapsed": true
   },
   "outputs": [],
   "source": [
    "%matplotlib inline\n",
    "import matplotlib.pyplot as plt\n",
    "import pandas as pd\n",
    "import os\n",
    "from tqdm import tqdm\n",
    "import numpy as np\n",
    "from models.settings import *"
   ]
  },
  {
   "cell_type": "markdown",
   "metadata": {},
   "source": [
    "# Infering added variance"
   ]
  },
  {
   "cell_type": "code",
   "execution_count": 2,
   "metadata": {},
   "outputs": [
    {
     "data": {
      "text/plain": [
       "['validation', 'train', 'test']"
      ]
     },
     "execution_count": 2,
     "metadata": {},
     "output_type": "execute_result"
    }
   ],
   "source": [
    "os.listdir('data')"
   ]
  },
  {
   "cell_type": "code",
   "execution_count": 3,
   "metadata": {},
   "outputs": [
    {
     "data": {
      "text/plain": [
       "['a04', 'a01', 'a02', 'a05', 'a06', 'a03']"
      ]
     },
     "execution_count": 3,
     "metadata": {},
     "output_type": "execute_result"
    }
   ],
   "source": [
    "classes = os.listdir('data/train')\n",
    "classes"
   ]
  },
  {
   "cell_type": "code",
   "execution_count": 4,
   "metadata": {
    "collapsed": true
   },
   "outputs": [],
   "source": [
    "n_features = 9\n",
    "n_classes = 6\n",
    "n_rows = 5"
   ]
  },
  {
   "cell_type": "code",
   "execution_count": 5,
   "metadata": {},
   "outputs": [
    {
     "data": {
      "text/plain": [
       "(5, 9)"
      ]
     },
     "execution_count": 5,
     "metadata": {},
     "output_type": "execute_result"
    }
   ],
   "source": [
    "ts = pd.read_csv('data/train/a01/554.csv', index_col=0)\n",
    "ts.shape"
   ]
  },
  {
   "cell_type": "code",
   "execution_count": 6,
   "metadata": {
    "collapsed": true
   },
   "outputs": [],
   "source": [
    "std_train = np.zeros((n_classes, n_features))\n",
    "mean_train = np.zeros((n_classes, n_features))"
   ]
  },
  {
   "cell_type": "code",
   "execution_count": 7,
   "metadata": {},
   "outputs": [
    {
     "name": "stderr",
     "output_type": "stream",
     "text": [
      "100%|██████████| 489/489 [00:01<00:00, 304.37it/s]\n",
      "100%|██████████| 370/370 [00:01<00:00, 319.21it/s]\n",
      "100%|██████████| 288/288 [00:00<00:00, 328.42it/s]\n",
      "100%|██████████| 356/356 [00:01<00:00, 323.76it/s]\n",
      "100%|██████████| 438/438 [00:01<00:00, 323.22it/s]\n",
      "100%|██████████| 477/477 [00:01<00:00, 331.27it/s]\n"
     ]
    }
   ],
   "source": [
    "i = 0\n",
    "for cl in sorted(classes):\n",
    "    j = 0\n",
    "    files = os.listdir('data/train/' + cl)\n",
    "    for f in tqdm(files):\n",
    "        ts = pd.read_csv('data/train/{}/{}'.format(cl, f), index_col=0)\n",
    "        ts = ts.as_matrix()\n",
    "        std_train[i, :] += ts.std(axis = 0)\n",
    "        mean_train[i, :] += ts.mean(axis = 0)\n",
    "        j += 1\n",
    "    std_train[i, :] /= len(files)\n",
    "    mean_train[i, :] /= len(files)\n",
    "    i += 1"
   ]
  },
  {
   "cell_type": "code",
   "execution_count": 8,
   "metadata": {},
   "outputs": [
    {
     "name": "stderr",
     "output_type": "stream",
     "text": [
      "100%|██████████| 3481/3481 [00:11<00:00, 301.40it/s]\n"
     ]
    }
   ],
   "source": [
    "files = os.listdir('data/test/')\n",
    "std_test = np.zeros((n_features))\n",
    "mean_test = np.zeros((n_features))\n",
    "j = 0\n",
    "for f in tqdm(files):\n",
    "    fn = 'data/test/' + f\n",
    "    ts = pd.read_csv(fn, index_col=0)\n",
    "    ts = ts.as_matrix()\n",
    "    std_test += ts.std(axis = 0)\n",
    "    mean_test += ts.mean(axis = 0)\n",
    "    j += 1\n",
    "std_test /= len(files)\n",
    "mean_test /= len(files)"
   ]
  },
  {
   "cell_type": "code",
   "execution_count": 16,
   "metadata": {},
   "outputs": [
    {
     "data": {
      "text/plain": [
       "array([ 0.09563325,  0.06680955,  0.08186261,  0.10714552,  0.11880584,\n",
       "        0.11132622,  0.04373212,  0.05122088,  0.05753773])"
      ]
     },
     "execution_count": 16,
     "metadata": {},
     "output_type": "execute_result"
    }
   ],
   "source": [
    "std_ = (std_test ** 2 - std_train.mean(axis = 0) ** 2) ** 0.5\n",
    "std_"
   ]
  },
  {
   "cell_type": "code",
   "execution_count": 10,
   "metadata": {},
   "outputs": [
    {
     "data": {
      "text/plain": [
       "<matplotlib.axes._subplots.AxesSubplot at 0x7f04b7c4c890>"
      ]
     },
     "execution_count": 10,
     "metadata": {},
     "output_type": "execute_result"
    },
    {
     "data": {
      "image/png": "[encoded data removed]",
      "text/plain": [
       "<matplotlib.figure.Figure at 0x7f04b7c4cfd0>"
      ]
     },
     "metadata": {},
     "output_type": "display_data"
    }
   ],
   "source": [
    "pd.DataFrame(std_).plot()"
   ]
  },
  {
   "cell_type": "code",
   "execution_count": 11,
   "metadata": {},
   "outputs": [
    {
     "data": {
      "text/plain": [
       "[<matplotlib.lines.Line2D at 0x7f04c583cc90>]"
      ]
     },
     "execution_count": 11,
     "metadata": {},
     "output_type": "execute_result"
    },
    {
     "data": {
      "image/png": "[encoded data removed]",
      "text/plain": [
       "<matplotlib.figure.Figure at 0x7f04b7c4cc90>"
      ]
     },
     "metadata": {},
     "output_type": "display_data"
    }
   ],
   "source": [
    "plt.plot(std_test)"
   ]
  },
  {
   "cell_type": "code",
   "execution_count": 12,
   "metadata": {},
   "outputs": [
    {
     "data": {
      "text/plain": [
       "[<matplotlib.lines.Line2D at 0x7f04c579e110>]"
      ]
     },
     "execution_count": 12,
     "metadata": {},
     "output_type": "execute_result"
    },
    {
     "data": {
      "image/png": "[encoded data removed]",
      "text/plain": [
       "<matplotlib.figure.Figure at 0x7f04c580c150>"
      ]
     },
     "metadata": {},
     "output_type": "display_data"
    }
   ],
   "source": [
    "plt.plot(std_train.mean(axis=0))"
   ]
  },
  {
   "cell_type": "code",
   "execution_count": 13,
   "metadata": {},
   "outputs": [
    {
     "data": {
      "text/plain": [
       "0.081563747538584724"
      ]
     },
     "execution_count": 13,
     "metadata": {},
     "output_type": "execute_result"
    }
   ],
   "source": [
    "np.mean(std_)"
   ]
  },
  {
   "cell_type": "code",
   "execution_count": 14,
   "metadata": {},
   "outputs": [
    {
     "data": {
      "text/plain": [
       "array([ 0.54730506, -0.03507497, -0.21389331, -0.0534943 , -0.15063397,\n",
       "        0.17055078,  1.32656069,  0.02284111,  0.18943318])"
      ]
     },
     "execution_count": 14,
     "metadata": {},
     "output_type": "execute_result"
    }
   ],
   "source": [
    "mean_test"
   ]
  },
  {
   "cell_type": "code",
   "execution_count": 15,
   "metadata": {},
   "outputs": [
    {
     "data": {
      "text/plain": [
       "array([ 0.47801601, -0.03113565, -0.18982644, -0.05333756, -0.12814547,\n",
       "        0.15213476,  1.23027197, -0.01823072,  0.14060349])"
      ]
     },
     "execution_count": 15,
     "metadata": {},
     "output_type": "execute_result"
    }
   ],
   "source": [
    "mean_train.mean(axis = 0)"
   ]
  },
  {
   "cell_type": "markdown",
   "metadata": {},
   "source": [
    "# Augmenting datasets with noise"
   ]
  },
  {
   "cell_type": "code",
   "execution_count": 17,
   "metadata": {},
   "outputs": [
    {
     "data": {
      "text/plain": [
       "array([ 0.09563325,  0.06680955,  0.08186261,  0.10714552,  0.11880584,\n",
       "        0.11132622,  0.04373212,  0.05122088,  0.05753773])"
      ]
     },
     "execution_count": 17,
     "metadata": {},
     "output_type": "execute_result"
    }
   ],
   "source": [
    "std_"
   ]
  },
  {
   "cell_type": "code",
   "execution_count": 18,
   "metadata": {},
   "outputs": [],
   "source": [
    "noise_pattern = [0.03, 0.03, 0.03, 0.03, 0.03, 0.03, 0.03, 0.03, 0.02]\n",
    "noise_pattern = np.reshape(np.tile(noise_pattern, n_rows), (n_rows, n_features))"
   ]
  },
  {
   "cell_type": "code",
   "execution_count": 19,
   "metadata": {
    "collapsed": true
   },
   "outputs": [],
   "source": [
    "def add_noise_and_save(filename, idx):\n",
    "    ts = pd.read_csv(filename, index_col=0)\n",
    "    shape = ts.as_matrix().shape\n",
    "    rnorm = np.random.normal(loc = 0, scale = noise_pattern)\n",
    "    out_fn = filename[:-4] + '_noise_' + str(idx) + '.csv'\n",
    "    (ts + rnorm).to_csv(out_fn, sep = ',')"
   ]
  },
  {
   "cell_type": "code",
   "execution_count": 20,
   "metadata": {},
   "outputs": [
    {
     "name": "stderr",
     "output_type": "stream",
     "text": [
      "100%|██████████| 122/122 [00:02<00:00, 52.25it/s]\n",
      "100%|██████████| 92/92 [00:01<00:00, 52.15it/s]\n",
      "100%|██████████| 71/71 [00:01<00:00, 53.66it/s]\n",
      "100%|██████████| 88/88 [00:01<00:00, 53.37it/s]\n",
      "100%|██████████| 109/109 [00:02<00:00, 52.60it/s]\n",
      "100%|██████████| 119/119 [00:02<00:00, 48.55it/s]\n"
     ]
    }
   ],
   "source": [
    "n_augment = 4\n",
    "input_dir = VALIDATION_DATA_DIR\n",
    "for activity in ACTIVITIES_LIST:\n",
    "    for _, _, filenames in os.walk(input_dir+activity+\"/\"):\n",
    "        for filename in tqdm(filenames):\n",
    "            for i in range(n_augment):\n",
    "                fn = input_dir+activity+\"/\"+filename\n",
    "                add_noise_and_save(fn, i)"
   ]
  },
  {
   "cell_type": "code",
   "execution_count": 21,
   "metadata": {},
   "outputs": [
    {
     "name": "stderr",
     "output_type": "stream",
     "text": [
      "100%|██████████| 489/489 [00:09<00:00, 52.54it/s]\n",
      "100%|██████████| 370/370 [00:06<00:00, 53.29it/s]\n",
      "100%|██████████| 288/288 [00:05<00:00, 52.93it/s]\n",
      "100%|██████████| 356/356 [00:06<00:00, 51.72it/s]\n",
      "100%|██████████| 438/438 [00:08<00:00, 52.30it/s]\n",
      "100%|██████████| 477/477 [00:09<00:00, 52.21it/s]\n"
     ]
    }
   ],
   "source": [
    "n_augment = 4\n",
    "input_dir = TRAIN_DATA_DIR\n",
    "for activity in ACTIVITIES_LIST:\n",
    "    for _, _, filenames in os.walk(input_dir+activity+\"/\"):\n",
    "        for filename in tqdm(filenames):\n",
    "            for i in range(n_augment):\n",
    "                fn = input_dir+activity+\"/\"+filename\n",
    "                add_noise_and_save(fn, i)"
   ]
  },
  {
   "cell_type": "code",
   "execution_count": null,
   "metadata": {
    "collapsed": true
   },
   "outputs": [],
   "source": []
  }
 ],
 "metadata": {
  "kernelspec": {
   "display_name": "Python 2",
   "language": "python",
   "name": "python2"
  },
  "language_info": {
   "codemirror_mode": {
    "name": "ipython",
    "version": 2
   },
   "file_extension": ".py",
   "mimetype": "text/x-python",
   "name": "python",
   "nbconvert_exporter": "python",
   "pygments_lexer": "ipython2",
   "version": "2.7.9"
  }
 },
 "nbformat": 4,
 "nbformat_minor": 2
}
