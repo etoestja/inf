{
 "cells": [
  {
   "cell_type": "markdown",
   "metadata": {},
   "source": [
    "# DL in NLP\n",
    "\n",
    "## Task 2: Classifying TED talks\n",
    "\n",
    "Sergei Volodin, senior undergraduate student at MIPT"
   ]
  },
  {
   "cell_type": "code",
   "execution_count": 1,
   "metadata": {
    "collapsed": true
   },
   "outputs": [],
   "source": [
    "%matplotlib inline\n",
    "import tensorflow as tf\n",
    "import json\n",
    "import numpy as np\n",
    "import pandas as pd\n",
    "import collections\n",
    "from __future__ import print_function\n",
    "import re\n",
    "import random\n",
    "import math\n",
    "from sklearn.manifold import TSNE\n",
    "from matplotlib import pylab\n",
    "from transliterate import translit\n",
    "from six.moves import range\n",
    "import sklearn.metrics\n",
    "import matplotlib.pyplot as plt\n",
    "from six.moves import cPickle as pickle\n",
    "from tqdm import tqdm"
   ]
  },
  {
   "cell_type": "code",
   "execution_count": 2,
   "metadata": {
    "collapsed": true
   },
   "outputs": [],
   "source": [
    "def print_unicode(ent):\n",
    "    print(repr(ent).decode(\"unicode-escape\"))"
   ]
  },
  {
   "cell_type": "code",
   "execution_count": 3,
   "metadata": {
    "collapsed": true
   },
   "outputs": [],
   "source": [
    "filename = 'ted_ru-20160408.json'\n",
    "data_test = json.loads(open(filename + '.test', 'r').read(), 'unicode-escape')\n",
    "data_train = json.loads(open(filename + '.train', 'r').read(), 'unicode-escape')"
   ]
  },
  {
   "cell_type": "markdown",
   "metadata": {},
   "source": [
    "Plan:\n",
    "\n",
    "1. Removing non-letters\n",
    "2. Obtaining words, training word2vec CBOW model\n",
    "3. Running RNN on document\n",
    "4. Classifying based on final hidden state"
   ]
  },
  {
   "cell_type": "markdown",
   "metadata": {},
   "source": [
    "# Building dictionary"
   ]
  },
  {
   "cell_type": "code",
   "execution_count": 16,
   "metadata": {},
   "outputs": [],
   "source": [
    "vocabulary_size = 100000\n",
    "embedding_size = 256\n",
    "context_size = 4\n",
    "words_regex = re.compile(ur'[^а-яА-ЯёЁa-zA-Z]')\n",
    "\n",
    "def str_to_words(s):\n",
    "    return(words_regex.sub(' ', s).lower().split())\n",
    "\n",
    "def data_to_str(data):\n",
    "    return(' '.join(map(lambda x : x['content'], data_train)))\n",
    "\n",
    "def build_dataset(words, vocabulary_size):\n",
    "    count = [['UNK', -1]]\n",
    "    count.extend(collections.Counter(words).most_common(vocabulary_size - 1))\n",
    "    dictionary = dict()\n",
    "    for word, _ in count:\n",
    "        dictionary[word] = len(dictionary)\n",
    "    data = list()\n",
    "    unk_count = 0\n",
    "    for word in words:\n",
    "        if word in dictionary:\n",
    "            index = dictionary[word]\n",
    "        else:\n",
    "            index = 0\n",
    "            unk_count = unk_count + 1\n",
    "        data.append(index)\n",
    "    count[0][1] = unk_count\n",
    "    return data, count, dictionary"
   ]
  },
  {
   "cell_type": "code",
   "execution_count": 8,
   "metadata": {
    "collapsed": true
   },
   "outputs": [],
   "source": [
    "all_text = data_to_str(data_train)# + data_to_str(data_test)\n",
    "words = str_to_words(all_text)\n",
    "data, count, dictionary = build_dataset(words, vocabulary_size)"
   ]
  },
  {
   "cell_type": "code",
   "execution_count": 6,
   "metadata": {},
   "outputs": [
    {
     "name": "stdout",
     "output_type": "stream",
     "text": [
      "[['UNK', 101368], (u'и', 184180), (u'в', 167020), (u'что', 114608), (u'я', 94278)]\n",
      "[4, 50, 42336, 12867, 7687, 21, 4462, 741, 106, 31183]\n"
     ]
    }
   ],
   "source": [
    "print_unicode(count[:5])\n",
    "print_unicode(data[:10])"
   ]
  },
  {
   "cell_type": "markdown",
   "metadata": {},
   "source": [
    "# Pretraining CBOW word2vec embeddings"
   ]
  },
  {
   "cell_type": "code",
   "execution_count": 26,
   "metadata": {
    "collapsed": true
   },
   "outputs": [],
   "source": [
    "data_index = 0\n",
    "\n",
    "def to_range(n):\n",
    "    return(n % len(data))\n",
    "\n",
    "# CBOW model\n",
    "def generate_batch(batch_size, context_size):\n",
    "    global data_index\n",
    "  \n",
    "    data_index = to_range(data_index)\n",
    "    \n",
    "    batch = np.ndarray(shape=(batch_size, context_size * 2), dtype=np.int32)\n",
    "    labels = np.ndarray(shape=(batch_size, 1), dtype=np.int32)\n",
    "    \n",
    "    for i in range(batch_size):\n",
    "        labels[i] = data[data_index]\n",
    "        for j in range(0, context_size):\n",
    "            batch[i][2 * j] = data[to_range(data_index - (j + 1))]\n",
    "            batch[i][2 * j + 1] = data[to_range(data_index + (j + 1))]\n",
    "        data_index = to_range(data_index + 1)\n",
    "        \n",
    "    return batch, labels"
   ]
  },
  {
   "cell_type": "code",
   "execution_count": 27,
   "metadata": {
    "collapsed": true
   },
   "outputs": [],
   "source": [
    "batch_size = 128\n",
    "num_sampled = 256\n",
    "graph = tf.Graph()\n",
    "\n",
    "with graph.as_default(), tf.device('/cpu:0'):\n",
    "    train_dataset = tf.placeholder(tf.int32, shape=[batch_size, context_size * 2], name = \"train_dataset\")\n",
    "    train_labels = tf.placeholder(tf.int32, shape=[batch_size, 1], name = \"train_labels\")\n",
    "  \n",
    "    # Variables.\n",
    "    embeddings = tf.Variable(tf.random_uniform([vocabulary_size, embedding_size], -1.0, 1.0), name = \"embeddings\")\n",
    "    softmax_weights = tf.Variable(tf.truncated_normal([vocabulary_size, embedding_size],\n",
    "                         stddev=1.0 / math.sqrt(embedding_size)), name = \"SM_weights\")\n",
    "    softmax_biases = tf.Variable(tf.zeros([vocabulary_size]), name = \"SM_biases\")\n",
    "    \n",
    "    embed = tf.reduce_mean(tf.nn.embedding_lookup(embeddings, train_dataset), [1], name = \"emb_result\")\n",
    "    loss = tf.reduce_mean(\n",
    "      tf.nn.sampled_softmax_loss(weights=softmax_weights, biases=softmax_biases, inputs=embed,\n",
    "                               labels=train_labels, num_sampled=num_sampled, num_classes=vocabulary_size), name = \"loss\")\n",
    "\n",
    "  \n",
    "    optimizer = tf.train.AdagradOptimizer(1.0).minimize(loss)\n",
    "    \n",
    "    norm = tf.sqrt(tf.reduce_sum(tf.square(embeddings), 1, keep_dims=True))\n",
    "    normalized_embeddings = embeddings / norm\n",
    "    \n",
    "    tf.summary.scalar(\"Embedding_loss\", loss)\n",
    "    summary_emb = tf.summary.merge_all()"
   ]
  },
  {
   "cell_type": "code",
   "execution_count": 28,
   "metadata": {
    "collapsed": true
   },
   "outputs": [],
   "source": [
    "logs_path = '~/tensorboard/01'\n",
    "writer = tf.summary.FileWriter(logs_path, graph=graph)"
   ]
  },
  {
   "cell_type": "code",
   "execution_count": 29,
   "metadata": {},
   "outputs": [
    {
     "name": "stderr",
     "output_type": "stream",
     "text": [
      "100%|██████████| 30000/30000 [10:37<00:00, 47.08it/s]\n"
     ]
    }
   ],
   "source": [
    "epochs = 30000\n",
    "with tf.Session(graph=graph) as session:\n",
    "    tf.global_variables_initializer().run()\n",
    "    for epoch in tqdm(range(epochs)):\n",
    "        batch_data, batch_labels = generate_batch(batch_size, context_size)\n",
    "        feed_dict = {train_dataset : batch_data, train_labels : batch_labels}\n",
    "        _, l, summary = session.run([optimizer, loss, summary_emb], feed_dict = feed_dict)\n",
    "        writer.add_summary(summary, epoch)\n",
    "    final_embeddings = normalized_embeddings.eval()"
   ]
  },
  {
   "cell_type": "code",
   "execution_count": 49,
   "metadata": {
    "collapsed": true
   },
   "outputs": [],
   "source": [
    "emb_fn = \"emb.pkl\"\n",
    "pickle.dump(final_embeddings, open(emb_fn, 'w'))\n",
    "#final_embeddings = pickle.load(open(emb_fn, 'r'))"
   ]
  },
  {
   "cell_type": "markdown",
   "metadata": {},
   "source": [
    "# Preparing dataset"
   ]
  },
  {
   "cell_type": "code",
   "execution_count": 143,
   "metadata": {
    "collapsed": true
   },
   "outputs": [],
   "source": [
    "pad_word = vocabulary_size\n",
    "max_words = 5600\n",
    "num_classes = 8"
   ]
  },
  {
   "cell_type": "code",
   "execution_count": 138,
   "metadata": {
    "collapsed": true
   },
   "outputs": [],
   "source": [
    "def str_to_idx(s):\n",
    "    words = str_to_words(s)\n",
    "    res = []\n",
    "    for word in words:\n",
    "        if word in dictionary:\n",
    "            index = dictionary[word]\n",
    "        else:\n",
    "            index = 0\n",
    "        res.append(index)\n",
    "    return(res)\n",
    "def get_Y(data):\n",
    "    classes = map(lambda x: x['class'] - 1, data_train)\n",
    "    return(np.array(classes))\n",
    "def get_X(data):\n",
    "    X = map(lambda x : str_to_idx(x['content']), data)\n",
    "    X = map(lambda x : x + [pad_word] * (max_words - len(x)), X)\n",
    "    return np.array(X), np.array(L)"
   ]
  },
  {
   "cell_type": "code",
   "execution_count": null,
   "metadata": {
    "collapsed": true
   },
   "outputs": [],
   "source": [
    "X, L = get_X(data_train)"
   ]
  },
  {
   "cell_type": "code",
   "execution_count": 139,
   "metadata": {
    "collapsed": true
   },
   "outputs": [],
   "source": [
    "Y = get_Y(data_train)"
   ]
  },
  {
   "cell_type": "code",
   "execution_count": null,
   "metadata": {
    "collapsed": true
   },
   "outputs": [],
   "source": [
    "Xtest, Ltest = get_X(data_test)"
   ]
  },
  {
   "cell_type": "markdown",
   "metadata": {},
   "source": [
    "# Word length distributions"
   ]
  },
  {
   "cell_type": "code",
   "execution_count": 69,
   "metadata": {},
   "outputs": [
    {
     "data": {
      "text/plain": [
       "array([[<matplotlib.axes._subplots.AxesSubplot object at 0x7fa4abfbbfd0>]], dtype=object)"
      ]
     },
     "execution_count": 69,
     "metadata": {},
     "output_type": "execute_result"
    },
    {
     "data": {
      "image/png": "[encoded data removed]",
      "text/plain": [
       "<matplotlib.figure.Figure at 0x7fa479ebf1d0>"
      ]
     },
     "metadata": {},
     "output_type": "display_data"
    }
   ],
   "source": [
    "pd.DataFrame(L).hist()\n",
    "plt.title('Train set length')"
   ]
  },
  {
   "cell_type": "code",
   "execution_count": 75,
   "metadata": {},
   "outputs": [
    {
     "data": {
      "text/plain": [
       "<matplotlib.text.Text at 0x7fa4c37e3bd0>"
      ]
     },
     "execution_count": 75,
     "metadata": {},
     "output_type": "execute_result"
    },
    {
     "data": {
      "image/png": "[encoded data removed]",
      "text/plain": [
       "<matplotlib.figure.Figure at 0x7fa479515750>"
      ]
     },
     "metadata": {},
     "output_type": "display_data"
    }
   ],
   "source": [
    "pd.DataFrame(Ltest).hist()\n",
    "plt.title('Test set length')"
   ]
  },
  {
   "cell_type": "markdown",
   "metadata": {},
   "source": [
    "# RNN classifier"
   ]
  },
  {
   "cell_type": "markdown",
   "metadata": {},
   "source": [
    "# TF"
   ]
  },
  {
   "cell_type": "code",
   "execution_count": null,
   "metadata": {
    "collapsed": true
   },
   "outputs": [],
   "source": [
    "sess.close()\n",
    "sess = tf.InteractiveSession()"
   ]
  },
  {
   "cell_type": "code",
   "execution_count": null,
   "metadata": {
    "collapsed": true
   },
   "outputs": [],
   "source": [
    "c_graph = tf.Graph()\n",
    "with c_graph.as_default():\n",
    "    text_input = tf.placeholder(tf.int32, shape=[None, None])\n",
    "    text_length = tf.placeholder(tf.float32, shape=[None])\n",
    "    ans_input = tf.placeholder(tf.float32, shape=[None])\n",
    "    \n",
    "    emb_words   = tf.Variable(final_embeddings, name = \"embeddings\", trainable = False, dtype = tf.float32)\n",
    "    emb_padding = tf.Variable(1. * np.zeros((1, embedding_size)), trainable = False, dtype = tf.float32)\n",
    "    embeddings = tf.concat([emb_words, emb_padding], 0)\n",
    "    \n",
    "    word_vectors = tf.reshape(tf.nn.embedding_lookup(embeddings, text_input), [-1, max_words, embedding_size])\n",
    "    \n",
    "    # Split into list of embedding per word, while removing doc length\n",
    "    # dim. word_list results to be a list of tensors [batch_size, \n",
    "    # EMBEDDING_SIZE].  \n",
    "    word_list = tf.unstack(word_vectors, axis=1)\n",
    "    # Create a Gated Recurrent Unit cell with hidden size of EMBEDDING_SIZE.\n",
    "    cell = tf.contrib.rnn.LSTMCell(embedding_size)\n",
    "    # Create an unrolled Recurrent Neural Networks to length of  \n",
    "    # MAX_DOCUMENT_LENGTH and passes word_list as inputs for each \n",
    "    # unit.\n",
    "    _, encoding = tf.contrib.rnn.static_rnn(cell, word_list, sequence_length = text_length, dtype = tf.float32)\n",
    "    # Given encoding of RNN, take encoding of last step (e.g hidden \n",
    "    # size of the neural network of last step) and pass it as features \n",
    "    # to fully connected layer to output probabilities per class.  \n",
    "    target = tf.one_hot(ans_input, num_classes)\n",
    "    logits = tf.contrib.layers.fully_connected(encoding, num_classes, activation_fn=None)  \n",
    "    loss = tf.contrib.losses.softmax_cross_entropy(logits, target)\n",
    "    \n",
    "    train_op = tf.contrib.layers.optimize_loss(\n",
    "        loss, tf.contrib.framework.get_global_step(),\n",
    "        optimizer='Adam', learning_rate=0.01, clip_gradients=1.0)\n",
    "    \n",
    "    answer = tf.argmax(logits, 1)\n",
    "    probability = tf.nn.softmax(logits)"
   ]
  },
  {
   "cell_type": "code",
   "execution_count": 156,
   "metadata": {},
   "outputs": [
    {
     "ename": "AttributeError",
     "evalue": "'module' object has no attribute 'rnn'",
     "output_type": "error",
     "traceback": [
      "\u001b[0;31m---------------------------------------------------------------------------\u001b[0m",
      "\u001b[0;31mAttributeError\u001b[0m                            Traceback (most recent call last)",
      "\u001b[0;32m<ipython-input-156-aac1a20a857a>\u001b[0m in \u001b[0;36m<module>\u001b[0;34m()\u001b[0m\n\u001b[0;32m----> 1\u001b[0;31m \u001b[0mtf\u001b[0m\u001b[0;34m.\u001b[0m\u001b[0mcontrib\u001b[0m\u001b[0;34m.\u001b[0m\u001b[0mrnn\u001b[0m\u001b[0;34m.\u001b[0m\u001b[0mrnn\u001b[0m\u001b[0;34m\u001b[0m\u001b[0m\n\u001b[0m",
      "\u001b[0;31mAttributeError\u001b[0m: 'module' object has no attribute 'rnn'"
     ]
    }
   ],
   "source": [
    "tf.contrib.rnn.rnn"
   ]
  },
  {
   "cell_type": "code",
   "execution_count": 130,
   "metadata": {
    "collapsed": true
   },
   "outputs": [],
   "source": [
    "sess = tf.InteractiveSession()"
   ]
  }
 ],
 "metadata": {
  "kernelspec": {
   "display_name": "Python 2",
   "language": "python",
   "name": "python2"
  },
  "language_info": {
   "codemirror_mode": {
    "name": "ipython",
    "version": 2
   },
   "file_extension": ".py",
   "mimetype": "text/x-python",
   "name": "python",
   "nbconvert_exporter": "python",
   "pygments_lexer": "ipython2",
   "version": "2.7.9"
  }
 },
 "nbformat": 4,
 "nbformat_minor": 2
}
