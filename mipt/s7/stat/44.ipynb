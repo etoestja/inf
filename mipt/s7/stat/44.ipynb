{
 "cells": [
  {
   "cell_type": "markdown",
   "metadata": {},
   "source": [
    "# 44"
   ]
  },
  {
   "cell_type": "code",
   "execution_count": 1,
   "metadata": {
    "collapsed": true
   },
   "outputs": [],
   "source": [
    "import numpy as np"
   ]
  },
  {
   "cell_type": "code",
   "execution_count": 2,
   "metadata": {
    "collapsed": true
   },
   "outputs": [],
   "source": [
    "x = np.array([21.2,21.8,21.3,21.0,21.4,21.3])\n",
    "y = np.array([37.7,37.6,37.6,37.4])"
   ]
  },
  {
   "cell_type": "code",
   "execution_count": 6,
   "metadata": {
    "collapsed": false
   },
   "outputs": [
    {
     "data": {
      "text/plain": [
       "4.4631578947367228"
      ]
     },
     "execution_count": 6,
     "metadata": {},
     "output_type": "execute_result"
    }
   ],
   "source": [
    "(np.linalg.norm(x-x.mean())/np.linalg.norm(y-y.mean()))**2*3/5"
   ]
  },
  {
   "cell_type": "code",
   "execution_count": 43,
   "metadata": {
    "collapsed": false
   },
   "outputs": [],
   "source": [
    "def f(q):\n",
    "    ff= (1/(np.sqrt(15) * np.pi* (3 + 5* q)**3))*2*(-135* np.sqrt(q) - 600* q**(3./2) + \n",
    "   375* q**(5/2) + 27 *np.sqrt(15)*np.arctan(np.sqrt(5./3*q)) + \n",
    "   135* np.sqrt(15)* q *np.arctan(np.sqrt(5./3*q)) + \n",
    "   225* np.sqrt(15)* q**2* np.arctan(np.sqrt(5./3*q)) + \n",
    "   125* np.sqrt(15)* q**3* np.arctan(np.sqrt(5./3* q)))\n",
    "    return(ff-0.05)"
   ]
  },
  {
   "cell_type": "code",
   "execution_count": 44,
   "metadata": {
    "collapsed": false
   },
   "outputs": [],
   "source": [
    "l = 0.\n",
    "r = 10000.\n",
    "while r - l > 1e-6:\n",
    "    m = (l + r) / 2\n",
    "    fl = f(l)\n",
    "    fr = f(r)\n",
    "    fm = f(m)\n",
    "    if fm > 0:\n",
    "        r = m\n",
    "    else:\n",
    "        l = m"
   ]
  },
  {
   "cell_type": "code",
   "execution_count": 45,
   "metadata": {
    "collapsed": false
   },
   "outputs": [
    {
     "data": {
      "text/plain": [
       "0.15028577763587236"
      ]
     },
     "execution_count": 45,
     "metadata": {},
     "output_type": "execute_result"
    }
   ],
   "source": [
    "m"
   ]
  },
  {
   "cell_type": "code",
   "execution_count": null,
   "metadata": {
    "collapsed": true
   },
   "outputs": [],
   "source": []
  }
 ],
 "metadata": {
  "kernelspec": {
   "display_name": "Python 2",
   "language": "python",
   "name": "python2"
  },
  "language_info": {
   "codemirror_mode": {
    "name": "ipython",
    "version": 2
   },
   "file_extension": ".py",
   "mimetype": "text/x-python",
   "name": "python",
   "nbconvert_exporter": "python",
   "pygments_lexer": "ipython2",
   "version": "2.7.9"
  }
 },
 "nbformat": 4,
 "nbformat_minor": 2
}
