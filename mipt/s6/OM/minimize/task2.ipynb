{
 "cells": [
  {
   "cell_type": "markdown",
   "metadata": {},
   "source": [
    "# Задача\n",
    "\n",
    "Найти минимум функции на множестве: $$\\min\\limits_{x\\in X}f(x)$$\n",
    "\n",
    "## Множество\n",
    "\n",
    "$X\\in\\mathbb{R}^n$, $n\\in\\{100, 200, 500, 1000\\}$\n",
    "\n",
    "1. $X$ симплекс\n",
    "2. $X$ сфера\n",
    "\n",
    "## Функция\n",
    "\n",
    "$$f(x) = x^TAx - b^Tx$$\n",
    "\n",
    "$А$ — \n",
    "* случайная [0,L] матрица\n",
    "* элементы равномерно распределены\n",
    "* регуляризованная как \n",
    "$A - \\lambda_{\\min}(A)I$, где $I$ — единичная матрица\n",
    "\n",
    "## Методы\n",
    "1. Градиентный спуск (Правило Армихо, критерий остановки)\n",
    "2. Субградиенты (постоянный шаг, Шаг по Поляку)\n",
    "3. Зеркальный спуск с Энтропийным сетапом \n",
    "4. Быстрые градиенты Нестерова\n",
    "5. Градиентный спуск в 1 норме (если дойдем)\n",
    "\n",
    "## Графики\n",
    "\n",
    "1. Производительность\n",
    "2. Убывание функционала либо невязки"
   ]
  },
  {
   "cell_type": "code",
   "execution_count": 133,
   "metadata": {
    "collapsed": false
   },
   "outputs": [],
   "source": [
    "import numpy as np\n",
    "from numpy import linalg\n",
    "%matplotlib inline\n",
    "import matplotlib.pyplot as plt"
   ]
  },
  {
   "cell_type": "code",
   "execution_count": 325,
   "metadata": {
    "collapsed": false
   },
   "outputs": [],
   "source": [
    "n = 200\n",
    "L = 1.\n",
    "A = np.random.rand(n, n) * L\n",
    "A = (A + A.T) / 2\n",
    "A = A - np.eye(n) * np.min(linalg.eig(A)[0])"
   ]
  },
  {
   "cell_type": "code",
   "execution_count": 326,
   "metadata": {
    "collapsed": false
   },
   "outputs": [
    {
     "name": "stdout",
     "output_type": "stream",
     "text": [
      "2.09493718297e+122\n",
      "[  1.057e+02   1.154e+01   3.375e-14   1.129e+01   1.116e+01   2.048e-01\n",
      "   1.096e+01   3.932e-01   4.880e-01   1.079e+01   1.073e+01   5.932e-01\n",
      "   6.975e-01   7.863e-01   8.217e-01   8.500e-01   1.056e+01   1.047e+01\n",
      "   1.022e+00   1.101e+00   1.038e+01   1.188e+00   1.030e+01   1.027e+01\n",
      "   1.024e+01   1.018e+01   1.009e+01   1.259e+00   1.327e+00   1.360e+00\n",
      "   9.993e+00   1.432e+00   1.483e+00   9.886e+00   9.833e+00   9.801e+00\n",
      "   9.689e+00   9.679e+00   1.604e+00   1.643e+00   9.575e+00   1.711e+00\n",
      "   1.754e+00   1.799e+00   1.823e+00   9.483e+00   9.427e+00   9.339e+00\n",
      "   9.323e+00   9.299e+00   2.044e+00   2.082e+00   9.148e+00   9.121e+00\n",
      "   9.072e+00   9.041e+00   2.129e+00   9.015e+00   2.188e+00   8.934e+00\n",
      "   2.245e+00   2.287e+00   8.896e+00   8.854e+00   8.841e+00   2.366e+00\n",
      "   8.762e+00   8.709e+00   2.403e+00   2.459e+00   2.517e+00   8.630e+00\n",
      "   8.596e+00   2.561e+00   2.563e+00   2.606e+00   2.626e+00   8.529e+00\n",
      "   2.707e+00   2.734e+00   8.491e+00   8.424e+00   8.377e+00   2.849e+00\n",
      "   8.323e+00   8.290e+00   2.903e+00   2.948e+00   8.222e+00   8.165e+00\n",
      "   3.040e+00   3.047e+00   3.091e+00   8.119e+00   8.070e+00   8.033e+00\n",
      "   8.012e+00   3.139e+00   3.225e+00   3.230e+00   7.960e+00   7.907e+00\n",
      "   7.886e+00   3.310e+00   3.376e+00   3.430e+00   3.421e+00   7.802e+00\n",
      "   7.772e+00   3.510e+00   3.542e+00   7.670e+00   3.562e+00   3.612e+00\n",
      "   3.648e+00   7.622e+00   7.548e+00   7.521e+00   7.486e+00   7.457e+00\n",
      "   3.726e+00   3.764e+00   7.372e+00   3.811e+00   7.332e+00   3.867e+00\n",
      "   7.310e+00   7.288e+00   7.257e+00   3.890e+00   7.215e+00   3.935e+00\n",
      "   7.166e+00   7.091e+00   4.021e+00   4.106e+00   4.114e+00   6.995e+00\n",
      "   6.961e+00   6.913e+00   6.898e+00   6.853e+00   4.224e+00   6.797e+00\n",
      "   4.266e+00   6.730e+00   6.711e+00   4.295e+00   4.309e+00   4.332e+00\n",
      "   6.658e+00   6.618e+00   4.385e+00   4.446e+00   6.508e+00   6.498e+00\n",
      "   6.452e+00   4.548e+00   4.560e+00   6.412e+00   4.591e+00   6.359e+00\n",
      "   4.636e+00   6.309e+00   4.668e+00   6.285e+00   4.721e+00   4.777e+00\n",
      "   6.199e+00   6.176e+00   6.128e+00   4.832e+00   6.085e+00   4.897e+00\n",
      "   4.920e+00   6.034e+00   4.947e+00   5.990e+00   5.948e+00   5.068e+00\n",
      "   5.058e+00   5.891e+00   5.578e+00   5.164e+00   5.667e+00   5.674e+00\n",
      "   5.502e+00   5.494e+00   5.844e+00   5.203e+00   5.463e+00   5.739e+00\n",
      "   5.235e+00   5.362e+00   5.013e+00   5.861e+00   5.736e+00   5.262e+00\n",
      "   5.372e+00   5.265e+00]\n"
     ]
    }
   ],
   "source": [
    "print linalg.det(A)\n",
    "print linalg.eig(A)[0]"
   ]
  },
  {
   "cell_type": "code",
   "execution_count": 327,
   "metadata": {
    "collapsed": false
   },
   "outputs": [],
   "source": [
    "# Вектор b\n",
    "b=np.random.rand(n)"
   ]
  },
  {
   "cell_type": "code",
   "execution_count": 328,
   "metadata": {
    "collapsed": true
   },
   "outputs": [],
   "source": [
    "# Градиент функции\n",
    "def grad(x):\n",
    "    return(np.dot(A, x) - b)"
   ]
  },
  {
   "cell_type": "code",
   "execution_count": 329,
   "metadata": {
    "collapsed": true
   },
   "outputs": [],
   "source": [
    "# Функция\n",
    "def func(x):\n",
    "    return(0.5 * np.dot(x.T, np.dot(A, x))-np.dot(b, x))"
   ]
  },
  {
   "cell_type": "code",
   "execution_count": 330,
   "metadata": {
    "collapsed": false
   },
   "outputs": [],
   "source": [
    "def p(x):\n",
    "    norm = linalg.norm(x)\n",
    "    if norm <= 1:\n",
    "        return(x)\n",
    "    else:\n",
    "        return(x / norm)\n",
    "def dist(x):\n",
    "    return(linalg.norm(x - p(x)))"
   ]
  },
  {
   "cell_type": "code",
   "execution_count": 331,
   "metadata": {
    "collapsed": false
   },
   "outputs": [],
   "source": [
    "def armiho(x, a0, theta, eps):\n",
    "    # Выбор шага по Армихо\n",
    "    a = a0\n",
    "    grad_norm_2 = np.linalg.norm(grad(x)) ** 2\n",
    "    while True:\n",
    "        x_new = x - a * grad(x)\n",
    "        if func(x_new) - func(x) + eps * a * grad_norm_2 < 0:\n",
    "            break\n",
    "        a *= theta\n",
    "    return a"
   ]
  },
  {
   "cell_type": "code",
   "execution_count": 376,
   "metadata": {
    "collapsed": false
   },
   "outputs": [],
   "source": [
    "# Массив с точками\n",
    "x = list()\n",
    "x.append(np.zeros(n))\n",
    "i = 1\n",
    "\n",
    "# Выбор шага по Армихо, параметры\n",
    "a0 = 1\n",
    "theta = 0.8\n",
    "eps = 0.1\n",
    "\n",
    "# Условия остановки\n",
    "grad_norm=1e-6\n",
    "maxiter=500\n",
    "x_norm=1e-6\n",
    "\n",
    "while True:\n",
    "    x.append(0)\n",
    "    \n",
    "    a = armiho(x[i - 1], a0, theta, eps)\n",
    "    # Градиентный шаг\n",
    "    x[i] = x[i - 1] - a * grad(x[i - 1])\n",
    "    #x[i] = p(x[i])\n",
    "    \n",
    "    norm_new = np.linalg.norm(grad(x[i]))\n",
    "    #print a, x[i], func(x[i]), norm_new, dist(x[i])\n",
    "    \n",
    "    # Условия останова\n",
    "    if norm_new < grad_norm:\n",
    "        break\n",
    "    \n",
    "    if np.linalg.norm(x[i] - x[i - 1]) < x_norm:\n",
    "        break\n",
    "    \n",
    "    if i >= maxiter:\n",
    "        break\n",
    "        \n",
    "    i += 1"
   ]
  },
  {
   "cell_type": "code",
   "execution_count": 377,
   "metadata": {
    "collapsed": false
   },
   "outputs": [
    {
     "name": "stdout",
     "output_type": "stream",
     "text": [
      "Best: 500 f = -3.06938758125\n",
      "Last: 501\n"
     ]
    },
    {
     "data": {
      "image/png": "[encoded data removed]",
      "text/plain": [
       "<matplotlib.figure.Figure at 0x7f0469cea310>"
      ]
     },
     "metadata": {},
     "output_type": "display_data"
    }
   ],
   "source": [
    "def method_info(x):\n",
    "    y = np.zeros((len(x)))\n",
    "    x_dist = np.zeros((len(x)))\n",
    "    step = np.zeros((len(x)))\n",
    "\n",
    "    for i in range(len(x)):\n",
    "        y[i] = func(x[i])\n",
    "        x_dist[i] = linalg.norm(x[i]-p(x[i]))\n",
    "        \n",
    "        if i >= 1:\n",
    "            step[i] = linalg.norm(x[i] - x[i - 1])\n",
    "        \n",
    "    imin = np.argmin(y)\n",
    "    y -= func(x[imin])\n",
    "    \n",
    "    x_diff_norm = linalg.norm(x[:]-x[imin], axis=1)\n",
    "\n",
    "    ms = 3\n",
    "    \n",
    "    print \"Best: \" + str(imin) + \" f = \" + str(func(x[imin]))\n",
    "    print \"Last: \" + str(len(x))\n",
    "    \n",
    "    plt.figure(figsize=(10,10))\n",
    "    plt.subplot(3, 1, 1)\n",
    "    plt.plot(x_diff_norm, 'g.', label=r\"$||x_i-x_{best}||$\", ms=ms)\n",
    "    plt.legend(loc='upper right', fontsize=18)\n",
    "    #plt.xlabel('$i$', fontsize=25)\n",
    "    \n",
    "    plt.subplot(3, 1, 2)\n",
    "    plt.plot(step, 'b.', label=r\"$||x_i-x_{i-1}||$\", ms=ms)\n",
    "    plt.legend(loc='upper right', fontsize=18)\n",
    "    #plt.xlabel('$i$', fontsize=25)\n",
    "    \n",
    "    plt.subplot(3, 1, 3)\n",
    "    plt.plot(y, 'r.', label=r\"$f(x_i)-f(x_{best})$\", ms=ms)\n",
    "    plt.legend(loc='upper right', fontsize=18)\n",
    "    plt.xlabel('$i$', fontsize=25)\n",
    "    \n",
    "    #plt.savefig(\"chart.png\")\n",
    "\n",
    "    # display plot on screen\n",
    "    plt.show()\n",
    "method_info(x)"
   ]
  },
  {
   "cell_type": "code",
   "execution_count": null,
   "metadata": {
    "collapsed": true
   },
   "outputs": [],
   "source": [
    "def newl(l):\n",
    "    return(1 + np.sqrt(1 + 4 * l ** 2)) / 2"
   ]
  },
  {
   "cell_type": "code",
   "execution_count": null,
   "metadata": {
    "collapsed": false
   },
   "outputs": [],
   "source": [
    "# Массив с точками\n",
    "l = list()\n",
    "x = list()\n",
    "x.append(np.zeros(n))\n",
    "l.append(newl(0))\n",
    "i = 1\n",
    "\n",
    "# Условия остановки\n",
    "grad_norm=1e-6\n",
    "maxiter=500\n",
    "x_norm=1e-6\n",
    "\n",
    "while True:\n",
    "    x.append(0)\n",
    "    \n",
    "    l[i] = (1 + np.sqrt(1 + 4 * l[i - 1] ** 2)) / 2\n",
    "    gamma = 1 - l[i - 1]\n",
    "    x[i] = x[i - 1] - a * grad(x[i - 1])\n",
    "    \n",
    "    norm_new = np.linalg.norm(grad(x[i]))\n",
    "    #print a, x[i], func(x[i]), norm_new, dist(x[i])\n",
    "    \n",
    "    # Условия останова\n",
    "    if norm_new < grad_norm:\n",
    "        break\n",
    "    \n",
    "    if np.linalg.norm(x[i] - x[i - 1]) < x_norm:\n",
    "        break\n",
    "    \n",
    "    if i >= maxiter:\n",
    "        break\n",
    "        \n",
    "    i += 1"
   ]
  },
  {
   "cell_type": "code",
   "execution_count": 336,
   "metadata": {
    "collapsed": true
   },
   "outputs": [],
   "source": [
    "x=np.array([1,2,3])"
   ]
  },
  {
   "cell_type": "code",
   "execution_count": 345,
   "metadata": {
    "collapsed": false
   },
   "outputs": [
    {
     "data": {
      "text/plain": [
       "array([1, 1])"
      ]
     },
     "execution_count": 345,
     "metadata": {},
     "output_type": "execute_result"
    }
   ],
   "source": [
    "x[1:]-x[:-1]"
   ]
  },
  {
   "cell_type": "code",
   "execution_count": null,
   "metadata": {
    "collapsed": true
   },
   "outputs": [],
   "source": []
  }
 ],
 "metadata": {
  "kernelspec": {
   "display_name": "Python 2",
   "language": "python",
   "name": "python2"
  },
  "language_info": {
   "codemirror_mode": {
    "name": "ipython",
    "version": 2
   },
   "file_extension": ".py",
   "mimetype": "text/x-python",
   "name": "python",
   "nbconvert_exporter": "python",
   "pygments_lexer": "ipython2",
   "version": "2.7.9"
  }
 },
 "nbformat": 4,
 "nbformat_minor": 0
}
