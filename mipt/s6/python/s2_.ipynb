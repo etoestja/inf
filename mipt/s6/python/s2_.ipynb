{
 "cells": [
  {
   "cell_type": "code",
   "execution_count": 2,
   "metadata": {
    "collapsed": false
   },
   "outputs": [
    {
     "data": {
      "text/plain": [
       "1000000000000000000000000000000000000000000000000000000000000000000000000000000000000000000000000000000000000000000000000000000000000000000000000000000000000000000000000000000000000000000000000000000000000000000000000000000000000000000000000000000000000000000000000000000000000000000000000000000000000000000000000000000000000000000000000000000000000000000000000000000000000000000000000000000000000000000000000000000000000000000000000000000000000000000000000000000000000000000000000000000000000000000000000000000000000000000000000000000000000000000000000000000000000000000000000000000000000000000000000L"
      ]
     },
     "execution_count": 2,
     "metadata": {},
     "output_type": "execute_result"
    }
   ],
   "source": [
    "1000000**100"
   ]
  },
  {
   "cell_type": "code",
   "execution_count": 3,
   "metadata": {
    "collapsed": false
   },
   "outputs": [
    {
     "data": {
      "text/plain": [
       "bool"
      ]
     },
     "execution_count": 3,
     "metadata": {},
     "output_type": "execute_result"
    }
   ],
   "source": [
    "type(True)"
   ]
  },
  {
   "cell_type": "code",
   "execution_count": 7,
   "metadata": {
    "collapsed": true
   },
   "outputs": [],
   "source": [
    "a=True"
   ]
  },
  {
   "cell_type": "code",
   "execution_count": 10,
   "metadata": {
    "collapsed": false
   },
   "outputs": [],
   "source": [
    "a=a+1"
   ]
  },
  {
   "cell_type": "code",
   "execution_count": 11,
   "metadata": {
    "collapsed": false
   },
   "outputs": [
    {
     "data": {
      "text/plain": [
       "int"
      ]
     },
     "execution_count": 11,
     "metadata": {},
     "output_type": "execute_result"
    }
   ],
   "source": [
    "type(a)"
   ]
  },
  {
   "cell_type": "code",
   "execution_count": 12,
   "metadata": {
    "collapsed": false
   },
   "outputs": [
    {
     "data": {
      "text/plain": [
       "\"<type 'int'>\""
      ]
     },
     "execution_count": 12,
     "metadata": {},
     "output_type": "execute_result"
    }
   ],
   "source": [
    "str(type(a))"
   ]
  },
  {
   "cell_type": "code",
   "execution_count": 13,
   "metadata": {
    "collapsed": false
   },
   "outputs": [
    {
     "data": {
      "text/plain": [
       "NoneType"
      ]
     },
     "execution_count": 13,
     "metadata": {},
     "output_type": "execute_result"
    }
   ],
   "source": [
    "type(None)"
   ]
  },
  {
   "cell_type": "code",
   "execution_count": 14,
   "metadata": {
    "collapsed": true
   },
   "outputs": [],
   "source": [
    "def f():\n",
    "    print \"g\""
   ]
  },
  {
   "cell_type": "code",
   "execution_count": 15,
   "metadata": {
    "collapsed": false
   },
   "outputs": [
    {
     "name": "stdout",
     "output_type": "stream",
     "text": [
      "g\n"
     ]
    }
   ],
   "source": [
    "a=f()"
   ]
  },
  {
   "cell_type": "code",
   "execution_count": 16,
   "metadata": {
    "collapsed": false
   },
   "outputs": [
    {
     "data": {
      "text/plain": [
       "NoneType"
      ]
     },
     "execution_count": 16,
     "metadata": {},
     "output_type": "execute_result"
    }
   ],
   "source": [
    "type(a)"
   ]
  },
  {
   "cell_type": "code",
   "execution_count": 18,
   "metadata": {
    "collapsed": false
   },
   "outputs": [
    {
     "data": {
      "text/plain": [
       "True"
      ]
     },
     "execution_count": 18,
     "metadata": {},
     "output_type": "execute_result"
    }
   ],
   "source": [
    "type(a)==type(None)"
   ]
  },
  {
   "cell_type": "code",
   "execution_count": 19,
   "metadata": {
    "collapsed": false
   },
   "outputs": [
    {
     "data": {
      "text/plain": [
       "['__class__',\n",
       " '__delattr__',\n",
       " '__doc__',\n",
       " '__format__',\n",
       " '__getattribute__',\n",
       " '__hash__',\n",
       " '__init__',\n",
       " '__new__',\n",
       " '__reduce__',\n",
       " '__reduce_ex__',\n",
       " '__repr__',\n",
       " '__setattr__',\n",
       " '__sizeof__',\n",
       " '__str__',\n",
       " '__subclasshook__']"
      ]
     },
     "execution_count": 19,
     "metadata": {},
     "output_type": "execute_result"
    }
   ],
   "source": [
    "dir(None)"
   ]
  },
  {
   "cell_type": "code",
   "execution_count": 20,
   "metadata": {
    "collapsed": false
   },
   "outputs": [
    {
     "data": {
      "text/plain": [
       "NoneType"
      ]
     },
     "execution_count": 20,
     "metadata": {},
     "output_type": "execute_result"
    }
   ],
   "source": [
    "None.__class__"
   ]
  },
  {
   "cell_type": "code",
   "execution_count": 21,
   "metadata": {
    "collapsed": false
   },
   "outputs": [
    {
     "data": {
      "text/plain": [
       "['__abs__',\n",
       " '__add__',\n",
       " '__and__',\n",
       " '__class__',\n",
       " '__cmp__',\n",
       " '__coerce__',\n",
       " '__delattr__',\n",
       " '__div__',\n",
       " '__divmod__',\n",
       " '__doc__',\n",
       " '__float__',\n",
       " '__floordiv__',\n",
       " '__format__',\n",
       " '__getattribute__',\n",
       " '__getnewargs__',\n",
       " '__hash__',\n",
       " '__hex__',\n",
       " '__index__',\n",
       " '__init__',\n",
       " '__int__',\n",
       " '__invert__',\n",
       " '__long__',\n",
       " '__lshift__',\n",
       " '__mod__',\n",
       " '__mul__',\n",
       " '__neg__',\n",
       " '__new__',\n",
       " '__nonzero__',\n",
       " '__oct__',\n",
       " '__or__',\n",
       " '__pos__',\n",
       " '__pow__',\n",
       " '__radd__',\n",
       " '__rand__',\n",
       " '__rdiv__',\n",
       " '__rdivmod__',\n",
       " '__reduce__',\n",
       " '__reduce_ex__',\n",
       " '__repr__',\n",
       " '__rfloordiv__',\n",
       " '__rlshift__',\n",
       " '__rmod__',\n",
       " '__rmul__',\n",
       " '__ror__',\n",
       " '__rpow__',\n",
       " '__rrshift__',\n",
       " '__rshift__',\n",
       " '__rsub__',\n",
       " '__rtruediv__',\n",
       " '__rxor__',\n",
       " '__setattr__',\n",
       " '__sizeof__',\n",
       " '__str__',\n",
       " '__sub__',\n",
       " '__subclasshook__',\n",
       " '__truediv__',\n",
       " '__trunc__',\n",
       " '__xor__',\n",
       " 'bit_length',\n",
       " 'conjugate',\n",
       " 'denominator',\n",
       " 'imag',\n",
       " 'numerator',\n",
       " 'real']"
      ]
     },
     "execution_count": 21,
     "metadata": {},
     "output_type": "execute_result"
    }
   ],
   "source": [
    "dir(3)"
   ]
  },
  {
   "cell_type": "code",
   "execution_count": 23,
   "metadata": {
    "collapsed": false
   },
   "outputs": [
    {
     "ename": "SyntaxError",
     "evalue": "invalid syntax (<ipython-input-23-bfd04e560665>, line 1)",
     "output_type": "error",
     "traceback": [
      "\u001b[1;36m  File \u001b[1;32m\"<ipython-input-23-bfd04e560665>\"\u001b[1;36m, line \u001b[1;32m1\u001b[0m\n\u001b[1;33m    3.real\u001b[0m\n\u001b[1;37m         ^\u001b[0m\n\u001b[1;31mSyntaxError\u001b[0m\u001b[1;31m:\u001b[0m invalid syntax\n"
     ]
    }
   ],
   "source": [
    "3.real"
   ]
  },
  {
   "cell_type": "code",
   "execution_count": 24,
   "metadata": {
    "collapsed": false,
    "scrolled": true
   },
   "outputs": [
    {
     "ename": "TypeError",
     "evalue": "unsupported operand type(s) for +: 'NoneType' and 'NoneType'",
     "output_type": "error",
     "traceback": [
      "\u001b[1;31m---------------------------------------------------------------------------\u001b[0m",
      "\u001b[1;31mTypeError\u001b[0m                                 Traceback (most recent call last)",
      "\u001b[1;32m<ipython-input-24-acf18c3ee2d5>\u001b[0m in \u001b[0;36m<module>\u001b[1;34m()\u001b[0m\n\u001b[1;32m----> 1\u001b[1;33m \u001b[0mNone\u001b[0m\u001b[1;33m+\u001b[0m\u001b[0mNone\u001b[0m\u001b[1;33m\u001b[0m\u001b[0m\n\u001b[0m",
      "\u001b[1;31mTypeError\u001b[0m: unsupported operand type(s) for +: 'NoneType' and 'NoneType'"
     ]
    }
   ],
   "source": [
    "None+None"
   ]
  },
  {
   "cell_type": "code",
   "execution_count": 25,
   "metadata": {
    "collapsed": false
   },
   "outputs": [
    {
     "data": {
      "text/plain": [
       "True"
      ]
     },
     "execution_count": 25,
     "metadata": {},
     "output_type": "execute_result"
    }
   ],
   "source": [
    "'Hi'==\"Hi\""
   ]
  },
  {
   "cell_type": "code",
   "execution_count": 26,
   "metadata": {
    "collapsed": false
   },
   "outputs": [
    {
     "data": {
      "text/plain": [
       "'sadfsadf sdf'"
      ]
     },
     "execution_count": 26,
     "metadata": {},
     "output_type": "execute_result"
    }
   ],
   "source": [
    "'sadfsadf {aaa}'.format(aaa=\"sdf\")"
   ]
  },
  {
   "cell_type": "code",
   "execution_count": 27,
   "metadata": {
    "collapsed": false
   },
   "outputs": [
    {
     "data": {
      "text/plain": [
       "'abacaba'"
      ]
     },
     "execution_count": 27,
     "metadata": {},
     "output_type": "execute_result"
    }
   ],
   "source": [
    "'{}{}'.format(\"aba\",\"caba\")"
   ]
  },
  {
   "cell_type": "code",
   "execution_count": 29,
   "metadata": {
    "collapsed": false
   },
   "outputs": [
    {
     "data": {
      "text/plain": [
       "'sdfsdf'"
      ]
     },
     "execution_count": 29,
     "metadata": {},
     "output_type": "execute_result"
    }
   ],
   "source": [
    "\"sdfsdf\".upper().lower()"
   ]
  },
  {
   "cell_type": "code",
   "execution_count": 30,
   "metadata": {
    "collapsed": true
   },
   "outputs": [],
   "source": [
    "str=\"aba c aba\""
   ]
  },
  {
   "cell_type": "code",
   "execution_count": 32,
   "metadata": {
    "collapsed": false
   },
   "outputs": [
    {
     "data": {
      "text/plain": [
       "['', 'b', ' c ', 'b', '']"
      ]
     },
     "execution_count": 32,
     "metadata": {},
     "output_type": "execute_result"
    }
   ],
   "source": [
    "str.split('a')"
   ]
  },
  {
   "cell_type": "code",
   "execution_count": 33,
   "metadata": {
    "collapsed": false
   },
   "outputs": [
    {
     "ename": "TypeError",
     "evalue": "Required argument 'name' (pos 1) not found",
     "output_type": "error",
     "traceback": [
      "\u001b[1;31m---------------------------------------------------------------------------\u001b[0m",
      "\u001b[1;31mTypeError\u001b[0m                                 Traceback (most recent call last)",
      "\u001b[1;32m<ipython-input-33-3eee29e366d3>\u001b[0m in \u001b[0;36m<module>\u001b[1;34m()\u001b[0m\n\u001b[1;32m----> 1\u001b[1;33m \u001b[0mopen\u001b[0m\u001b[1;33m(\u001b[0m\u001b[1;33m)\u001b[0m\u001b[1;33m\u001b[0m\u001b[0m\n\u001b[0m",
      "\u001b[1;31mTypeError\u001b[0m: Required argument 'name' (pos 1) not found"
     ]
    }
   ],
   "source": [
    "open()"
   ]
  },
  {
   "cell_type": "code",
   "execution_count": 34,
   "metadata": {
    "collapsed": true
   },
   "outputs": [],
   "source": [
    "file_obj = open(\"s2.ipynb\", \"r\")"
   ]
  },
  {
   "cell_type": "code",
   "execution_count": 36,
   "metadata": {
    "collapsed": false
   },
   "outputs": [
    {
     "data": {
      "text/plain": [
       "['__class__',\n",
       " '__delattr__',\n",
       " '__doc__',\n",
       " '__enter__',\n",
       " '__exit__',\n",
       " '__format__',\n",
       " '__getattribute__',\n",
       " '__hash__',\n",
       " '__init__',\n",
       " '__iter__',\n",
       " '__new__',\n",
       " '__reduce__',\n",
       " '__reduce_ex__',\n",
       " '__repr__',\n",
       " '__setattr__',\n",
       " '__sizeof__',\n",
       " '__str__',\n",
       " '__subclasshook__',\n",
       " 'close',\n",
       " 'closed',\n",
       " 'encoding',\n",
       " 'errors',\n",
       " 'fileno',\n",
       " 'flush',\n",
       " 'isatty',\n",
       " 'mode',\n",
       " 'name',\n",
       " 'newlines',\n",
       " 'next',\n",
       " 'read',\n",
       " 'readinto',\n",
       " 'readline',\n",
       " 'readlines',\n",
       " 'seek',\n",
       " 'softspace',\n",
       " 'tell',\n",
       " 'truncate',\n",
       " 'write',\n",
       " 'writelines',\n",
       " 'xreadlines']"
      ]
     },
     "execution_count": 36,
     "metadata": {},
     "output_type": "execute_result"
    }
   ],
   "source": [
    "dir(file_obj)"
   ]
  },
  {
   "cell_type": "code",
   "execution_count": 37,
   "metadata": {
    "collapsed": false
   },
   "outputs": [
    {
     "data": {
      "text/plain": [
       "'{\\n \"metadata\": {\\n  \"name\": \"\",\\n  \"signature\": \"sha256:bf25691424e3f157d55a2ec4b7ebf99d524915ccef0118703f39218c6de80feb\"\\n },\\n \"nbformat\": 3,\\n \"nbformat_minor\": 0,\\n \"worksheets\": [\\n  {\\n   \"cells\": [\\n    {\\n     \"cell_type\": \"code\",\\n     \"collapsed\": false,\\n     \"input\": [\\n      \"import numpy as np\\\\n\",\\n      \"import pylab as pl\"\\n     ],\\n     \"language\": \"python\",\\n     \"metadata\": {},\\n     \"outputs\": [],\\n     \"prompt_number\": 2\\n    },\\n    {\\n     \"cell_type\": \"code\",\\n     \"collapsed\": false,\\n     \"input\": [\\n      \"def plot_model_data(blue_d, red_d):\\\\n\",\\n      \"    pl.figure(figsize=(10,10))\\\\n\",\\n      \"    pl.scatter(blue_d[:,0], blue_d[:,1],color=\\\\\"blue\\\\\",alpha=0.3)\\\\n\",\\n      \"    pl.scatter(red_d[:,0], red_d[:,1],color=\\\\\"red\\\\\",alpha=0.3)\\\\n\",\\n      \"    pl.show()\"\\n     ],\\n     \"language\": \"python\",\\n     \"metadata\": {},\\n     \"outputs\": [],\\n     \"prompt_number\": 3\\n    },\\n    {\\n     \"cell_type\": \"code\",\\n     \"collapsed\": false,\\n     \"input\": [\\n      \"def generate_linear(pcount, slope, constant):\\\\n\",\\n      \"    points = np.random.rand(pcount, 2)\\\\n\",\\n      \"    above_index = slope * points[:,0]+constant < points[:,1]\\\\n\",\\n      \"    blue_data=points[above_index, :]\\\\n\",\\n      \"    red_data=points[~above_index, :]\\\\n\",\\n      \"    return blue_data, red_data\\\\n\"\\n     ],\\n     \"language\": \"python\",\\n     \"metadata\": {},\\n     \"outputs\": [],\\n     \"prompt_number\": 6\\n    },\\n    {\\n     \"cell_type\": \"code\",\\n     \"collapsed\": false,\\n     \"input\": [\\n      \"linear1,linear2=generate_linear(6000, 1, 0.5)\\\\n\",\\n      \"plot_model_data(linear1, linear2)\"\\n     ],\\n     \"language\": \"python\",\\n     \"metadata\": {},\\n     \"outputs\": [],\\n     \"prompt_number\": 7\\n    },\\n    {\\n     \"cell_type\": \"code\",\\n     \"collapsed\": false,\\n     \"input\": [\\n      \"from math import sin\\\\n\",\\n      \"def generate_p(pcount, slope, constant):\\\\n\",\\n      \"    points = np.random.rand(pcount, 2)\\\\n\",\\n      \"    above_index = sin(slope * points[:,0]) < points[:,1]\\\\n\",\\n      \"    blue_data=points[above_index, :]\\\\n\",\\n      \"    red_data=points[~above_index, :]\\\\n\",\\n      \"    return blue_data, red_data\"\\n     ],\\n     \"language\": \"python\",\\n     \"metadata\": {},\\n     \"outputs\": [],\\n     \"prompt_number\": 10\\n    },\\n    {\\n     \"cell_type\": \"code\",\\n     \"collapsed\": false,\\n     \"input\": [\\n      \"p1,p2=generate_p(6000, 1, 0.5)\\\\n\",\\n      \"plot_model_data(p1, p2)\"\\n     ],\\n     \"language\": \"python\",\\n     \"metadata\": {},\\n     \"outputs\": [\\n      {\\n       \"ename\": \"TypeError\",\\n       \"evalue\": \"only length-1 arrays can be converted to Python scalars\",\\n       \"output_type\": \"pyerr\",\\n       \"traceback\": [\\n        \"\\\\u001b[0;31m---------------------------------------------------------------------------\\\\u001b[0m\\\\n\\\\u001b[0;31mTypeError\\\\u001b[0m                                 Traceback (most recent call last)\",\\n        \"\\\\u001b[0;32m<ipython-input-11-3eab9f895324>\\\\u001b[0m in \\\\u001b[0;36m<module>\\\\u001b[0;34m()\\\\u001b[0m\\\\n\\\\u001b[0;32m----> 1\\\\u001b[0;31m \\\\u001b[0mp1\\\\u001b[0m\\\\u001b[0;34m,\\\\u001b[0m\\\\u001b[0mp2\\\\u001b[0m\\\\u001b[0;34m=\\\\u001b[0m\\\\u001b[0mgenerate_p\\\\u001b[0m\\\\u001b[0;34m(\\\\u001b[0m\\\\u001b[0;36m6000\\\\u001b[0m\\\\u001b[0;34m,\\\\u001b[0m \\\\u001b[0;36m1\\\\u001b[0m\\\\u001b[0;34m,\\\\u001b[0m \\\\u001b[0;36m0.5\\\\u001b[0m\\\\u001b[0;34m)\\\\u001b[0m\\\\u001b[0;34m\\\\u001b[0m\\\\u001b[0m\\\\n\\\\u001b[0m\\\\u001b[1;32m      2\\\\u001b[0m \\\\u001b[0mplot_model_data\\\\u001b[0m\\\\u001b[0;34m(\\\\u001b[0m\\\\u001b[0mp1\\\\u001b[0m\\\\u001b[0;34m,\\\\u001b[0m \\\\u001b[0mp2\\\\u001b[0m\\\\u001b[0;34m)\\\\u001b[0m\\\\u001b[0;34m\\\\u001b[0m\\\\u001b[0m\\\\n\",\\n        \"\\\\u001b[0;32m<ipython-input-10-a969cb9844d1>\\\\u001b[0m in \\\\u001b[0;36mgenerate_p\\\\u001b[0;34m(pcount, slope, constant)\\\\u001b[0m\\\\n\\\\u001b[1;32m      2\\\\u001b[0m \\\\u001b[0;32mdef\\\\u001b[0m \\\\u001b[0mgenerate_p\\\\u001b[0m\\\\u001b[0;34m(\\\\u001b[0m\\\\u001b[0mpcount\\\\u001b[0m\\\\u001b[0;34m,\\\\u001b[0m \\\\u001b[0mslope\\\\u001b[0m\\\\u001b[0;34m,\\\\u001b[0m \\\\u001b[0mconstant\\\\u001b[0m\\\\u001b[0;34m)\\\\u001b[0m\\\\u001b[0;34m:\\\\u001b[0m\\\\u001b[0;34m\\\\u001b[0m\\\\u001b[0m\\\\n\\\\u001b[1;32m      3\\\\u001b[0m     \\\\u001b[0mpoints\\\\u001b[0m \\\\u001b[0;34m=\\\\u001b[0m \\\\u001b[0mnp\\\\u001b[0m\\\\u001b[0;34m.\\\\u001b[0m\\\\u001b[0mrandom\\\\u001b[0m\\\\u001b[0;34m.\\\\u001b[0m\\\\u001b[0mrand\\\\u001b[0m\\\\u001b[0;34m(\\\\u001b[0m\\\\u001b[0mpcount\\\\u001b[0m\\\\u001b[0;34m,\\\\u001b[0m \\\\u001b[0;36m2\\\\u001b[0m\\\\u001b[0;34m)\\\\u001b[0m\\\\u001b[0;34m\\\\u001b[0m\\\\u001b[0m\\\\n\\\\u001b[0;32m----> 4\\\\u001b[0;31m     \\\\u001b[0mabove_index\\\\u001b[0m \\\\u001b[0;34m=\\\\u001b[0m \\\\u001b[0msin\\\\u001b[0m\\\\u001b[0;34m(\\\\u001b[0m\\\\u001b[0mslope\\\\u001b[0m \\\\u001b[0;34m*\\\\u001b[0m \\\\u001b[0mpoints\\\\u001b[0m\\\\u001b[0;34m[\\\\u001b[0m\\\\u001b[0;34m:\\\\u001b[0m\\\\u001b[0;34m,\\\\u001b[0m\\\\u001b[0;36m0\\\\u001b[0m\\\\u001b[0;34m]\\\\u001b[0m\\\\u001b[0;34m)\\\\u001b[0m \\\\u001b[0;34m<\\\\u001b[0m \\\\u001b[0mpoints\\\\u001b[0m\\\\u001b[0;34m[\\\\u001b[0m\\\\u001b[0;34m:\\\\u001b[0m\\\\u001b[0;34m,\\\\u001b[0m\\\\u001b[0;36m1\\\\u001b[0m\\\\u001b[0;34m]\\\\u001b[0m\\\\u001b[0;34m\\\\u001b[0m\\\\u001b[0m\\\\n\\\\u001b[0m\\\\u001b[1;32m      5\\\\u001b[0m     \\\\u001b[0mblue_data\\\\u001b[0m\\\\u001b[0;34m=\\\\u001b[0m\\\\u001b[0mpoints\\\\u001b[0m\\\\u001b[0;34m[\\\\u001b[0m\\\\u001b[0mabove_index\\\\u001b[0m\\\\u001b[0;34m,\\\\u001b[0m \\\\u001b[0;34m:\\\\u001b[0m\\\\u001b[0;34m]\\\\u001b[0m\\\\u001b[0;34m\\\\u001b[0m\\\\u001b[0m\\\\n\\\\u001b[1;32m      6\\\\u001b[0m     \\\\u001b[0mred_data\\\\u001b[0m\\\\u001b[0;34m=\\\\u001b[0m\\\\u001b[0mpoints\\\\u001b[0m\\\\u001b[0;34m[\\\\u001b[0m\\\\u001b[0;34m~\\\\u001b[0m\\\\u001b[0mabove_index\\\\u001b[0m\\\\u001b[0;34m,\\\\u001b[0m \\\\u001b[0;34m:\\\\u001b[0m\\\\u001b[0;34m]\\\\u001b[0m\\\\u001b[0;34m\\\\u001b[0m\\\\u001b[0m\\\\n\",\\n        \"\\\\u001b[0;31mTypeError\\\\u001b[0m: only length-1 arrays can be converted to Python scalars\"\\n       ]\\n      }\\n     ],\\n     \"prompt_number\": 11\\n    },\\n    {\\n     \"cell_type\": \"code\",\\n     \"collapsed\": false,\\n     \"input\": [\\n      \"def generate_gauss(pcount, mu, m):\\\\n\",\\n      \"    points = np.random.rand(pcount, 2)\\\\n\",\\n      \"    points = mu + np.dot(m.T, points.T).T\\\\n\",\\n      \"    return(points)\"\\n     ],\\n     \"language\": \"python\",\\n     \"metadata\": {},\\n     \"outputs\": [],\\n     \"prompt_number\": 15\\n    },\\n    {\\n     \"cell_type\": \"code\",\\n     \"collapsed\": false,\\n     \"input\": [\\n      \"blg=generate_gauss(3000, (0, 0), np.array([[0.1, 0.2], [0.1, 0.5]]))\\\\n\",\\n      \"rg=generate_gauss(3000, (0.5, 0), np.array([[0.1, 0], [0, 1]]))\"\\n     ],\\n     \"language\": \"python\",\\n     \"metadata\": {},\\n     \"outputs\": [],\\n     \"prompt_number\": 17\\n    },\\n    {\\n     \"cell_type\": \"code\",\\n     \"collapsed\": true,\\n     \"input\": [\\n      \"plot_model_data(blg, rg)\"\\n     ],\\n     \"language\": \"python\",\\n     \"metadata\": {},\\n     \"outputs\": [],\\n     \"prompt_number\": 18\\n    },\\n    {\\n     \"cell_type\": \"code\",\\n     \"collapsed\": false,\\n     \"input\": [\\n      \"from sklearn.cross_validation import cross_val_score, KFold, StratifiedKFold\\\\n\",\\n      \"from sklearn.neighbors import KNeighborsClassifier as KNN\"\\n     ],\\n     \"language\": \"python\",\\n     \"metadata\": {},\\n     \"outputs\": [],\\n     \"prompt_number\": 20\\n    },\\n    {\\n     \"cell_type\": \"code\",\\n     \"collapsed\": false,\\n     \"input\": [\\n      \"def gen(blue, red):\\\\n\",\\n      \"    X=np.r_[blue, red]\\\\n\",\\n      \"    Y=np.r_[np.zeros(blue.shape[0]), np.ones(red.shape[0])]\\\\n\",\\n      \"    return X,Y\"\\n     ],\\n     \"language\": \"python\",\\n     \"metadata\": {},\\n     \"outputs\": [],\\n     \"prompt_number\": 21\\n    },\\n    {\\n     \"cell_type\": \"code\",\\n     \"collapsed\": false,\\n     \"input\": [\\n      \"linear1,linear2=generate_linear(6000, 1, 0.5)\\\\n\",\\n      \"plot_model_data(linear1, linear2)\"\\n     ],\\n     \"language\": \"python\",\\n     \"metadata\": {},\\n     \"outputs\": [],\\n     \"prompt_number\": 22\\n    },\\n    {\\n     \"cell_type\": \"code\",\\n     \"collapsed\": false,\\n     \"input\": [\\n      \"X,Y=gen(linear1, linear2)\"\\n     ],\\n     \"language\": \"python\",\\n     \"metadata\": {},\\n     \"outputs\": [],\\n     \"prompt_number\": 23\\n    },\\n    {\\n     \"cell_type\": \"code\",\\n     \"collapsed\": false,\\n     \"input\": [\\n      \"classifier=KNN(n_neighbors=1)\\\\n\",\\n      \"%time classifier.fit(X,Y)\"\\n     ],\\n     \"language\": \"python\",\\n     \"metadata\": {},\\n     \"outputs\": [\\n      {\\n       \"output_type\": \"stream\",\\n       \"stream\": \"stdout\",\\n       \"text\": [\\n        \"CPU times: user 4 ms, sys: 0 ns, total: 4 ms\\\\n\",\\n        \"Wall time: 3.23 ms\\\\n\"\\n       ]\\n      },\\n      {\\n       \"metadata\": {},\\n       \"output_type\": \"pyout\",\\n       \"prompt_number\": 24,\\n       \"text\": [\\n        \"KNeighborsClassifier(algorithm=\\'auto\\', leaf_size=30, metric=\\'minkowski\\',\\\\n\",\\n        \"           n_neighbors=1, p=2, weights=\\'uniform\\')\"\\n       ]\\n      }\\n     ],\\n     \"prompt_number\": 24\\n    },\\n    {\\n     \"cell_type\": \"code\",\\n     \"collapsed\": false,\\n     \"input\": [\\n      \"classifier.predict(X)==Y\"\\n     ],\\n     \"language\": \"python\",\\n     \"metadata\": {},\\n     \"outputs\": [\\n      {\\n       \"metadata\": {},\\n       \"output_type\": \"pyout\",\\n       \"prompt_number\": 25,\\n       \"text\": [\\n        \"array([ True,  True,  True, ...,  True,  True,  True], dtype=bool)\"\\n       ]\\n      }\\n     ],\\n     \"prompt_number\": 25\\n    },\\n    {\\n     \"cell_type\": \"code\",\\n     \"collapsed\": false,\\n     \"input\": [\\n      \"linear11,linear21=generate_linear(6000, 1, 0.5)\\\\n\",\\n      \"plot_model_data(linear11, linear21)\\\\n\",\\n      \"X1,Y1=gen(linear11, linear21)\"\\n     ],\\n     \"language\": \"python\",\\n     \"metadata\": {},\\n     \"outputs\": [],\\n     \"prompt_number\": 26\\n    },\\n    {\\n     \"cell_type\": \"code\",\\n     \"collapsed\": false,\\n     \"input\": [\\n      \"res=(classifier.predict(X1)==Y1)\"\\n     ],\\n     \"language\": \"python\",\\n     \"metadata\": {},\\n     \"outputs\": [],\\n     \"prompt_number\": 29\\n    },\\n    {\\n     \"cell_type\": \"code\",\\n     \"collapsed\": false,\\n     \"input\": [\\n      \"res.index(False)\"\\n     ],\\n     \"language\": \"python\",\\n     \"metadata\": {},\\n     \"outputs\": [\\n      {\\n       \"ename\": \"AttributeError\",\\n       \"evalue\": \"\\'numpy.ndarray\\' object has no attribute \\'index\\'\",\\n       \"output_type\": \"pyerr\",\\n       \"traceback\": [\\n        \"\\\\u001b[0;31m---------------------------------------------------------------------------\\\\u001b[0m\\\\n\\\\u001b[0;31mAttributeError\\\\u001b[0m                            Traceback (most recent call last)\",\\n        \"\\\\u001b[0;32m<ipython-input-31-8a5e7c7b5c86>\\\\u001b[0m in \\\\u001b[0;36m<module>\\\\u001b[0;34m()\\\\u001b[0m\\\\n\\\\u001b[0;32m----> 1\\\\u001b[0;31m \\\\u001b[0mres\\\\u001b[0m\\\\u001b[0;34m.\\\\u001b[0m\\\\u001b[0mindex\\\\u001b[0m\\\\u001b[0;34m(\\\\u001b[0m\\\\u001b[0mFalse\\\\u001b[0m\\\\u001b[0;34m)\\\\u001b[0m\\\\u001b[0;34m\\\\u001b[0m\\\\u001b[0m\\\\n\\\\u001b[0m\",\\n        \"\\\\u001b[0;31mAttributeError\\\\u001b[0m: \\'numpy.ndarray\\' object has no attribute \\'index\\'\"\\n       ]\\n      }\\n     ],\\n     \"prompt_number\": 31\\n    },\\n    {\\n     \"cell_type\": \"code\",\\n     \"collapsed\": false,\\n     \"input\": [\\n      \"res\"\\n     ],\\n     \"language\": \"python\",\\n     \"metadata\": {},\\n     \"outputs\": [\\n      {\\n       \"metadata\": {},\\n       \"output_type\": \"pyout\",\\n       \"prompt_number\": 32,\\n       \"text\": [\\n        \"array([ True,  True,  True, ...,  True,  True,  True], dtype=bool)\"\\n       ]\\n      }\\n     ],\\n     \"prompt_number\": 32\\n    },\\n    {\\n     \"cell_type\": \"code\",\\n     \"collapsed\": false,\\n     \"input\": [\\n      \"dir(res[:]==False)\"\\n     ],\\n     \"language\": \"python\",\\n     \"metadata\": {},\\n     \"outputs\": [\\n      {\\n       \"metadata\": {},\\n       \"output_type\": \"pyout\",\\n       \"prompt_number\": 36,\\n       \"text\": [\\n        \"[\\'T\\',\\\\n\",\\n        \" \\'__abs__\\',\\\\n\",\\n        \" \\'__add__\\',\\\\n\",\\n        \" \\'__and__\\',\\\\n\",\\n        \" \\'__array__\\',\\\\n\",\\n        \" \\'__array_finalize__\\',\\\\n\",\\n        \" \\'__array_interface__\\',\\\\n\",\\n        \" \\'__array_prepare__\\',\\\\n\",\\n        \" \\'__array_priority__\\',\\\\n\",\\n        \" \\'__array_struct__\\',\\\\n\",\\n        \" \\'__array_wrap__\\',\\\\n\",\\n        \" \\'__class__\\',\\\\n\",\\n        \" \\'__contains__\\',\\\\n\",\\n        \" \\'__copy__\\',\\\\n\",\\n        \" \\'__deepcopy__\\',\\\\n\",\\n        \" \\'__delattr__\\',\\\\n\",\\n        \" \\'__delitem__\\',\\\\n\",\\n        \" \\'__delslice__\\',\\\\n\",\\n        \" \\'__div__\\',\\\\n\",\\n        \" \\'__divmod__\\',\\\\n\",\\n        \" \\'__doc__\\',\\\\n\",\\n        \" \\'__eq__\\',\\\\n\",\\n        \" \\'__float__\\',\\\\n\",\\n        \" \\'__floordiv__\\',\\\\n\",\\n        \" \\'__format__\\',\\\\n\",\\n        \" \\'__ge__\\',\\\\n\",\\n        \" \\'__getattribute__\\',\\\\n\",\\n        \" \\'__getitem__\\',\\\\n\",\\n        \" \\'__getslice__\\',\\\\n\",\\n        \" \\'__gt__\\',\\\\n\",\\n        \" \\'__hash__\\',\\\\n\",\\n        \" \\'__hex__\\',\\\\n\",\\n        \" \\'__iadd__\\',\\\\n\",\\n        \" \\'__iand__\\',\\\\n\",\\n        \" \\'__idiv__\\',\\\\n\",\\n        \" \\'__ifloordiv__\\',\\\\n\",\\n        \" \\'__ilshift__\\',\\\\n\",\\n        \" \\'__imod__\\',\\\\n\",\\n        \" \\'__imul__\\',\\\\n\",\\n        \" \\'__index__\\',\\\\n\",\\n        \" \\'__init__\\',\\\\n\",\\n        \" \\'__int__\\',\\\\n\",\\n        \" \\'__invert__\\',\\\\n\",\\n        \" \\'__ior__\\',\\\\n\",\\n        \" \\'__ipow__\\',\\\\n\",\\n        \" \\'__irshift__\\',\\\\n\",\\n        \" \\'__isub__\\',\\\\n\",\\n        \" \\'__iter__\\',\\\\n\",\\n        \" \\'__itruediv__\\',\\\\n\",\\n        \" \\'__ixor__\\',\\\\n\",\\n        \" \\'__le__\\',\\\\n\",\\n        \" \\'__len__\\',\\\\n\",\\n        \" \\'__long__\\',\\\\n\",\\n        \" \\'__lshift__\\',\\\\n\",\\n        \" \\'__lt__\\',\\\\n\",\\n        \" \\'__mod__\\',\\\\n\",\\n        \" \\'__mul__\\',\\\\n\",\\n        \" \\'__ne__\\',\\\\n\",\\n        \" \\'__neg__\\',\\\\n\",\\n        \" \\'__new__\\',\\\\n\",\\n        \" \\'__nonzero__\\',\\\\n\",\\n        \" \\'__oct__\\',\\\\n\",\\n        \" \\'__or__\\',\\\\n\",\\n        \" \\'__pos__\\',\\\\n\",\\n        \" \\'__pow__\\',\\\\n\",\\n        \" \\'__radd__\\',\\\\n\",\\n        \" \\'__rand__\\',\\\\n\",\\n        \" \\'__rdiv__\\',\\\\n\",\\n        \" \\'__rdivmod__\\',\\\\n\",\\n        \" \\'__reduce__\\',\\\\n\",\\n        \" \\'__reduce_ex__\\',\\\\n\",\\n        \" \\'__repr__\\',\\\\n\",\\n        \" \\'__rfloordiv__\\',\\\\n\",\\n        \" \\'__rlshift__\\',\\\\n\",\\n        \" \\'__rmod__\\',\\\\n\",\\n        \" \\'__rmul__\\',\\\\n\",\\n        \" \\'__ror__\\',\\\\n\",\\n        \" \\'__rpow__\\',\\\\n\",\\n        \" \\'__rrshift__\\',\\\\n\",\\n        \" \\'__rshift__\\',\\\\n\",\\n        \" \\'__rsub__\\',\\\\n\",\\n        \" \\'__rtruediv__\\',\\\\n\",\\n        \" \\'__rxor__\\',\\\\n\",\\n        \" \\'__setattr__\\',\\\\n\",\\n        \" \\'__setitem__\\',\\\\n\",\\n        \" \\'__setslice__\\',\\\\n\",\\n        \" \\'__setstate__\\',\\\\n\",\\n        \" \\'__sizeof__\\',\\\\n\",\\n        \" \\'__str__\\',\\\\n\",\\n        \" \\'__sub__\\',\\\\n\",\\n        \" \\'__subclasshook__\\',\\\\n\",\\n        \" \\'__truediv__\\',\\\\n\",\\n        \" \\'__xor__\\',\\\\n\",\\n        \" \\'all\\',\\\\n\",\\n        \" \\'any\\',\\\\n\",\\n        \" \\'argmax\\',\\\\n\",\\n        \" \\'argmin\\',\\\\n\",\\n        \" \\'argpartition\\',\\\\n\",\\n        \" \\'argsort\\',\\\\n\",\\n        \" \\'astype\\',\\\\n\",\\n        \" \\'base\\',\\\\n\",\\n        \" \\'byteswap\\',\\\\n\",\\n        \" \\'choose\\',\\\\n\",\\n        \" \\'clip\\',\\\\n\",\\n        \" \\'compress\\',\\\\n\",\\n        \" \\'conj\\',\\\\n\",\\n        \" \\'conjugate\\',\\\\n\",\\n        \" \\'copy\\',\\\\n\",\\n        \" \\'ctypes\\',\\\\n\",\\n        \" \\'cumprod\\',\\\\n\",\\n        \" \\'cumsum\\',\\\\n\",\\n        \" \\'data\\',\\\\n\",\\n        \" \\'diagonal\\',\\\\n\",\\n        \" \\'dot\\',\\\\n\",\\n        \" \\'dtype\\',\\\\n\",\\n        \" \\'dump\\',\\\\n\",\\n        \" \\'dumps\\',\\\\n\",\\n        \" \\'fill\\',\\\\n\",\\n        \" \\'flags\\',\\\\n\",\\n        \" \\'flat\\',\\\\n\",\\n        \" \\'flatten\\',\\\\n\",\\n        \" \\'getfield\\',\\\\n\",\\n        \" \\'imag\\',\\\\n\",\\n        \" \\'item\\',\\\\n\",\\n        \" \\'itemset\\',\\\\n\",\\n        \" \\'itemsize\\',\\\\n\",\\n        \" \\'max\\',\\\\n\",\\n        \" \\'mean\\',\\\\n\",\\n        \" \\'min\\',\\\\n\",\\n        \" \\'nbytes\\',\\\\n\",\\n        \" \\'ndim\\',\\\\n\",\\n        \" \\'newbyteorder\\',\\\\n\",\\n        \" \\'nonzero\\',\\\\n\",\\n        \" \\'partition\\',\\\\n\",\\n        \" \\'prod\\',\\\\n\",\\n        \" \\'ptp\\',\\\\n\",\\n        \" \\'put\\',\\\\n\",\\n        \" \\'ravel\\',\\\\n\",\\n        \" \\'real\\',\\\\n\",\\n        \" \\'repeat\\',\\\\n\",\\n        \" \\'reshape\\',\\\\n\",\\n        \" \\'resize\\',\\\\n\",\\n        \" \\'round\\',\\\\n\",\\n        \" \\'searchsorted\\',\\\\n\",\\n        \" \\'setfield\\',\\\\n\",\\n        \" \\'setflags\\',\\\\n\",\\n        \" \\'shape\\',\\\\n\",\\n        \" \\'size\\',\\\\n\",\\n        \" \\'sort\\',\\\\n\",\\n        \" \\'squeeze\\',\\\\n\",\\n        \" \\'std\\',\\\\n\",\\n        \" \\'strides\\',\\\\n\",\\n        \" \\'sum\\',\\\\n\",\\n        \" \\'swapaxes\\',\\\\n\",\\n        \" \\'take\\',\\\\n\",\\n        \" \\'tofile\\',\\\\n\",\\n        \" \\'tolist\\',\\\\n\",\\n        \" \\'tostring\\',\\\\n\",\\n        \" \\'trace\\',\\\\n\",\\n        \" \\'transpose\\',\\\\n\",\\n        \" \\'var\\',\\\\n\",\\n        \" \\'view\\']\"\\n       ]\\n      }\\n     ],\\n     \"prompt_number\": 36\\n    },\\n    {\\n     \"cell_type\": \"code\",\\n     \"collapsed\": false,\\n     \"input\": [\\n      \"res.sort()\"\\n     ],\\n     \"language\": \"python\",\\n     \"metadata\": {},\\n     \"outputs\": [],\\n     \"prompt_number\": 38\\n    },\\n    {\\n     \"cell_type\": \"code\",\\n     \"collapsed\": false,\\n     \"input\": [\\n      \"res\"\\n     ],\\n     \"language\": \"python\",\\n     \"metadata\": {},\\n     \"outputs\": [\\n      {\\n       \"metadata\": {},\\n       \"output_type\": \"pyout\",\\n       \"prompt_number\": 39,\\n       \"text\": [\\n        \"array([False, False, False, ...,  True,  True,  True], dtype=bool)\"\\n       ]\\n      }\\n     ],\\n     \"prompt_number\": 39\\n    },\\n    {\\n     \"cell_type\": \"code\",\\n     \"collapsed\": false,\\n     \"input\": [\\n      \"grid=np.meshgrid(np.arange(0, 1, 0.01), np.arange(0, 1, 0.01))\"\\n     ],\\n     \"language\": \"python\",\\n     \"metadata\": {},\\n     \"outputs\": [],\\n     \"prompt_number\": 40\\n    },\\n    {\\n     \"cell_type\": \"code\",\\n     \"collapsed\": false,\\n     \"input\": [\\n      \"res=(classifier.predict(X1)==Y1)\"\\n     ],\\n     \"language\": \"python\",\\n     \"metadata\": {},\\n     \"outputs\": [],\\n     \"prompt_number\": 41\\n    },\\n    {\\n     \"cell_type\": \"code\",\\n     \"collapsed\": false,\\n     \"input\": [\\n      \"dir(res)\"\\n     ],\\n     \"language\": \"python\",\\n     \"metadata\": {},\\n     \"outputs\": [\\n      {\\n       \"metadata\": {},\\n       \"output_type\": \"pyout\",\\n       \"prompt_number\": 42,\\n       \"text\": [\\n        \"[\\'T\\',\\\\n\",\\n        \" \\'__abs__\\',\\\\n\",\\n        \" \\'__add__\\',\\\\n\",\\n        \" \\'__and__\\',\\\\n\",\\n        \" \\'__array__\\',\\\\n\",\\n        \" \\'__array_finalize__\\',\\\\n\",\\n        \" \\'__array_interface__\\',\\\\n\",\\n        \" \\'__array_prepare__\\',\\\\n\",\\n        \" \\'__array_priority__\\',\\\\n\",\\n        \" \\'__array_struct__\\',\\\\n\",\\n        \" \\'__array_wrap__\\',\\\\n\",\\n        \" \\'__class__\\',\\\\n\",\\n        \" \\'__contains__\\',\\\\n\",\\n        \" \\'__copy__\\',\\\\n\",\\n        \" \\'__deepcopy__\\',\\\\n\",\\n        \" \\'__delattr__\\',\\\\n\",\\n        \" \\'__delitem__\\',\\\\n\",\\n        \" \\'__delslice__\\',\\\\n\",\\n        \" \\'__div__\\',\\\\n\",\\n        \" \\'__divmod__\\',\\\\n\",\\n        \" \\'__doc__\\',\\\\n\",\\n        \" \\'__eq__\\',\\\\n\",\\n        \" \\'__float__\\',\\\\n\",\\n        \" \\'__floordiv__\\',\\\\n\",\\n        \" \\'__format__\\',\\\\n\",\\n        \" \\'__ge__\\',\\\\n\",\\n        \" \\'__getattribute__\\',\\\\n\",\\n        \" \\'__getitem__\\',\\\\n\",\\n        \" \\'__getslice__\\',\\\\n\",\\n        \" \\'__gt__\\',\\\\n\",\\n        \" \\'__hash__\\',\\\\n\",\\n        \" \\'__hex__\\',\\\\n\",\\n        \" \\'__iadd__\\',\\\\n\",\\n        \" \\'__iand__\\',\\\\n\",\\n        \" \\'__idiv__\\',\\\\n\",\\n        \" \\'__ifloordiv__\\',\\\\n\",\\n        \" \\'__ilshift__\\',\\\\n\",\\n        \" \\'__imod__\\',\\\\n\",\\n        \" \\'__imul__\\',\\\\n\",\\n        \" \\'__index__\\',\\\\n\",\\n        \" \\'__init__\\',\\\\n\",\\n        \" \\'__int__\\',\\\\n\",\\n        \" \\'__invert__\\',\\\\n\",\\n        \" \\'__ior__\\',\\\\n\",\\n        \" \\'__ipow__\\',\\\\n\",\\n        \" \\'__irshift__\\',\\\\n\",\\n        \" \\'__isub__\\',\\\\n\",\\n        \" \\'__iter__\\',\\\\n\",\\n        \" \\'__itruediv__\\',\\\\n\",\\n        \" \\'__ixor__\\',\\\\n\",\\n        \" \\'__le__\\',\\\\n\",\\n        \" \\'__len__\\',\\\\n\",\\n        \" \\'__long__\\',\\\\n\",\\n        \" \\'__lshift__\\',\\\\n\",\\n        \" \\'__lt__\\',\\\\n\",\\n        \" \\'__mod__\\',\\\\n\",\\n        \" \\'__mul__\\',\\\\n\",\\n        \" \\'__ne__\\',\\\\n\",\\n        \" \\'__neg__\\',\\\\n\",\\n        \" \\'__new__\\',\\\\n\",\\n        \" \\'__nonzero__\\',\\\\n\",\\n        \" \\'__oct__\\',\\\\n\",\\n        \" \\'__or__\\',\\\\n\",\\n        \" \\'__pos__\\',\\\\n\",\\n        \" \\'__pow__\\',\\\\n\",\\n        \" \\'__radd__\\',\\\\n\",\\n        \" \\'__rand__\\',\\\\n\",\\n        \" \\'__rdiv__\\',\\\\n\",\\n        \" \\'__rdivmod__\\',\\\\n\",\\n        \" \\'__reduce__\\',\\\\n\",\\n        \" \\'__reduce_ex__\\',\\\\n\",\\n        \" \\'__repr__\\',\\\\n\",\\n        \" \\'__rfloordiv__\\',\\\\n\",\\n        \" \\'__rlshift__\\',\\\\n\",\\n        \" \\'__rmod__\\',\\\\n\",\\n        \" \\'__rmul__\\',\\\\n\",\\n        \" \\'__ror__\\',\\\\n\",\\n        \" \\'__rpow__\\',\\\\n\",\\n        \" \\'__rrshift__\\',\\\\n\",\\n        \" \\'__rshift__\\',\\\\n\",\\n        \" \\'__rsub__\\',\\\\n\",\\n        \" \\'__rtruediv__\\',\\\\n\",\\n        \" \\'__rxor__\\',\\\\n\",\\n        \" \\'__setattr__\\',\\\\n\",\\n        \" \\'__setitem__\\',\\\\n\",\\n        \" \\'__setslice__\\',\\\\n\",\\n        \" \\'__setstate__\\',\\\\n\",\\n        \" \\'__sizeof__\\',\\\\n\",\\n        \" \\'__str__\\',\\\\n\",\\n        \" \\'__sub__\\',\\\\n\",\\n        \" \\'__subclasshook__\\',\\\\n\",\\n        \" \\'__truediv__\\',\\\\n\",\\n        \" \\'__xor__\\',\\\\n\",\\n        \" \\'all\\',\\\\n\",\\n        \" \\'any\\',\\\\n\",\\n        \" \\'argmax\\',\\\\n\",\\n        \" \\'argmin\\',\\\\n\",\\n        \" \\'argpartition\\',\\\\n\",\\n        \" \\'argsort\\',\\\\n\",\\n        \" \\'astype\\',\\\\n\",\\n        \" \\'base\\',\\\\n\",\\n        \" \\'byteswap\\',\\\\n\",\\n        \" \\'choose\\',\\\\n\",\\n        \" \\'clip\\',\\\\n\",\\n        \" \\'compress\\',\\\\n\",\\n        \" \\'conj\\',\\\\n\",\\n        \" \\'conjugate\\',\\\\n\",\\n        \" \\'copy\\',\\\\n\",\\n        \" \\'ctypes\\',\\\\n\",\\n        \" \\'cumprod\\',\\\\n\",\\n        \" \\'cumsum\\',\\\\n\",\\n        \" \\'data\\',\\\\n\",\\n        \" \\'diagonal\\',\\\\n\",\\n        \" \\'dot\\',\\\\n\",\\n        \" \\'dtype\\',\\\\n\",\\n        \" \\'dump\\',\\\\n\",\\n        \" \\'dumps\\',\\\\n\",\\n        \" \\'fill\\',\\\\n\",\\n        \" \\'flags\\',\\\\n\",\\n        \" \\'flat\\',\\\\n\",\\n        \" \\'flatten\\',\\\\n\",\\n        \" \\'getfield\\',\\\\n\",\\n        \" \\'imag\\',\\\\n\",\\n        \" \\'item\\',\\\\n\",\\n        \" \\'itemset\\',\\\\n\",\\n        \" \\'itemsize\\',\\\\n\",\\n        \" \\'max\\',\\\\n\",\\n        \" \\'mean\\',\\\\n\",\\n        \" \\'min\\',\\\\n\",\\n        \" \\'nbytes\\',\\\\n\",\\n        \" \\'ndim\\',\\\\n\",\\n        \" \\'newbyteorder\\',\\\\n\",\\n        \" \\'nonzero\\',\\\\n\",\\n        \" \\'partition\\',\\\\n\",\\n        \" \\'prod\\',\\\\n\",\\n        \" \\'ptp\\',\\\\n\",\\n        \" \\'put\\',\\\\n\",\\n        \" \\'ravel\\',\\\\n\",\\n        \" \\'real\\',\\\\n\",\\n        \" \\'repeat\\',\\\\n\",\\n        \" \\'reshape\\',\\\\n\",\\n        \" \\'resize\\',\\\\n\",\\n        \" \\'round\\',\\\\n\",\\n        \" \\'searchsorted\\',\\\\n\",\\n        \" \\'setfield\\',\\\\n\",\\n        \" \\'setflags\\',\\\\n\",\\n        \" \\'shape\\',\\\\n\",\\n        \" \\'size\\',\\\\n\",\\n        \" \\'sort\\',\\\\n\",\\n        \" \\'squeeze\\',\\\\n\",\\n        \" \\'std\\',\\\\n\",\\n        \" \\'strides\\',\\\\n\",\\n        \" \\'sum\\',\\\\n\",\\n        \" \\'swapaxes\\',\\\\n\",\\n        \" \\'take\\',\\\\n\",\\n        \" \\'tofile\\',\\\\n\",\\n        \" \\'tolist\\',\\\\n\",\\n        \" \\'tostring\\',\\\\n\",\\n        \" \\'trace\\',\\\\n\",\\n        \" \\'transpose\\',\\\\n\",\\n        \" \\'var\\',\\\\n\",\\n        \" \\'view\\']\"\\n       ]\\n      }\\n     ],\\n     \"prompt_number\": 42\\n    },\\n    {\\n     \"cell_type\": \"code\",\\n     \"collapsed\": false,\\n     \"input\": [\\n      \"res.tolist().count(False)\"\\n     ],\\n     \"language\": \"python\",\\n     \"metadata\": {},\\n     \"outputs\": [\\n      {\\n       \"metadata\": {},\\n       \"output_type\": \"pyout\",\\n       \"prompt_number\": 44,\\n       \"text\": [\\n        \"13\"\\n       ]\\n      }\\n     ],\\n     \"prompt_number\": 44\\n    },\\n    {\\n     \"cell_type\": \"code\",\\n     \"collapsed\": false,\\n     \"input\": [],\\n     \"language\": \"python\",\\n     \"metadata\": {},\\n     \"outputs\": []\\n    }\\n   ],\\n   \"metadata\": {}\\n  }\\n ]\\n}'"
      ]
     },
     "execution_count": 37,
     "metadata": {},
     "output_type": "execute_result"
    }
   ],
   "source": [
    "file_obj.read()"
   ]
  },
  {
   "cell_type": "code",
   "execution_count": 40,
   "metadata": {
    "collapsed": true
   },
   "outputs": [],
   "source": [
    "for a in file_obj:\n",
    "    print(a)"
   ]
  },
  {
   "cell_type": "code",
   "execution_count": 41,
   "metadata": {
    "collapsed": true
   },
   "outputs": [],
   "source": [
    "from codecs import open as open1"
   ]
  },
  {
   "cell_type": "code",
   "execution_count": 42,
   "metadata": {
    "collapsed": false
   },
   "outputs": [
    {
     "ename": "IOError",
     "evalue": "[Errno 2] No such file or directory: ''",
     "output_type": "error",
     "traceback": [
      "\u001b[1;31m---------------------------------------------------------------------------\u001b[0m",
      "\u001b[1;31mIOError\u001b[0m                                   Traceback (most recent call last)",
      "\u001b[1;32m<ipython-input-42-885db90cfde0>\u001b[0m in \u001b[0;36m<module>\u001b[1;34m()\u001b[0m\n\u001b[1;32m----> 1\u001b[1;33m \u001b[0mfile_obj\u001b[0m \u001b[1;33m=\u001b[0m \u001b[0mopen1\u001b[0m\u001b[1;33m(\u001b[0m\u001b[1;34m''\u001b[0m\u001b[1;33m)\u001b[0m\u001b[1;33m\u001b[0m\u001b[0m\n\u001b[0m\u001b[0;32m      2\u001b[0m \u001b[1;33m\u001b[0m\u001b[0m\n",
      "\u001b[1;32m/home/etoestja/Documents/j/venv/lib/python2.7/codecs.pyc\u001b[0m in \u001b[0;36mopen\u001b[1;34m(filename, mode, encoding, errors, buffering)\u001b[0m\n\u001b[0;32m    876\u001b[0m             \u001b[1;31m# Force opening of the file in binary mode\u001b[0m\u001b[1;33m\u001b[0m\u001b[1;33m\u001b[0m\u001b[0m\n\u001b[0;32m    877\u001b[0m             \u001b[0mmode\u001b[0m \u001b[1;33m=\u001b[0m \u001b[0mmode\u001b[0m \u001b[1;33m+\u001b[0m \u001b[1;34m'b'\u001b[0m\u001b[1;33m\u001b[0m\u001b[0m\n\u001b[1;32m--> 878\u001b[1;33m     \u001b[0mfile\u001b[0m \u001b[1;33m=\u001b[0m \u001b[0m__builtin__\u001b[0m\u001b[1;33m.\u001b[0m\u001b[0mopen\u001b[0m\u001b[1;33m(\u001b[0m\u001b[0mfilename\u001b[0m\u001b[1;33m,\u001b[0m \u001b[0mmode\u001b[0m\u001b[1;33m,\u001b[0m \u001b[0mbuffering\u001b[0m\u001b[1;33m)\u001b[0m\u001b[1;33m\u001b[0m\u001b[0m\n\u001b[0m\u001b[0;32m    879\u001b[0m     \u001b[1;32mif\u001b[0m \u001b[0mencoding\u001b[0m \u001b[1;32mis\u001b[0m \u001b[0mNone\u001b[0m\u001b[1;33m:\u001b[0m\u001b[1;33m\u001b[0m\u001b[0m\n\u001b[0;32m    880\u001b[0m         \u001b[1;32mreturn\u001b[0m \u001b[0mfile\u001b[0m\u001b[1;33m\u001b[0m\u001b[0m\n",
      "\u001b[1;31mIOError\u001b[0m: [Errno 2] No such file or directory: ''"
     ]
    }
   ],
   "source": [
    "file_obj = open1('')\n",
    "\n"
   ]
  },
  {
   "cell_type": "code",
   "execution_count": 43,
   "metadata": {
    "collapsed": false
   },
   "outputs": [
    {
     "name": "stdout",
     "output_type": "stream",
     "text": [
      "a.py\timport.py  module.pyc  s1.ipynb   s2.ipynb\r\n",
      "enc.py\tmodule.py  run.py      s2_.ipynb  tree.ipynb\r\n"
     ]
    }
   ],
   "source": [
    "!ls"
   ]
  },
  {
   "cell_type": "code",
   "execution_count": 44,
   "metadata": {
    "collapsed": false
   },
   "outputs": [
    {
     "name": "stdout",
     "output_type": "stream",
     "text": [
      "^C\r\n"
     ]
    }
   ],
   "source": [
    "!cat"
   ]
  },
  {
   "cell_type": "code",
   "execution_count": 45,
   "metadata": {
    "collapsed": false
   },
   "outputs": [
    {
     "name": "stdout",
     "output_type": "stream",
     "text": [
      "# _*_ coding: utf-8\r\n",
      "\r\n",
      "def main():\r\n",
      "    print \"ыва\"\r\n",
      "\r\n",
      "if __name__ == '__main__':\r\n",
      "    main()\r\n"
     ]
    }
   ],
   "source": [
    "!cat module.py"
   ]
  },
  {
   "cell_type": "code",
   "execution_count": 50,
   "metadata": {
    "collapsed": true
   },
   "outputs": [],
   "source": [
    "file_obj=open1('module.py', \"r\", encoding='utf8')"
   ]
  },
  {
   "cell_type": "code",
   "execution_count": 51,
   "metadata": {
    "collapsed": false
   },
   "outputs": [
    {
     "name": "stdout",
     "output_type": "stream",
     "text": [
      "# _*_ coding: utf-8\n",
      "\n",
      "def main():\n",
      "    print \"ыва\"\n",
      "\n",
      "if __name__ == '__main__':\n",
      "    main()\n",
      "\n"
     ]
    }
   ],
   "source": [
    "print(file_obj.read())"
   ]
  },
  {
   "cell_type": "code",
   "execution_count": 52,
   "metadata": {
    "collapsed": false
   },
   "outputs": [
    {
     "data": {
      "text/plain": [
       "['__add__',\n",
       " '__class__',\n",
       " '__contains__',\n",
       " '__delattr__',\n",
       " '__doc__',\n",
       " '__eq__',\n",
       " '__format__',\n",
       " '__ge__',\n",
       " '__getattribute__',\n",
       " '__getitem__',\n",
       " '__getnewargs__',\n",
       " '__getslice__',\n",
       " '__gt__',\n",
       " '__hash__',\n",
       " '__init__',\n",
       " '__le__',\n",
       " '__len__',\n",
       " '__lt__',\n",
       " '__mod__',\n",
       " '__mul__',\n",
       " '__ne__',\n",
       " '__new__',\n",
       " '__reduce__',\n",
       " '__reduce_ex__',\n",
       " '__repr__',\n",
       " '__rmod__',\n",
       " '__rmul__',\n",
       " '__setattr__',\n",
       " '__sizeof__',\n",
       " '__str__',\n",
       " '__subclasshook__',\n",
       " '_formatter_field_name_split',\n",
       " '_formatter_parser',\n",
       " 'capitalize',\n",
       " 'center',\n",
       " 'count',\n",
       " 'decode',\n",
       " 'encode',\n",
       " 'endswith',\n",
       " 'expandtabs',\n",
       " 'find',\n",
       " 'format',\n",
       " 'index',\n",
       " 'isalnum',\n",
       " 'isalpha',\n",
       " 'isdigit',\n",
       " 'islower',\n",
       " 'isspace',\n",
       " 'istitle',\n",
       " 'isupper',\n",
       " 'join',\n",
       " 'ljust',\n",
       " 'lower',\n",
       " 'lstrip',\n",
       " 'partition',\n",
       " 'replace',\n",
       " 'rfind',\n",
       " 'rindex',\n",
       " 'rjust',\n",
       " 'rpartition',\n",
       " 'rsplit',\n",
       " 'rstrip',\n",
       " 'split',\n",
       " 'splitlines',\n",
       " 'startswith',\n",
       " 'strip',\n",
       " 'swapcase',\n",
       " 'title',\n",
       " 'translate',\n",
       " 'upper',\n",
       " 'zfill']"
      ]
     },
     "execution_count": 52,
     "metadata": {},
     "output_type": "execute_result"
    }
   ],
   "source": [
    "dir(\"тест\")"
   ]
  },
  {
   "cell_type": "code",
   "execution_count": 53,
   "metadata": {
    "collapsed": true
   },
   "outputs": [],
   "source": [
    "a=u\"ваsdf\""
   ]
  },
  {
   "cell_type": "code",
   "execution_count": 54,
   "metadata": {
    "collapsed": false
   },
   "outputs": [
    {
     "name": "stdout",
     "output_type": "stream",
     "text": [
      "ваsdf\n"
     ]
    }
   ],
   "source": [
    "print(a)"
   ]
  },
  {
   "cell_type": "code",
   "execution_count": 55,
   "metadata": {
    "collapsed": false
   },
   "outputs": [
    {
     "data": {
      "text/plain": [
       "unicode"
      ]
     },
     "execution_count": 55,
     "metadata": {},
     "output_type": "execute_result"
    }
   ],
   "source": [
    "type(a)"
   ]
  },
  {
   "cell_type": "code",
   "execution_count": 57,
   "metadata": {
    "collapsed": false
   },
   "outputs": [
    {
     "name": "stdout",
     "output_type": "stream",
     "text": [
      "��sdf\n"
     ]
    }
   ],
   "source": [
    "print(a.encode('koi8-r'))"
   ]
  },
  {
   "cell_type": "code",
   "execution_count": 58,
   "metadata": {
    "collapsed": false
   },
   "outputs": [
    {
     "ename": "NameError",
     "evalue": "name 'printf' is not defined",
     "output_type": "error",
     "traceback": [
      "\u001b[1;31m---------------------------------------------------------------------------\u001b[0m",
      "\u001b[1;31mNameError\u001b[0m                                 Traceback (most recent call last)",
      "\u001b[1;32m<ipython-input-58-73ea4a7b8a0e>\u001b[0m in \u001b[0;36m<module>\u001b[1;34m()\u001b[0m\n\u001b[1;32m----> 1\u001b[1;33m \u001b[0mprintf\u001b[0m\u001b[1;33m\u001b[0m\u001b[0m\n\u001b[0m",
      "\u001b[1;31mNameError\u001b[0m: name 'printf' is not defined"
     ]
    }
   ],
   "source": [
    "printf"
   ]
  },
  {
   "cell_type": "code",
   "execution_count": 61,
   "metadata": {
    "collapsed": false
   },
   "outputs": [
    {
     "name": "stdout",
     "output_type": "stream",
     "text": [
      "a=3 ыфвафыа\n"
     ]
    }
   ],
   "source": [
    "print(\"a=%d %s\" % (3, u\"ыфвафыа\"))"
   ]
  },
  {
   "cell_type": "code",
   "execution_count": 62,
   "metadata": {
    "collapsed": false
   },
   "outputs": [
    {
     "data": {
      "text/plain": [
       "'aba caba'"
      ]
     },
     "execution_count": 62,
     "metadata": {},
     "output_type": "execute_result"
    }
   ],
   "source": [
    "' '.join([\"aba\", \"caba\"])"
   ]
  },
  {
   "cell_type": "code",
   "execution_count": 63,
   "metadata": {
    "collapsed": false
   },
   "outputs": [
    {
     "data": {
      "text/plain": [
       "['sfsdf', 3]"
      ]
     },
     "execution_count": 63,
     "metadata": {},
     "output_type": "execute_result"
    }
   ],
   "source": [
    "['sfsdf',3]"
   ]
  },
  {
   "cell_type": "code",
   "execution_count": 64,
   "metadata": {
    "collapsed": true
   },
   "outputs": [],
   "source": [
    "a=['sdf','sdf']\n",
    "b=[3,3]"
   ]
  },
  {
   "cell_type": "code",
   "execution_count": 65,
   "metadata": {
    "collapsed": false
   },
   "outputs": [
    {
     "data": {
      "text/plain": [
       "['sdf', 'sdf', 3, 3]"
      ]
     },
     "execution_count": 65,
     "metadata": {},
     "output_type": "execute_result"
    }
   ],
   "source": [
    "a+b"
   ]
  },
  {
   "cell_type": "code",
   "execution_count": 67,
   "metadata": {
    "collapsed": false
   },
   "outputs": [
    {
     "data": {
      "text/plain": [
       "'sdf'"
      ]
     },
     "execution_count": 67,
     "metadata": {},
     "output_type": "execute_result"
    }
   ],
   "source": [
    "a[1]"
   ]
  },
  {
   "cell_type": "code",
   "execution_count": 75,
   "metadata": {
    "collapsed": false
   },
   "outputs": [
    {
     "data": {
      "text/plain": [
       "False"
      ]
     },
     "execution_count": 75,
     "metadata": {},
     "output_type": "execute_result"
    }
   ],
   "source": [
    "isinstance(\"f\",type(3))"
   ]
  },
  {
   "cell_type": "code",
   "execution_count": 76,
   "metadata": {
    "collapsed": false
   },
   "outputs": [
    {
     "data": {
      "text/plain": [
       "['sdf', 'sdf']"
      ]
     },
     "execution_count": 76,
     "metadata": {},
     "output_type": "execute_result"
    }
   ],
   "source": [
    "a"
   ]
  },
  {
   "cell_type": "code",
   "execution_count": 77,
   "metadata": {
    "collapsed": false
   },
   "outputs": [
    {
     "data": {
      "text/plain": [
       "True"
      ]
     },
     "execution_count": 77,
     "metadata": {},
     "output_type": "execute_result"
    }
   ],
   "source": [
    "a>0"
   ]
  },
  {
   "cell_type": "code",
   "execution_count": 78,
   "metadata": {
    "collapsed": true
   },
   "outputs": [],
   "source": [
    "v=[1,2,3,4,5,6]"
   ]
  },
  {
   "cell_type": "code",
   "execution_count": 80,
   "metadata": {
    "collapsed": false
   },
   "outputs": [
    {
     "data": {
      "text/plain": [
       "[2, 4, 6]"
      ]
     },
     "execution_count": 80,
     "metadata": {},
     "output_type": "execute_result"
    }
   ],
   "source": [
    "v[1:6:2]"
   ]
  },
  {
   "cell_type": "code",
   "execution_count": 82,
   "metadata": {
    "collapsed": false
   },
   "outputs": [
    {
     "data": {
      "text/plain": [
       "1"
      ]
     },
     "execution_count": 82,
     "metadata": {},
     "output_type": "execute_result"
    }
   ],
   "source": [
    "v[0]"
   ]
  },
  {
   "cell_type": "code",
   "execution_count": 84,
   "metadata": {
    "collapsed": false
   },
   "outputs": [
    {
     "data": {
      "text/plain": [
       "[True, True, True, True, True, True]"
      ]
     },
     "execution_count": 84,
     "metadata": {},
     "output_type": "execute_result"
    }
   ],
   "source": [
    "[a>0 for a in v]"
   ]
  },
  {
   "cell_type": "code",
   "execution_count": 86,
   "metadata": {
    "collapsed": false
   },
   "outputs": [
    {
     "data": {
      "text/plain": [
       "[1, 2, 3, 4, 5, 6]"
      ]
     },
     "execution_count": 86,
     "metadata": {},
     "output_type": "execute_result"
    }
   ],
   "source": [
    "filter(lambda x: x > 0, v)"
   ]
  },
  {
   "cell_type": "code",
   "execution_count": 87,
   "metadata": {
    "collapsed": false
   },
   "outputs": [
    {
     "data": {
      "text/plain": [
       "<function filter>"
      ]
     },
     "execution_count": 87,
     "metadata": {},
     "output_type": "execute_result"
    }
   ],
   "source": [
    "filter"
   ]
  },
  {
   "cell_type": "code",
   "execution_count": 138,
   "metadata": {
    "collapsed": false
   },
   "outputs": [],
   "source": [
    "def f(x):\n",
    "    \"\"\"\n",
    "    asfsadfsadf\n",
    "    \"\"\"\n",
    "    i = 0\n",
    "    while i <= x:\n",
    "        yield i\n",
    "        i += 1"
   ]
  },
  {
   "cell_type": "code",
   "execution_count": 95,
   "metadata": {
    "collapsed": false
   },
   "outputs": [],
   "source": [
    "for a in f(-1):\n",
    "    print a"
   ]
  },
  {
   "cell_type": "code",
   "execution_count": 96,
   "metadata": {
    "collapsed": false
   },
   "outputs": [
    {
     "data": {
      "text/plain": [
       "<function __main__.<lambda>>"
      ]
     },
     "execution_count": 96,
     "metadata": {},
     "output_type": "execute_result"
    }
   ],
   "source": [
    "lambda x: x > 0"
   ]
  },
  {
   "cell_type": "code",
   "execution_count": 97,
   "metadata": {
    "collapsed": false
   },
   "outputs": [
    {
     "data": {
      "text/plain": [
       "<function __main__.<lambda>>"
      ]
     },
     "execution_count": 97,
     "metadata": {},
     "output_type": "execute_result"
    }
   ],
   "source": [
    "lambda x: x > 0"
   ]
  },
  {
   "cell_type": "code",
   "execution_count": 98,
   "metadata": {
    "collapsed": true
   },
   "outputs": [],
   "source": [
    "f= lambda x: x > 0"
   ]
  },
  {
   "cell_type": "code",
   "execution_count": 100,
   "metadata": {
    "collapsed": false
   },
   "outputs": [
    {
     "data": {
      "text/plain": [
       "False"
      ]
     },
     "execution_count": 100,
     "metadata": {},
     "output_type": "execute_result"
    }
   ],
   "source": [
    "f(-1)"
   ]
  },
  {
   "cell_type": "code",
   "execution_count": 107,
   "metadata": {
    "collapsed": true
   },
   "outputs": [],
   "source": [
    "a = ['01sf', 1, 'sdf', 2, [4, 3, 1]]"
   ]
  },
  {
   "cell_type": "code",
   "execution_count": 108,
   "metadata": {
    "collapsed": false
   },
   "outputs": [
    {
     "data": {
      "text/plain": [
       "[1, 2, [4, 3, 1], '01sf', 'sdf']"
      ]
     },
     "execution_count": 108,
     "metadata": {},
     "output_type": "execute_result"
    }
   ],
   "source": [
    "sorted(a)"
   ]
  },
  {
   "cell_type": "code",
   "execution_count": 109,
   "metadata": {
    "collapsed": false
   },
   "outputs": [
    {
     "ename": "TypeError",
     "evalue": "object of type 'int' has no len()",
     "output_type": "error",
     "traceback": [
      "\u001b[1;31m---------------------------------------------------------------------------\u001b[0m",
      "\u001b[1;31mTypeError\u001b[0m                                 Traceback (most recent call last)",
      "\u001b[1;32m<ipython-input-109-8464b53b4cd3>\u001b[0m in \u001b[0;36m<module>\u001b[1;34m()\u001b[0m\n\u001b[1;32m----> 1\u001b[1;33m \u001b[0mlen\u001b[0m\u001b[1;33m(\u001b[0m\u001b[1;36m3\u001b[0m\u001b[1;33m)\u001b[0m\u001b[1;33m\u001b[0m\u001b[0m\n\u001b[0m",
      "\u001b[1;31mTypeError\u001b[0m: object of type 'int' has no len()"
     ]
    }
   ],
   "source": [
    "len(3)"
   ]
  },
  {
   "cell_type": "code",
   "execution_count": 110,
   "metadata": {
    "collapsed": true
   },
   "outputs": [],
   "source": [
    "a=(1,2,3)"
   ]
  },
  {
   "cell_type": "code",
   "execution_count": 112,
   "metadata": {
    "collapsed": false
   },
   "outputs": [
    {
     "ename": "NameError",
     "evalue": "name 'typle' is not defined",
     "output_type": "error",
     "traceback": [
      "\u001b[1;31m---------------------------------------------------------------------------\u001b[0m",
      "\u001b[1;31mNameError\u001b[0m                                 Traceback (most recent call last)",
      "\u001b[1;32m<ipython-input-112-bb4db01bbe39>\u001b[0m in \u001b[0;36m<module>\u001b[1;34m()\u001b[0m\n\u001b[1;32m----> 1\u001b[1;33m \u001b[0mtyple\u001b[0m\u001b[1;33m(\u001b[0m\u001b[0mlist\u001b[0m\u001b[1;33m(\u001b[0m\u001b[0ma\u001b[0m\u001b[1;33m)\u001b[0m\u001b[1;33m)\u001b[0m\u001b[1;33m\u001b[0m\u001b[0m\n\u001b[0m",
      "\u001b[1;31mNameError\u001b[0m: name 'typle' is not defined"
     ]
    }
   ],
   "source": [
    "typle(list(a))"
   ]
  },
  {
   "cell_type": "code",
   "execution_count": 113,
   "metadata": {
    "collapsed": false
   },
   "outputs": [
    {
     "ename": "SyntaxError",
     "evalue": "invalid syntax (<ipython-input-113-6f719179e65e>, line 1)",
     "output_type": "error",
     "traceback": [
      "\u001b[1;36m  File \u001b[1;32m\"<ipython-input-113-6f719179e65e>\"\u001b[1;36m, line \u001b[1;32m1\u001b[0m\n\u001b[1;33m    |\u001b[0m\n\u001b[1;37m    ^\u001b[0m\n\u001b[1;31mSyntaxError\u001b[0m\u001b[1;31m:\u001b[0m invalid syntax\n"
     ]
    }
   ],
   "source": [
    "|"
   ]
  },
  {
   "cell_type": "code",
   "execution_count": 115,
   "metadata": {
    "collapsed": false
   },
   "outputs": [
    {
     "data": {
      "text/plain": [
       "(2, 3, 1)"
      ]
     },
     "execution_count": 115,
     "metadata": {},
     "output_type": "execute_result"
    }
   ],
   "source": [
    "tuple(list([2,3,1]))"
   ]
  },
  {
   "cell_type": "code",
   "execution_count": 117,
   "metadata": {
    "collapsed": false
   },
   "outputs": [
    {
     "data": {
      "text/plain": [
       "False"
      ]
     },
     "execution_count": 117,
     "metadata": {},
     "output_type": "execute_result"
    }
   ],
   "source": [
    "2 in {1,1,1}"
   ]
  },
  {
   "cell_type": "code",
   "execution_count": 121,
   "metadata": {
    "collapsed": false
   },
   "outputs": [
    {
     "data": {
      "text/plain": [
       "6717306746141587105"
      ]
     },
     "execution_count": 121,
     "metadata": {},
     "output_type": "execute_result"
    }
   ],
   "source": [
    "hash(10**1111123)"
   ]
  },
  {
   "cell_type": "code",
   "execution_count": 122,
   "metadata": {
    "collapsed": false
   },
   "outputs": [
    {
     "data": {
      "text/plain": [
       "-5689871099655848977"
      ]
     },
     "execution_count": 122,
     "metadata": {},
     "output_type": "execute_result"
    }
   ],
   "source": [
    "hash(\"dfdfdsfasdfjasldkjf\")"
   ]
  },
  {
   "cell_type": "code",
   "execution_count": 123,
   "metadata": {
    "collapsed": false
   },
   "outputs": [
    {
     "data": {
      "text/plain": [
       "3713083796991988331"
      ]
     },
     "execution_count": 123,
     "metadata": {},
     "output_type": "execute_result"
    }
   ],
   "source": [
    "hash((3,1))"
   ]
  },
  {
   "cell_type": "code",
   "execution_count": 124,
   "metadata": {
    "collapsed": false
   },
   "outputs": [
    {
     "ename": "TypeError",
     "evalue": "unhashable type: 'list'",
     "output_type": "error",
     "traceback": [
      "\u001b[1;31m---------------------------------------------------------------------------\u001b[0m",
      "\u001b[1;31mTypeError\u001b[0m                                 Traceback (most recent call last)",
      "\u001b[1;32m<ipython-input-124-2861e60bcac3>\u001b[0m in \u001b[0;36m<module>\u001b[1;34m()\u001b[0m\n\u001b[1;32m----> 1\u001b[1;33m \u001b[0mhash\u001b[0m\u001b[1;33m(\u001b[0m\u001b[1;33m[\u001b[0m\u001b[1;36m123\u001b[0m\u001b[1;33m,\u001b[0m\u001b[1;36m1\u001b[0m\u001b[1;33m]\u001b[0m\u001b[1;33m)\u001b[0m\u001b[1;33m\u001b[0m\u001b[0m\n\u001b[0m",
      "\u001b[1;31mTypeError\u001b[0m: unhashable type: 'list'"
     ]
    }
   ],
   "source": [
    "hash([123,1])"
   ]
  },
  {
   "cell_type": "code",
   "execution_count": 125,
   "metadata": {
    "collapsed": false
   },
   "outputs": [
    {
     "ename": "SyntaxError",
     "evalue": "invalid syntax (<ipython-input-125-2bf9e9fcbbb6>, line 1)",
     "output_type": "error",
     "traceback": [
      "\u001b[1;36m  File \u001b[1;32m\"<ipython-input-125-2bf9e9fcbbb6>\"\u001b[1;36m, line \u001b[1;32m1\u001b[0m\n\u001b[1;33m    2:4\u001b[0m\n\u001b[1;37m     ^\u001b[0m\n\u001b[1;31mSyntaxError\u001b[0m\u001b[1;31m:\u001b[0m invalid syntax\n"
     ]
    }
   ],
   "source": [
    "2:4"
   ]
  },
  {
   "cell_type": "code",
   "execution_count": 126,
   "metadata": {
    "collapsed": true
   },
   "outputs": [],
   "source": [
    "df=dict()"
   ]
  },
  {
   "cell_type": "code",
   "execution_count": 127,
   "metadata": {
    "collapsed": true
   },
   "outputs": [],
   "source": [
    "df[\"afsadf\"]=\"sdf\""
   ]
  },
  {
   "cell_type": "code",
   "execution_count": 128,
   "metadata": {
    "collapsed": true
   },
   "outputs": [],
   "source": [
    "df[3]=\"sdfsdf\""
   ]
  },
  {
   "cell_type": "code",
   "execution_count": 129,
   "metadata": {
    "collapsed": false
   },
   "outputs": [
    {
     "data": {
      "text/plain": [
       "{3: 'sdfsdf', 'afsadf': 'sdf'}"
      ]
     },
     "execution_count": 129,
     "metadata": {},
     "output_type": "execute_result"
    }
   ],
   "source": [
    "df"
   ]
  },
  {
   "cell_type": "code",
   "execution_count": 130,
   "metadata": {
    "collapsed": true
   },
   "outputs": [],
   "source": [
    "df[(1)]=1"
   ]
  },
  {
   "cell_type": "code",
   "execution_count": 131,
   "metadata": {
    "collapsed": false
   },
   "outputs": [
    {
     "data": {
      "text/plain": [
       "{1: 1, 3: 'sdfsdf', 'afsadf': 'sdf'}"
      ]
     },
     "execution_count": 131,
     "metadata": {},
     "output_type": "execute_result"
    }
   ],
   "source": [
    "df"
   ]
  },
  {
   "cell_type": "code",
   "execution_count": 132,
   "metadata": {
    "collapsed": false
   },
   "outputs": [
    {
     "ename": "TypeError",
     "evalue": "unhashable type: 'list'",
     "output_type": "error",
     "traceback": [
      "\u001b[1;31m---------------------------------------------------------------------------\u001b[0m",
      "\u001b[1;31mTypeError\u001b[0m                                 Traceback (most recent call last)",
      "\u001b[1;32m<ipython-input-132-94084ff2e15c>\u001b[0m in \u001b[0;36m<module>\u001b[1;34m()\u001b[0m\n\u001b[1;32m----> 1\u001b[1;33m \u001b[0mdf\u001b[0m\u001b[1;33m[\u001b[0m\u001b[1;33m[\u001b[0m\u001b[1;36m1\u001b[0m\u001b[1;33m,\u001b[0m\u001b[1;36m2\u001b[0m\u001b[1;33m]\u001b[0m\u001b[1;33m]\u001b[0m\u001b[1;33m=\u001b[0m\u001b[1;36m3\u001b[0m\u001b[1;33m\u001b[0m\u001b[0m\n\u001b[0m",
      "\u001b[1;31mTypeError\u001b[0m: unhashable type: 'list'"
     ]
    }
   ],
   "source": [
    "df[[1,2]]=3"
   ]
  },
  {
   "cell_type": "code",
   "execution_count": 133,
   "metadata": {
    "collapsed": false
   },
   "outputs": [
    {
     "data": {
      "text/plain": [
       "0"
      ]
     },
     "execution_count": 133,
     "metadata": {},
     "output_type": "execute_result"
    }
   ],
   "source": [
    "int()"
   ]
  },
  {
   "cell_type": "code",
   "execution_count": 134,
   "metadata": {
    "collapsed": true
   },
   "outputs": [],
   "source": [
    "from collections import Counter"
   ]
  },
  {
   "cell_type": "code",
   "execution_count": 135,
   "metadata": {
    "collapsed": false
   },
   "outputs": [
    {
     "data": {
      "text/plain": [
       "Counter({1: 3, 2: 2, 3: 1, 34: 1})"
      ]
     },
     "execution_count": 135,
     "metadata": {},
     "output_type": "execute_result"
    }
   ],
   "source": [
    "Counter([1,1,2,3,1,2,34])"
   ]
  },
  {
   "cell_type": "code",
   "execution_count": 139,
   "metadata": {
    "collapsed": true
   },
   "outputs": [],
   "source": [
    "?f"
   ]
  },
  {
   "cell_type": "code",
   "execution_count": 140,
   "metadata": {
    "collapsed": true
   },
   "outputs": [],
   "source": [
    "?open"
   ]
  },
  {
   "cell_type": "code",
   "execution_count": 142,
   "metadata": {
    "collapsed": false
   },
   "outputs": [
    {
     "name": "stdout",
     "output_type": "stream",
     "text": [
      "file(name[, mode[, buffering]]) -> file object\n",
      "\n",
      "Open a file.  The mode can be 'r', 'w' or 'a' for reading (default),\n",
      "writing or appending.  The file will be created if it doesn't exist\n",
      "when opened for writing or appending; it will be truncated when\n",
      "opened for writing.  Add a 'b' to the mode for binary files.\n",
      "Add a '+' to the mode to allow simultaneous reading and writing.\n",
      "If the buffering argument is given, 0 means unbuffered, 1 means line\n",
      "buffered, and larger numbers specify the buffer size.  The preferred way\n",
      "to open a file is with the builtin open() function.\n",
      "Add a 'U' to mode to open the file for input with universal newline\n",
      "support.  Any line ending in the input file will be seen as a '\\n'\n",
      "in Python.  Also, a file so opened gains the attribute 'newlines';\n",
      "the value for this attribute is one of None (no newline read yet),\n",
      "'\\r', '\\n', '\\r\\n' or a tuple containing all the newline types seen.\n",
      "\n",
      "'U' cannot be combined with 'w' or '+' mode.\n",
      "\n"
     ]
    }
   ],
   "source": [
    "print(file.__doc__)"
   ]
  },
  {
   "cell_type": "code",
   "execution_count": 143,
   "metadata": {
    "collapsed": false
   },
   "outputs": [
    {
     "ename": "SyntaxError",
     "evalue": "unexpected EOF while parsing (<ipython-input-143-ddc821ba9266>, line 1)",
     "output_type": "error",
     "traceback": [
      "\u001b[1;36m  File \u001b[1;32m\"<ipython-input-143-ddc821ba9266>\"\u001b[1;36m, line \u001b[1;32m1\u001b[0m\n\u001b[1;33m    def f(x, y, a = 1, b = 0):\u001b[0m\n\u001b[1;37m                              ^\u001b[0m\n\u001b[1;31mSyntaxError\u001b[0m\u001b[1;31m:\u001b[0m unexpected EOF while parsing\n"
     ]
    }
   ],
   "source": [
    "def f(x, y, a = 1, b = 0):"
   ]
  },
  {
   "cell_type": "code",
   "execution_count": 145,
   "metadata": {
    "collapsed": true
   },
   "outputs": [],
   "source": [
    "from math import sin, pi"
   ]
  },
  {
   "cell_type": "code",
   "execution_count": 147,
   "metadata": {
    "collapsed": false
   },
   "outputs": [
    {
     "data": {
      "text/plain": [
       "[0.0,\n",
       " 0.8414709848078965,\n",
       " 0.9092974268256817,\n",
       " 0.1411200080598672,\n",
       " -0.7568024953079282,\n",
       " -0.9589242746631385,\n",
       " -0.27941549819892586,\n",
       " 0.6569865987187891,\n",
       " 0.9893582466233818,\n",
       " 0.4121184852417566]"
      ]
     },
     "execution_count": 147,
     "metadata": {},
     "output_type": "execute_result"
    }
   ],
   "source": [
    "map(sin, range(10))"
   ]
  },
  {
   "cell_type": "code",
   "execution_count": 148,
   "metadata": {
    "collapsed": false
   },
   "outputs": [
    {
     "data": {
      "text/plain": [
       "[(0, 5), (1, 4), (2, 3), (3, 2), (4, 1)]"
      ]
     },
     "execution_count": 148,
     "metadata": {},
     "output_type": "execute_result"
    }
   ],
   "source": [
    "zip(range(5),range(5,0,-1))"
   ]
  },
  {
   "cell_type": "code",
   "execution_count": 150,
   "metadata": {
    "collapsed": false
   },
   "outputs": [
    {
     "data": {
      "text/plain": [
       "[(1, 1), (2, 2), (3, 6)]"
      ]
     },
     "execution_count": 150,
     "metadata": {},
     "output_type": "execute_result"
    }
   ],
   "source": [
    "zip([1,2,3],[1,2,6])"
   ]
  },
  {
   "cell_type": "code",
   "execution_count": null,
   "metadata": {
    "collapsed": true
   },
   "outputs": [],
   "source": []
  }
 ],
 "metadata": {
  "kernelspec": {
   "display_name": "Python 2",
   "language": "python",
   "name": "python2"
  },
  "language_info": {
   "codemirror_mode": {
    "name": "ipython",
    "version": 2
   },
   "file_extension": ".py",
   "mimetype": "text/x-python",
   "name": "python",
   "nbconvert_exporter": "python",
   "pygments_lexer": "ipython2",
   "version": "2.7.9"
  }
 },
 "nbformat": 4,
 "nbformat_minor": 0
}
